{
 "cells": [
  {
   "cell_type": "code",
   "execution_count": null,
   "metadata": {},
   "outputs": [],
   "source": [
    "import numpy as np\n",
    "import ipyparallel as ipp\n",
    "from qp.metrics.point_estimate_metric_classes import (\n",
    "    PointSigmaIQR,\n",
    "    PointBias,\n",
    ")"
   ]
  },
  {
   "cell_type": "code",
   "execution_count": null,
   "metadata": {},
   "outputs": [],
   "source": [
    "# Generate the random numbers \n",
    "SEED = 1002330\n",
    "rng = np.random.default_rng(SEED)\n",
    "\n",
    "chunk_size = 10_000\n",
    "n_chunk = 10\n",
    "total_size = n_chunk*chunk_size\n",
    "\n",
    "estimate = rng.lognormal(mean=1.0, sigma=2, size=total_size)\n",
    "reference = rng.lognormal(mean=1.3, sigma=1.9, size=total_size)"
   ]
  },
  {
   "cell_type": "code",
   "execution_count": null,
   "metadata": {},
   "outputs": [],
   "source": [
    "#generator that yields chunks from estimate and reference\n",
    "def chunker(seq, size):\n",
    "    return (seq[pos:pos + size] for pos in range(0, len(seq), size))\n",
    "\n",
    "# create an iterator that yields chunks of chunk_size elements\n",
    "estimate_chunks = chunker(estimate, chunk_size)\n",
    "reference_chunks = chunker(reference, chunk_size)"
   ]
  },
  {
   "cell_type": "code",
   "execution_count": null,
   "metadata": {},
   "outputs": [],
   "source": [
    "# A function to pass to MPI\n",
    "def mpi_example(chunk):\n",
    "    centroids = chunk[0].accumulate(chunk[1], chunk[2])\n",
    "    return centroids"
   ]
  },
  {
   "cell_type": "code",
   "execution_count": null,
   "metadata": {},
   "outputs": [],
   "source": [
    "# Set up the data for ipyparallel\n",
    "\n",
    "# An example with PointSigmaIQR\n",
    "sigma_iqr_estimator = PointSigmaIQR()\n",
    "sigma_iqr_estimator_list = [sigma_iqr_estimator]*n_chunk\n",
    "iqr_data_chunks = [chunk for chunk in zip(sigma_iqr_estimator_list, chunker(estimate, chunk_size), chunker(reference, chunk_size))]\n",
    "\n",
    "# An example with PointBias\n",
    "point_bias_estimator = PointBias()\n",
    "point_bias_estimator_list = [point_bias_estimator]*n_chunk\n",
    "point_bias_data_chunks = [chunk for chunk in zip(point_bias_estimator_list, chunker(estimate, chunk_size), chunker(reference, chunk_size))]"
   ]
  },
  {
   "cell_type": "markdown",
   "metadata": {},
   "source": [
    "The following is a hardcoded version of the ipyparallel driver to run PointSigmaIQR in parallel"
   ]
  },
  {
   "cell_type": "code",
   "execution_count": null,
   "metadata": {},
   "outputs": [],
   "source": [
    "with ipp.Cluster(controller_ip=\"*\", engines=\"mpi\", n=4) as rc:\n",
    "    # get a broadcast_view on the cluster which is best\n",
    "    # suited for MPI style computation\n",
    "    view = rc.load_balanced_view()\n",
    "    # run the mpi_example function on all engines in parallel\n",
    "    asyncresult = view.map_async(mpi_example, iqr_data_chunks)\n",
    "    # Retrieve and print the result from the engines\n",
    "    asyncresult.wait_interactive()\n",
    "    # retrieve actual results\n",
    "    result = asyncresult.get()\n",
    "    # get and print the results\n",
    "    for i, res in enumerate(result):\n",
    "        np.array(res)\n",
    "        print(f\"{i} : {res.shape}\")\n",
    "    final = sigma_iqr_estimator.finalize(centroids=result)\n",
    "    print(final)"
   ]
  },
  {
   "cell_type": "markdown",
   "metadata": {},
   "source": [
    "Here we have a functional version of the cell above, but with the ability to run any metric/data_chunk"
   ]
  },
  {
   "cell_type": "code",
   "execution_count": null,
   "metadata": {},
   "outputs": [],
   "source": [
    "def run_parallel_metric(estimator, data_chunks):\n",
    "    with ipp.Cluster(controller_ip=\"*\", engines=\"mpi\", n=4) as rc:\n",
    "        # get a broadcast_view on the cluster which is best\n",
    "        # suited for MPI style computation\n",
    "        view = rc.load_balanced_view()\n",
    "        # run the mpi_example function on all engines in parallel\n",
    "        asyncresult = view.map_async(mpi_example, data_chunks)\n",
    "        # Retrieve and print the result from the engines\n",
    "        asyncresult.wait_interactive()\n",
    "        # retrieve actual results\n",
    "        result = asyncresult.get()\n",
    "        # get and print the results\n",
    "        for i, res in enumerate(result):\n",
    "            np.array(res)\n",
    "            print(f\"{i} : {res.shape}\")\n",
    "        final = estimator.finalize(centroids=result)\n",
    "        print(final)"
   ]
  },
  {
   "cell_type": "markdown",
   "metadata": {},
   "source": [
    "Repeating the results of the non-functional parallel PointSigmaIQR run.\n",
    "\n",
    "Plus a comparison against the direct implementation of PointSigmaIQR"
   ]
  },
  {
   "cell_type": "code",
   "execution_count": null,
   "metadata": {},
   "outputs": [],
   "source": [
    "PointSigmaIQR().evaluate(estimate, reference)"
   ]
  },
  {
   "cell_type": "code",
   "execution_count": null,
   "metadata": {},
   "outputs": [],
   "source": [
    "run_parallel_metric(PointSigmaIQR(), iqr_data_chunks)"
   ]
  },
  {
   "cell_type": "markdown",
   "metadata": {},
   "source": [
    "An example running the PointBias metric in directly and in parallel"
   ]
  },
  {
   "cell_type": "code",
   "execution_count": null,
   "metadata": {},
   "outputs": [],
   "source": [
    "PointBias().evaluate(estimate, reference)"
   ]
  },
  {
   "cell_type": "code",
   "execution_count": null,
   "metadata": {},
   "outputs": [],
   "source": [
    "run_parallel_metric(PointBias(), point_bias_data_chunks)"
   ]
  }
 ],
 "metadata": {
  "kernelspec": {
   "display_name": "Python 3 (ipykernel)",
   "language": "python",
   "name": "python3"
  },
  "language_info": {
   "codemirror_mode": {
    "name": "ipython",
    "version": 3
   },
   "file_extension": ".py",
   "mimetype": "text/x-python",
   "name": "python",
   "nbconvert_exporter": "python",
   "pygments_lexer": "ipython3",
   "version": "3.10.9"
  }
 },
 "nbformat": 4,
 "nbformat_minor": 4
}
