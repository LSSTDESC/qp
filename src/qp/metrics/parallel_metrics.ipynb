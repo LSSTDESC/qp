{
 "cells": [
  {
   "cell_type": "code",
   "execution_count": null,
   "metadata": {},
   "outputs": [],
   "source": [
    "import numpy as np\n",
    "from qp.metrics.point_estimate_metric_classes import PointSigmaIQR\n"
   ]
  },
  {
   "cell_type": "code",
   "execution_count": null,
   "metadata": {},
   "outputs": [],
   "source": [
    "SEED = 1002330\n",
    "rng = np.random.default_rng(SEED)\n",
    "\n",
    "estimate = rng.lognormal(mean=1.0, sigma=2, size=1000)\n",
    "reference = rng.lognormal(mean=1.3, sigma=1.9, size=1000)"
   ]
  },
  {
   "cell_type": "code",
   "execution_count": null,
   "metadata": {},
   "outputs": [],
   "source": [
    "PointSigmaIQR().evaluate(estimate, reference)"
   ]
  },
  {
   "cell_type": "code",
   "execution_count": null,
   "metadata": {},
   "outputs": [],
   "source": [
    "#generator that yields chunks from estimate and reference\n",
    "def chunker(seq, size):\n",
    "    return (seq[pos:pos + size] for pos in range(0, len(seq), size))\n",
    "\n",
    "# create an iterator that yields chunks of 100 elements\n",
    "estimate_chunks = chunker(estimate, 100)\n",
    "reference_chunks = chunker(reference, 100)"
   ]
  },
  {
   "cell_type": "code",
   "execution_count": null,
   "metadata": {},
   "outputs": [],
   "source": [
    "PointSigmaIQR().eval_from_iterator(estimate_chunks, reference_chunks)\n",
    "# fails as expected when we get to the `comm` and `centroid` bits in `finalize`."
   ]
  }
 ],
 "metadata": {
  "kernelspec": {
   "display_name": "qp",
   "language": "python",
   "name": "python3"
  },
  "language_info": {
   "codemirror_mode": {
    "name": "ipython",
    "version": 3
   },
   "file_extension": ".py",
   "mimetype": "text/x-python",
   "name": "python",
   "nbconvert_exporter": "python",
   "pygments_lexer": "ipython3",
   "version": "3.10.9"
  }
 },
 "nbformat": 4,
 "nbformat_minor": 2
}
