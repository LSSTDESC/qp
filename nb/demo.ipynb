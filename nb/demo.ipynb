{
 "cells": [
  {
   "cell_type": "markdown",
   "metadata": {},
   "source": [
    "# `qp` Demo\n",
    "\n",
    "_Alex Malz, Phil Marshall, Eric Charles_\n",
    "\n",
    "In this notebook we use the `qp` module to approximate some simple, standard, 1D PDFs using sets of quantiles, samples, and histograms, and assess their relative accuracy. \n",
    "We also show how such analyses can be extended to use \"composite\" PDFs made up of mixtures of standard distributions."
   ]
  },
  {
   "cell_type": "code",
   "execution_count": 1,
   "metadata": {},
   "outputs": [],
   "source": [
    "import numpy as np\n",
    "import os\n",
    "import scipy.stats as sps\n",
    "\n",
    "import matplotlib\n",
    "matplotlib.use('Agg')\n",
    "import matplotlib.pyplot as plt\n",
    "%matplotlib inline"
   ]
  },
  {
   "cell_type": "markdown",
   "metadata": {},
   "source": [
    "### Requirements\n",
    "\n",
    "To run `qp`, you will need to first install the module by following the instructions [here](https://github.com/LSSTDESC/qp/blob/u/eacharles/eac-dev-v2/docs/install.rst)."
   ]
  },
  {
   "cell_type": "code",
   "execution_count": 2,
   "metadata": {},
   "outputs": [],
   "source": [
    "import qp"
   ]
  },
  {
   "cell_type": "markdown",
   "metadata": {},
   "source": [
    "# Background: the `scipy.stats` module\n",
    "\n",
    "The `scipy.stats` module is the standard for manipulating distribtions so is a natural place to start for implementing 1D PDF parameterizations.  \n",
    "It allows you do define a wide variety of distibutions and uses `numpy` array broadcasting for efficiency."
   ]
  },
  {
   "cell_type": "markdown",
   "metadata": {},
   "source": [
    "### Gaussian (Normal) example\n",
    "\n",
    "Here are some examples of things you can do with the `scipy.stats` module, using a Gaussian or Normal distribution.\n",
    "`loc` and `scale` are the means and standard deviations of the underlying Gaussians.\n",
    "\n",
    "Note the distinction between passing arguments to `norm` and passing arguments to `pdf` to access multiple distributions and their PDF values at multiple points."
   ]
  },
  {
   "cell_type": "code",
   "execution_count": 3,
   "metadata": {},
   "outputs": [
    {
     "name": "stdout",
     "output_type": "stream",
     "text": [
      "PDF at one point for one distribution: 0.3520653267642995\n",
      "PDF at three points for one distribution: [0.35206533 0.24197072 0.1295176 ]\n",
      "PDF at one point for three distributions: [0.35206533 0.35206533 0.1295176 ]\n",
      "PDF at one different point for three distributions: [0.35206533 0.39894228 0.35206533]\n",
      "PDF at four different points for three distributions:\n",
      " [[0.35206533 0.35206533 0.1295176 ]\n",
      " [0.24197072 0.39894228 0.24197072]\n",
      " [0.1295176  0.35206533 0.35206533]\n",
      " [0.05399097 0.24197072 0.39894228]]\n",
      "PDF at four different points for three distributions: broadcast reversed\n",
      " [[0.35206533 0.24197072 0.1295176  0.05399097]\n",
      " [0.35206533 0.39894228 0.35206533 0.24197072]\n",
      " [0.1295176  0.24197072 0.35206533 0.39894228]]\n"
     ]
    }
   ],
   "source": [
    "# evaluate a single distribution's PDF at one value\n",
    "print(\"PDF at one point for one distribution:\", \n",
    "      sps.norm(loc=0, scale=1).pdf(0.5))\n",
    "\n",
    "# evaluate a single distribution's PDF at multiple value\n",
    "print(\"PDF at three points for one distribution:\", \n",
    "      sps.norm(loc=0, scale=1).pdf([0.5, 1., 1.5]))\n",
    "\n",
    "# evalute three distributions' PDFs at one shared value\n",
    "print(\"PDF at one point for three distributions:\", \n",
    "      sps.norm(loc=[0., 1., 2.], scale=1).pdf(0.5))\n",
    "\n",
    "# evalute three distributions' PDFs each at one different value\n",
    "print(\"PDF at one different point for three distributions:\", \n",
    "      sps.norm(loc=[0., 1., 2.], scale=1).pdf([0.5, 1., 1.5]))\n",
    "\n",
    "# evalute three distributions' PDFs each at four different values\n",
    "# (note the change in shape of the argument)\n",
    "print(\"PDF at four different points for three distributions:\\n\",\n",
    "      sps.norm(loc=[0., 1., 2.], scale=1).pdf([[0.5],[1.],[1.5],[2]]))\n",
    "\n",
    "# evalute three distributions' PDFs at each of four different values\n",
    "# (note the change in shape of the argument)\n",
    "print(\"PDF at four different points for three distributions: broadcast reversed\\n\",\n",
    "      sps.norm(loc=[[0.], [1.], [2.]], scale=1).pdf([0.5,1.,1.5,2]))\n"
   ]
  },
  {
   "cell_type": "markdown",
   "metadata": {},
   "source": [
    "## The `scipy.stats` classes\n",
    "\n",
    "In the `scipy.stats` module, all of the distributions are sub-classes of `scipy.stats.rv_continuous`.  \n",
    "You make an object of a particular sub-type, and then 'freeze' it by passing it shape parameters."
   ]
  },
  {
   "cell_type": "code",
   "execution_count": 4,
   "metadata": {},
   "outputs": [
    {
     "name": "stdout",
     "output_type": "stream",
     "text": [
      "This is the generic normal distribution class:  <class 'scipy.stats._continuous_distns.norm_gen'>\n",
      "This is an instance of the generic normal distribution class <scipy.stats._continuous_distns.norm_gen object at 0x7fd6b870c160>\n",
      "This is a frozen normal distribution, with specific paramters <scipy.stats._distn_infrastructure.rv_frozen object at 0x7fd6b870c5b0> {'loc': 0, 'scale': 1}\n",
      "The frozen object know what generic distribution it comes from <scipy.stats._continuous_distns.norm_gen object at 0x7fd66abc9040>\n"
     ]
    }
   ],
   "source": [
    "print(\"This is the generic normal distribution class: \", \n",
    "      sps._continuous_distns.norm_gen)\n",
    "\n",
    "ng = sps._continuous_distns.norm_gen()\n",
    "print(\"This is an instance of the generic normal distribution class\", \n",
    "      ng)\n",
    "\n",
    "norm_sp = ng(loc=0, scale=1)\n",
    "print(\"This is a frozen normal distribution, with specific paramters\", \n",
    "      norm_sp, norm_sp.kwds)\n",
    "print(\"The frozen object know what generic distribution it comes from\", \n",
    "      norm_sp.dist)"
   ]
  },
  {
   "cell_type": "markdown",
   "metadata": {},
   "source": [
    "## Properties of distributions\n",
    "\n",
    "`scipy.stats` lets you evaluate multiple properties of distributions.  These include:\n",
    "1. pdf: Probability Density Function\n",
    "2. cdf: Cumulative Distribution Function\n",
    "3. ppf: Percent Point Function (Inverse of CDF)\n",
    "4. sf: Survival Function (1-CDF)\n",
    "5. isf: Inverse Survival Function (Inverse of SF)\n",
    "6. rvs: Random Variates (i.e., sampled values)\n",
    "7. stats: Return mean, variance, optionally: (Fisher’s) skew, or (Fisher’s) kurtosis\n",
    "8. moment: non-central moments of the distribution"
   ]
  },
  {
   "cell_type": "code",
   "execution_count": 5,
   "metadata": {},
   "outputs": [
    {
     "name": "stdout",
     "output_type": "stream",
     "text": [
      "PDF =  0.3520653267642995\n",
      "CDF =  0.6914624612740131\n",
      "PPF =  0.2533471031357997\n",
      "SF  =  0.2742531177500736\n",
      "ISF =  0.0\n",
      "RVS =  -0.1331918386344051\n",
      "stats =  (array(0.), array(1.))\n",
      "M2  =  1.0\n"
     ]
    }
   ],
   "source": [
    "print(\"PDF = \", norm_sp.pdf(0.5))  \n",
    "print(\"CDF = \", norm_sp.cdf(0.5))\n",
    "print(\"PPF = \", norm_sp.ppf(0.6))\n",
    "print(\"SF  = \", norm_sp.sf(0.6))\n",
    "print(\"ISF = \", norm_sp.isf(0.5))\n",
    "print(\"RVS = \", norm_sp.rvs())\n",
    "print(\"stats = \", norm_sp.stats())\n",
    "print(\"M2  = \", norm_sp.moment(2))"
   ]
  },
  {
   "cell_type": "markdown",
   "metadata": {},
   "source": [
    "# `qp` parameterizations and visualization functionality\n",
    "\n",
    "The next part of this notebook shows how we can extend the functionality of `scipy.stats` to implement distributions that are based on parameterizations of 1D PDFs, like histograms, interpolations, splines, or mixture models."
   ]
  },
  {
   "cell_type": "markdown",
   "metadata": {},
   "source": [
    "## Parameterizations from `scipy.stats`\n",
    "\n",
    "`qp` automatically generates classes for all of the `scipy.stats.rv_continuous` distributions, providing feed-through access to all `scipy.stats.rv_continuous` objects but adds on additional attributes and methods specific to parameterization conversions."
   ]
  },
  {
   "cell_type": "code",
   "execution_count": 6,
   "metadata": {
    "scrolled": true
   },
   "outputs": [
    {
     "data": {
      "text/plain": [
       "odict_keys(['alpha', 'anglit', 'arcsine', 'argus', 'beta', 'betaprime', 'bradford', 'burr', 'burr12', 'cauchy', 'chi', 'chi2', 'cosine', 'crystalball', 'dgamma', 'dweibull', 'erlang', 'expon', 'exponnorm', 'exponpow', 'exponweib', 'f', 'fatiguelife', 'fisk', 'foldcauchy', 'foldnorm', 'gamma', 'gausshyper', 'genexpon', 'genextreme', 'gengamma', 'genhalflogistic', 'genhyperbolic', 'geninvgauss', 'genlogistic', 'gennorm', 'genpareto', 'gilbrat', 'gompertz', 'gumbel_l', 'gumbel_r', 'halfcauchy', 'halfgennorm', 'halflogistic', 'halfnorm', 'hypsecant', 'invgamma', 'invgauss', 'invweibull', 'johnsonsb', 'johnsonsu', 'kappa3', 'kappa4', 'ksone', 'kstwo', 'kstwobign', 'laplace', 'laplace_asymmetric', 'levy', 'levy_l', 'levy_stable', 'loggamma', 'logistic', 'loglaplace', 'lognorm', 'loguniform', 'lomax', 'maxwell', 'mielke', 'moyal', 'nakagami', 'ncf', 'nct', 'ncx2', 'norm', 'norminvgauss', 'pareto', 'pearson3', 'powerlaw', 'powerlognorm', 'powernorm', 'rayleigh', 'rdist', 'recipinvgauss', 'reciprocal', 'rice', 'semicircular', 'skewcauchy', 'skewnorm', 'studentized_range', 't', 'trapezoid', 'trapz', 'triang', 'truncexpon', 'truncnorm', 'tukeylambda', 'uniform', 'vonmises', 'vonmises_line', 'wald', 'weibull_max', 'weibull_min', 'wrapcauchy', 'spline', 'hist', 'interp', 'interp_irregular', 'quant', 'quant_piecewise', 'mixmod', 'sparse'])"
      ]
     },
     "execution_count": 6,
     "metadata": {},
     "output_type": "execute_result"
    }
   ],
   "source": [
    "qp.stats.keys()"
   ]
  },
  {
   "cell_type": "code",
   "execution_count": 7,
   "metadata": {},
   "outputs": [
    {
     "name": "stdout",
     "output_type": "stream",
     "text": [
      "Help on class lognorm in module qp.factory:\n",
      "\n",
      "class lognorm(qp.pdf_gen.Pdf_gen_wrap, scipy.stats._continuous_distns.lognorm_gen)\n",
      " |  lognorm(*args, **kwargs)\n",
      " |  \n",
      " |  Mixin class to extend `scipy.stats.rv_continuous` with\n",
      " |  information needed for `qp` for analytic distributions.\n",
      " |  \n",
      " |  Method resolution order:\n",
      " |      lognorm\n",
      " |      qp.pdf_gen.Pdf_gen_wrap\n",
      " |      qp.pdf_gen.Pdf_gen\n",
      " |      scipy.stats._continuous_distns.lognorm_gen\n",
      " |      scipy.stats._distn_infrastructure.rv_continuous\n",
      " |      scipy.stats._distn_infrastructure.rv_generic\n",
      " |      builtins.object\n",
      " |  \n",
      " |  Methods defined here:\n",
      " |  \n",
      " |  freeze = _my_freeze(self, *args, **kwds)\n",
      " |  \n",
      " |  moment = _moment_fix(self, n, *args, **kwds)\n",
      " |  \n",
      " |  ----------------------------------------------------------------------\n",
      " |  Data and other attributes defined here:\n",
      " |  \n",
      " |  name = 'lognorm'\n",
      " |  \n",
      " |  version = 0\n",
      " |  \n",
      " |  ----------------------------------------------------------------------\n",
      " |  Methods inherited from qp.pdf_gen.Pdf_gen_wrap:\n",
      " |  \n",
      " |  __init__(self, *args, **kwargs)\n",
      " |      C'tor\n",
      " |  \n",
      " |  ----------------------------------------------------------------------\n",
      " |  Class methods inherited from qp.pdf_gen.Pdf_gen_wrap:\n",
      " |  \n",
      " |  add_mappings() from builtins.type\n",
      " |      Add this classes mappings to the conversion dictionary\n",
      " |  \n",
      " |  ----------------------------------------------------------------------\n",
      " |  Class methods inherited from qp.pdf_gen.Pdf_gen:\n",
      " |  \n",
      " |  add_method_dicts() from builtins.type\n",
      " |      Add empty method dicts\n",
      " |  \n",
      " |  create(**kwds) from builtins.type\n",
      " |      Create and return a `scipy.stats.rv_frozen` object using the\n",
      " |      keyword arguemntets provided\n",
      " |  \n",
      " |  create_gen(**kwds) from builtins.type\n",
      " |      Create and return a `scipy.stats.rv_continuous` object using the\n",
      " |      keyword arguemntets provided\n",
      " |  \n",
      " |  creation_method(method=None) from builtins.type\n",
      " |      Return the method used to create a PDF of this type\n",
      " |  \n",
      " |  extraction_method(method=None) from builtins.type\n",
      " |      Return the method used to extract data to create a PDF of this type\n",
      " |  \n",
      " |  plot(pdf, **kwargs) from builtins.type\n",
      " |      Plot the pdf as a curve\n",
      " |  \n",
      " |  plot_native(pdf, **kwargs) from builtins.type\n",
      " |      Plot the PDF in a way that is particular to this type of distibution\n",
      " |      \n",
      " |      This defaults to plotting it as a curve, but this can be overwritten\n",
      " |  \n",
      " |  print_method_maps(stream=<ipykernel.iostream.OutStream object at 0x7fd762d39790>) from builtins.type\n",
      " |      Print the maps showing the methods\n",
      " |  \n",
      " |  reader_method(version=None) from builtins.type\n",
      " |      Return the method used to convert data read from a file PDF of this type\n",
      " |  \n",
      " |  ----------------------------------------------------------------------\n",
      " |  Readonly properties inherited from qp.pdf_gen.Pdf_gen:\n",
      " |  \n",
      " |  metadata\n",
      " |      Return the metadata for this set of PDFs\n",
      " |  \n",
      " |  objdata\n",
      " |      Return the object data for this set of PDFs\n",
      " |  \n",
      " |  ----------------------------------------------------------------------\n",
      " |  Data descriptors inherited from qp.pdf_gen.Pdf_gen:\n",
      " |  \n",
      " |  __dict__\n",
      " |      dictionary for instance variables (if defined)\n",
      " |  \n",
      " |  __weakref__\n",
      " |      list of weak references to the object (if defined)\n",
      " |  \n",
      " |  ----------------------------------------------------------------------\n",
      " |  Methods inherited from scipy.stats._continuous_distns.lognorm_gen:\n",
      " |  \n",
      " |  fit = wrapper(self, *args, **kwds)\n",
      " |      # if fit method is overridden only for MLE and doesn't specify what to do\n",
      " |      # if method == 'mm', this decorator calls generic implementation\n",
      " |  \n",
      " |  ----------------------------------------------------------------------\n",
      " |  Methods inherited from scipy.stats._distn_infrastructure.rv_continuous:\n",
      " |  \n",
      " |  __getstate__(self)\n",
      " |  \n",
      " |  cdf(self, x, *args, **kwds)\n",
      " |      Cumulative distribution function of the given RV.\n",
      " |      \n",
      " |      Parameters\n",
      " |      ----------\n",
      " |      x : array_like\n",
      " |          quantiles\n",
      " |      arg1, arg2, arg3,... : array_like\n",
      " |          The shape parameter(s) for the distribution (see docstring of the\n",
      " |          instance object for more information)\n",
      " |      loc : array_like, optional\n",
      " |          location parameter (default=0)\n",
      " |      scale : array_like, optional\n",
      " |          scale parameter (default=1)\n",
      " |      \n",
      " |      Returns\n",
      " |      -------\n",
      " |      cdf : ndarray\n",
      " |          Cumulative distribution function evaluated at `x`\n",
      " |  \n",
      " |  expect(self, func=None, args=(), loc=0, scale=1, lb=None, ub=None, conditional=False, **kwds)\n",
      " |      Calculate expected value of a function with respect to the\n",
      " |      distribution by numerical integration.\n",
      " |      \n",
      " |      The expected value of a function ``f(x)`` with respect to a\n",
      " |      distribution ``dist`` is defined as::\n",
      " |      \n",
      " |                  ub\n",
      " |          E[f(x)] = Integral(f(x) * dist.pdf(x)),\n",
      " |                  lb\n",
      " |      \n",
      " |      where ``ub`` and ``lb`` are arguments and ``x`` has the ``dist.pdf(x)``\n",
      " |      distribution. If the bounds ``lb`` and ``ub`` correspond to the\n",
      " |      support of the distribution, e.g. ``[-inf, inf]`` in the default\n",
      " |      case, then the integral is the unrestricted expectation of ``f(x)``.\n",
      " |      Also, the function ``f(x)`` may be defined such that ``f(x)`` is ``0``\n",
      " |      outside a finite interval in which case the expectation is\n",
      " |      calculated within the finite range ``[lb, ub]``.\n",
      " |      \n",
      " |      Parameters\n",
      " |      ----------\n",
      " |      func : callable, optional\n",
      " |          Function for which integral is calculated. Takes only one argument.\n",
      " |          The default is the identity mapping f(x) = x.\n",
      " |      args : tuple, optional\n",
      " |          Shape parameters of the distribution.\n",
      " |      loc : float, optional\n",
      " |          Location parameter (default=0).\n",
      " |      scale : float, optional\n",
      " |          Scale parameter (default=1).\n",
      " |      lb, ub : scalar, optional\n",
      " |          Lower and upper bound for integration. Default is set to the\n",
      " |          support of the distribution.\n",
      " |      conditional : bool, optional\n",
      " |          If True, the integral is corrected by the conditional probability\n",
      " |          of the integration interval.  The return value is the expectation\n",
      " |          of the function, conditional on being in the given interval.\n",
      " |          Default is False.\n",
      " |      \n",
      " |      Additional keyword arguments are passed to the integration routine.\n",
      " |      \n",
      " |      Returns\n",
      " |      -------\n",
      " |      expect : float\n",
      " |          The calculated expected value.\n",
      " |      \n",
      " |      Notes\n",
      " |      -----\n",
      " |      The integration behavior of this function is inherited from\n",
      " |      `scipy.integrate.quad`. Neither this function nor\n",
      " |      `scipy.integrate.quad` can verify whether the integral exists or is\n",
      " |      finite. For example ``cauchy(0).mean()`` returns ``np.nan`` and\n",
      " |      ``cauchy(0).expect()`` returns ``0.0``.\n",
      " |      \n",
      " |      The function is not vectorized.\n",
      " |      \n",
      " |      Examples\n",
      " |      --------\n",
      " |      \n",
      " |      To understand the effect of the bounds of integration consider\n",
      " |      \n",
      " |      >>> from scipy.stats import expon\n",
      " |      >>> expon(1).expect(lambda x: 1, lb=0.0, ub=2.0)\n",
      " |      0.6321205588285578\n",
      " |      \n",
      " |      This is close to\n",
      " |      \n",
      " |      >>> expon(1).cdf(2.0) - expon(1).cdf(0.0)\n",
      " |      0.6321205588285577\n",
      " |      \n",
      " |      If ``conditional=True``\n",
      " |      \n",
      " |      >>> expon(1).expect(lambda x: 1, lb=0.0, ub=2.0, conditional=True)\n",
      " |      1.0000000000000002\n",
      " |      \n",
      " |      The slight deviation from 1 is due to numerical integration.\n",
      " |  \n",
      " |  fit_loc_scale(self, data, *args)\n",
      " |      Estimate loc and scale parameters from data using 1st and 2nd moments.\n",
      " |      \n",
      " |      Parameters\n",
      " |      ----------\n",
      " |      data : array_like\n",
      " |          Data to fit.\n",
      " |      arg1, arg2, arg3,... : array_like\n",
      " |          The shape parameter(s) for the distribution (see docstring of the\n",
      " |          instance object for more information).\n",
      " |      \n",
      " |      Returns\n",
      " |      -------\n",
      " |      Lhat : float\n",
      " |          Estimated location parameter for the data.\n",
      " |      Shat : float\n",
      " |          Estimated scale parameter for the data.\n",
      " |  \n",
      " |  isf(self, q, *args, **kwds)\n",
      " |      Inverse survival function (inverse of `sf`) at q of the given RV.\n",
      " |      \n",
      " |      Parameters\n",
      " |      ----------\n",
      " |      q : array_like\n",
      " |          upper tail probability\n",
      " |      arg1, arg2, arg3,... : array_like\n",
      " |          The shape parameter(s) for the distribution (see docstring of the\n",
      " |          instance object for more information)\n",
      " |      loc : array_like, optional\n",
      " |          location parameter (default=0)\n",
      " |      scale : array_like, optional\n",
      " |          scale parameter (default=1)\n",
      " |      \n",
      " |      Returns\n",
      " |      -------\n",
      " |      x : ndarray or scalar\n",
      " |          Quantile corresponding to the upper tail probability q.\n",
      " |  \n",
      " |  logcdf(self, x, *args, **kwds)\n",
      " |      Log of the cumulative distribution function at x of the given RV.\n",
      " |      \n",
      " |      Parameters\n",
      " |      ----------\n",
      " |      x : array_like\n",
      " |          quantiles\n",
      " |      arg1, arg2, arg3,... : array_like\n",
      " |          The shape parameter(s) for the distribution (see docstring of the\n",
      " |          instance object for more information)\n",
      " |      loc : array_like, optional\n",
      " |          location parameter (default=0)\n",
      " |      scale : array_like, optional\n",
      " |          scale parameter (default=1)\n",
      " |      \n",
      " |      Returns\n",
      " |      -------\n",
      " |      logcdf : array_like\n",
      " |          Log of the cumulative distribution function evaluated at x\n",
      " |  \n",
      " |  logpdf(self, x, *args, **kwds)\n",
      " |      Log of the probability density function at x of the given RV.\n",
      " |      \n",
      " |      This uses a more numerically accurate calculation if available.\n",
      " |      \n",
      " |      Parameters\n",
      " |      ----------\n",
      " |      x : array_like\n",
      " |          quantiles\n",
      " |      arg1, arg2, arg3,... : array_like\n",
      " |          The shape parameter(s) for the distribution (see docstring of the\n",
      " |          instance object for more information)\n",
      " |      loc : array_like, optional\n",
      " |          location parameter (default=0)\n",
      " |      scale : array_like, optional\n",
      " |          scale parameter (default=1)\n",
      " |      \n",
      " |      Returns\n",
      " |      -------\n",
      " |      logpdf : array_like\n",
      " |          Log of the probability density function evaluated at x\n",
      " |  \n",
      " |  logsf(self, x, *args, **kwds)\n",
      " |      Log of the survival function of the given RV.\n",
      " |      \n",
      " |      Returns the log of the \"survival function,\" defined as (1 - `cdf`),\n",
      " |      evaluated at `x`.\n",
      " |      \n",
      " |      Parameters\n",
      " |      ----------\n",
      " |      x : array_like\n",
      " |          quantiles\n",
      " |      arg1, arg2, arg3,... : array_like\n",
      " |          The shape parameter(s) for the distribution (see docstring of the\n",
      " |          instance object for more information)\n",
      " |      loc : array_like, optional\n",
      " |          location parameter (default=0)\n",
      " |      scale : array_like, optional\n",
      " |          scale parameter (default=1)\n",
      " |      \n",
      " |      Returns\n",
      " |      -------\n",
      " |      logsf : ndarray\n",
      " |          Log of the survival function evaluated at `x`.\n",
      " |  \n",
      " |  nnlf(self, theta, x)\n",
      " |      Negative loglikelihood function.\n",
      " |      \n",
      " |      Notes\n",
      " |      -----\n",
      " |      This is ``-sum(log pdf(x, theta), axis=0)`` where `theta` are the\n",
      " |      parameters (including loc and scale).\n",
      " |  \n",
      " |  pdf(self, x, *args, **kwds)\n",
      " |      Probability density function at x of the given RV.\n",
      " |      \n",
      " |      Parameters\n",
      " |      ----------\n",
      " |      x : array_like\n",
      " |          quantiles\n",
      " |      arg1, arg2, arg3,... : array_like\n",
      " |          The shape parameter(s) for the distribution (see docstring of the\n",
      " |          instance object for more information)\n",
      " |      loc : array_like, optional\n",
      " |          location parameter (default=0)\n",
      " |      scale : array_like, optional\n",
      " |          scale parameter (default=1)\n",
      " |      \n",
      " |      Returns\n",
      " |      -------\n",
      " |      pdf : ndarray\n",
      " |          Probability density function evaluated at x\n",
      " |  \n",
      " |  ppf(self, q, *args, **kwds)\n",
      " |      Percent point function (inverse of `cdf`) at q of the given RV.\n",
      " |      \n",
      " |      Parameters\n",
      " |      ----------\n",
      " |      q : array_like\n",
      " |          lower tail probability\n",
      " |      arg1, arg2, arg3,... : array_like\n",
      " |          The shape parameter(s) for the distribution (see docstring of the\n",
      " |          instance object for more information)\n",
      " |      loc : array_like, optional\n",
      " |          location parameter (default=0)\n",
      " |      scale : array_like, optional\n",
      " |          scale parameter (default=1)\n",
      " |      \n",
      " |      Returns\n",
      " |      -------\n",
      " |      x : array_like\n",
      " |          quantile corresponding to the lower tail probability q.\n",
      " |  \n",
      " |  sf(self, x, *args, **kwds)\n",
      " |      Survival function (1 - `cdf`) at x of the given RV.\n",
      " |      \n",
      " |      Parameters\n",
      " |      ----------\n",
      " |      x : array_like\n",
      " |          quantiles\n",
      " |      arg1, arg2, arg3,... : array_like\n",
      " |          The shape parameter(s) for the distribution (see docstring of the\n",
      " |          instance object for more information)\n",
      " |      loc : array_like, optional\n",
      " |          location parameter (default=0)\n",
      " |      scale : array_like, optional\n",
      " |          scale parameter (default=1)\n",
      " |      \n",
      " |      Returns\n",
      " |      -------\n",
      " |      sf : array_like\n",
      " |          Survival function evaluated at x\n",
      " |  \n",
      " |  ----------------------------------------------------------------------\n",
      " |  Methods inherited from scipy.stats._distn_infrastructure.rv_generic:\n",
      " |  \n",
      " |  __call__(self, *args, **kwds)\n",
      " |      Freeze the distribution for the given arguments.\n",
      " |      \n",
      " |      Parameters\n",
      " |      ----------\n",
      " |      arg1, arg2, arg3,... : array_like\n",
      " |          The shape parameter(s) for the distribution.  Should include all\n",
      " |          the non-optional arguments, may include ``loc`` and ``scale``.\n",
      " |      \n",
      " |      Returns\n",
      " |      -------\n",
      " |      rv_frozen : rv_frozen instance\n",
      " |          The frozen distribution.\n",
      " |  \n",
      " |  __setstate__(self, state)\n",
      " |  \n",
      " |  entropy(self, *args, **kwds)\n",
      " |      Differential entropy of the RV.\n",
      " |      \n",
      " |      Parameters\n",
      " |      ----------\n",
      " |      arg1, arg2, arg3,... : array_like\n",
      " |          The shape parameter(s) for the distribution (see docstring of the\n",
      " |          instance object for more information).\n",
      " |      loc : array_like, optional\n",
      " |          Location parameter (default=0).\n",
      " |      scale : array_like, optional  (continuous distributions only).\n",
      " |          Scale parameter (default=1).\n",
      " |      \n",
      " |      Notes\n",
      " |      -----\n",
      " |      Entropy is defined base `e`:\n",
      " |      \n",
      " |      >>> drv = rv_discrete(values=((0, 1), (0.5, 0.5)))\n",
      " |      >>> np.allclose(drv.entropy(), np.log(2.0))\n",
      " |      True\n",
      " |  \n",
      " |  interval(self, alpha, *args, **kwds)\n",
      " |      Confidence interval with equal areas around the median.\n",
      " |      \n",
      " |      Parameters\n",
      " |      ----------\n",
      " |      alpha : array_like of float\n",
      " |          Probability that an rv will be drawn from the returned range.\n",
      " |          Each value should be in the range [0, 1].\n",
      " |      arg1, arg2, ... : array_like\n",
      " |          The shape parameter(s) for the distribution (see docstring of the\n",
      " |          instance object for more information).\n",
      " |      loc : array_like, optional\n",
      " |          location parameter, Default is 0.\n",
      " |      scale : array_like, optional\n",
      " |          scale parameter, Default is 1.\n",
      " |      \n",
      " |      Returns\n",
      " |      -------\n",
      " |      a, b : ndarray of float\n",
      " |          end-points of range that contain ``100 * alpha %`` of the rv's\n",
      " |          possible values.\n",
      " |  \n",
      " |  mean(self, *args, **kwds)\n",
      " |      Mean of the distribution.\n",
      " |      \n",
      " |      Parameters\n",
      " |      ----------\n",
      " |      arg1, arg2, arg3,... : array_like\n",
      " |          The shape parameter(s) for the distribution (see docstring of the\n",
      " |          instance object for more information)\n",
      " |      loc : array_like, optional\n",
      " |          location parameter (default=0)\n",
      " |      scale : array_like, optional\n",
      " |          scale parameter (default=1)\n",
      " |      \n",
      " |      Returns\n",
      " |      -------\n",
      " |      mean : float\n",
      " |          the mean of the distribution\n",
      " |  \n",
      " |  median(self, *args, **kwds)\n",
      " |      Median of the distribution.\n",
      " |      \n",
      " |      Parameters\n",
      " |      ----------\n",
      " |      arg1, arg2, arg3,... : array_like\n",
      " |          The shape parameter(s) for the distribution (see docstring of the\n",
      " |          instance object for more information)\n",
      " |      loc : array_like, optional\n",
      " |          Location parameter, Default is 0.\n",
      " |      scale : array_like, optional\n",
      " |          Scale parameter, Default is 1.\n",
      " |      \n",
      " |      Returns\n",
      " |      -------\n",
      " |      median : float\n",
      " |          The median of the distribution.\n",
      " |      \n",
      " |      See Also\n",
      " |      --------\n",
      " |      rv_discrete.ppf\n",
      " |          Inverse of the CDF\n",
      " |  \n",
      " |  rvs(self, *args, **kwds)\n",
      " |      Random variates of given type.\n",
      " |      \n",
      " |      Parameters\n",
      " |      ----------\n",
      " |      arg1, arg2, arg3,... : array_like\n",
      " |          The shape parameter(s) for the distribution (see docstring of the\n",
      " |          instance object for more information).\n",
      " |      loc : array_like, optional\n",
      " |          Location parameter (default=0).\n",
      " |      scale : array_like, optional\n",
      " |          Scale parameter (default=1).\n",
      " |      size : int or tuple of ints, optional\n",
      " |          Defining number of random variates (default is 1).\n",
      " |      random_state : {None, int, `numpy.random.Generator`,\n",
      " |                      `numpy.random.RandomState`}, optional\n",
      " |      \n",
      " |          If `seed` is None (or `np.random`), the `numpy.random.RandomState`\n",
      " |          singleton is used.\n",
      " |          If `seed` is an int, a new ``RandomState`` instance is used,\n",
      " |          seeded with `seed`.\n",
      " |          If `seed` is already a ``Generator`` or ``RandomState`` instance\n",
      " |          then that instance is used.\n",
      " |      \n",
      " |      Returns\n",
      " |      -------\n",
      " |      rvs : ndarray or scalar\n",
      " |          Random variates of given `size`.\n",
      " |  \n",
      " |  stats(self, *args, **kwds)\n",
      " |      Some statistics of the given RV.\n",
      " |      \n",
      " |      Parameters\n",
      " |      ----------\n",
      " |      arg1, arg2, arg3,... : array_like\n",
      " |          The shape parameter(s) for the distribution (see docstring of the\n",
      " |          instance object for more information)\n",
      " |      loc : array_like, optional\n",
      " |          location parameter (default=0)\n",
      " |      scale : array_like, optional (continuous RVs only)\n",
      " |          scale parameter (default=1)\n",
      " |      moments : str, optional\n",
      " |          composed of letters ['mvsk'] defining which moments to compute:\n",
      " |          'm' = mean,\n",
      " |          'v' = variance,\n",
      " |          's' = (Fisher's) skew,\n",
      " |          'k' = (Fisher's) kurtosis.\n",
      " |          (default is 'mv')\n",
      " |      \n",
      " |      Returns\n",
      " |      -------\n",
      " |      stats : sequence\n",
      " |          of requested moments.\n",
      " |  \n",
      " |  std(self, *args, **kwds)\n",
      " |      Standard deviation of the distribution.\n",
      " |      \n",
      " |      Parameters\n",
      " |      ----------\n",
      " |      arg1, arg2, arg3,... : array_like\n",
      " |          The shape parameter(s) for the distribution (see docstring of the\n",
      " |          instance object for more information)\n",
      " |      loc : array_like, optional\n",
      " |          location parameter (default=0)\n",
      " |      scale : array_like, optional\n",
      " |          scale parameter (default=1)\n",
      " |      \n",
      " |      Returns\n",
      " |      -------\n",
      " |      std : float\n",
      " |          standard deviation of the distribution\n",
      " |  \n",
      " |  support(self, *args, **kwargs)\n",
      " |      Support of the distribution.\n",
      " |      \n",
      " |      Parameters\n",
      " |      ----------\n",
      " |      arg1, arg2, ... : array_like\n",
      " |          The shape parameter(s) for the distribution (see docstring of the\n",
      " |          instance object for more information).\n",
      " |      loc : array_like, optional\n",
      " |          location parameter, Default is 0.\n",
      " |      scale : array_like, optional\n",
      " |          scale parameter, Default is 1.\n",
      " |      \n",
      " |      Returns\n",
      " |      -------\n",
      " |      a, b : array_like\n",
      " |          end-points of the distribution's support.\n",
      " |  \n",
      " |  var(self, *args, **kwds)\n",
      " |      Variance of the distribution.\n",
      " |      \n",
      " |      Parameters\n",
      " |      ----------\n",
      " |      arg1, arg2, arg3,... : array_like\n",
      " |          The shape parameter(s) for the distribution (see docstring of the\n",
      " |          instance object for more information)\n",
      " |      loc : array_like, optional\n",
      " |          location parameter (default=0)\n",
      " |      scale : array_like, optional\n",
      " |          scale parameter (default=1)\n",
      " |      \n",
      " |      Returns\n",
      " |      -------\n",
      " |      var : float\n",
      " |          the variance of the distribution\n",
      " |  \n",
      " |  ----------------------------------------------------------------------\n",
      " |  Data descriptors inherited from scipy.stats._distn_infrastructure.rv_generic:\n",
      " |  \n",
      " |  random_state\n",
      " |      Get or set the generator object for generating random variates.\n",
      " |      \n",
      " |      If `seed` is None (or `np.random`), the `numpy.random.RandomState`\n",
      " |      singleton is used.\n",
      " |      If `seed` is an int, a new ``RandomState`` instance is used,\n",
      " |      seeded with `seed`.\n",
      " |      If `seed` is already a ``Generator`` or ``RandomState`` instance then\n",
      " |      that instance is used.\n",
      "\n"
     ]
    }
   ],
   "source": [
    "help(qp.stats.lognorm_gen)"
   ]
  },
  {
   "cell_type": "code",
   "execution_count": 8,
   "metadata": {},
   "outputs": [
    {
     "name": "stdout",
     "output_type": "stream",
     "text": [
      "Help on method create in module qp.pdf_gen:\n",
      "\n",
      "create(**kwds) method of builtins.type instance\n",
      "    Create and return a `scipy.stats.rv_frozen` object using the\n",
      "    keyword arguemntets provided\n",
      "\n"
     ]
    }
   ],
   "source": [
    "help(qp.stats.lognorm)"
   ]
  },
  {
   "cell_type": "markdown",
   "metadata": {},
   "source": [
    "## Native plotting\n",
    "\n",
    "If you have a single distribution you can plot it, the `qp.plotting.plot_native` function will find a nice way to represent the data used to construct the distribution."
   ]
  },
  {
   "cell_type": "code",
   "execution_count": 9,
   "metadata": {},
   "outputs": [
    {
     "data": {
      "image/png": "[encoded data removed]",
      "text/plain": [
       "<Figure size 432x288 with 1 Axes>"
      ]
     },
     "metadata": {
      "needs_background": "light"
     },
     "output_type": "display_data"
    }
   ],
   "source": [
    "loc1 = np.array([[0]])\n",
    "scale1 = np.array([[1]])\n",
    "norm_dist1 = qp.stats.norm(loc=loc1, scale=scale1)\n",
    "fig, axes = qp.plotting.plot_native(norm_dist1, xlim=(-5., 5.))"
   ]
  },
  {
   "cell_type": "code",
   "execution_count": 10,
   "metadata": {},
   "outputs": [],
   "source": [
    "# fig, axes = qp.stats.norm.plot_native(norm_dist1, xlim=(-5., 5.))"
   ]
  },
  {
   "cell_type": "markdown",
   "metadata": {},
   "source": [
    "## `qp` histogram (piecewise constant) parameterization\n",
    "\n",
    "This represents a set of distributions made by interpolating a set of histograms with shared binning.\n",
    "To construct this you need to give the bin edges (shape=(N)) and the bin values (shape=(npdf, N-1)).\n",
    "\n",
    "Note that the native visual representation is different from the Normal distribution."
   ]
  },
  {
   "cell_type": "code",
   "execution_count": 11,
   "metadata": {},
   "outputs": [
    {
     "data": {
      "image/png": "[encoded data removed]",
      "text/plain": [
       "<Figure size 432x288 with 1 Axes>"
      ]
     },
     "metadata": {
      "needs_background": "light"
     },
     "output_type": "display_data"
    }
   ],
   "source": [
    "# Convert to a histogram by computing the bin values by taking the intergral of the CDF\n",
    "xvals = np.linspace(-5, 5, 11)\n",
    "cdf = norm_dist1.cdf(xvals)\n",
    "bin_vals = cdf[:,1:] - cdf[:,0:-1]\n",
    "# Construct histogram PDF using the bin edges and the bin values\n",
    "hist_dist = qp.hist(bins=xvals, pdfs=bin_vals)\n",
    "yvals = hist_dist.pdf(xvals)\n",
    "# Construct a single PDF for plotting\n",
    "hist_dist1 = qp.hist(bins=xvals, pdfs=np.atleast_2d(bin_vals[0]))\n",
    "fig, axes = qp.plotting.plot_native(hist_dist1, xlim=(-5., 5.))\n",
    "leg = fig.legend()"
   ]
  },
  {
   "cell_type": "markdown",
   "metadata": {},
   "source": [
    "What if you want to evaluate a vector of input values, where each input value is different for each PDF?  In that case you need the shape of the vector of input value to match the implicit shape of the PDFs, which in this case is (2,1)"
   ]
  },
  {
   "cell_type": "code",
   "execution_count": 12,
   "metadata": {},
   "outputs": [
    {
     "name": "stdout",
     "output_type": "stream",
     "text": [
      "For an input vector of shape (2, 1) the output shape is (2, 1)\n"
     ]
    }
   ],
   "source": [
    "xvals_x = np.array([[-1.], [1.]])\n",
    "yvals_x = hist_dist.pdf(xvals_x)\n",
    "print (\"For an input vector of shape %s the output shape is %s\" % (xvals_x.shape, yvals_x.shape))"
   ]
  },
  {
   "cell_type": "markdown",
   "metadata": {},
   "source": [
    "## `qp` quantile parameterization\n",
    "\n",
    "This represents a set of distributions made by interpolating the locations at which various distributions reach a given set of quantiles.\n",
    "To construct this you need to give the quantiles edges (shape=(N)) and the location values (shape=(npdf, N)).\n",
    "\n",
    "Note that the native visual representation is different."
   ]
  },
  {
   "cell_type": "code",
   "execution_count": 13,
   "metadata": {},
   "outputs": [
    {
     "name": "stdout",
     "output_type": "stream",
     "text": [
      "The input and output shapes are: (11,) (1, 11)\n"
     ]
    },
    {
     "data": {
      "image/png": "[encoded data removed]",
      "text/plain": [
       "<Figure size 432x288 with 1 Axes>"
      ]
     },
     "metadata": {
      "needs_background": "light"
     },
     "output_type": "display_data"
    }
   ],
   "source": [
    "# Define the quantile values to compute the locations for\n",
    "quants = np.linspace(0.01, 0.99, 7)\n",
    "# Compute the corresponding locations\n",
    "locs = norm_dist1.ppf(quants)\n",
    "# Construct the distribution using the quantile value and locations\n",
    "quant_dist = qp.quant(quants=quants, locs=locs)\n",
    "quant_vals = quant_dist.pdf(xvals)\n",
    "print(\"The input and output shapes are:\", xvals.shape, quant_vals.shape)\n",
    "# Construct a single PDF for plotting\n",
    "quant_dist1 = qp.quant(quants=np.atleast_1d(quants), locs=np.atleast_2d(locs[0]))\n",
    "fig, axes = qp.plotting.plot_native(quant_dist1, xlim=(-5., 5.), label=\"quantiles\")\n",
    "leg = fig.legend()"
   ]
  },
  {
   "cell_type": "code",
   "execution_count": 14,
   "metadata": {},
   "outputs": [
    {
     "name": "stdout",
     "output_type": "stream",
     "text": [
      "[0.01       0.17333333 0.33666667 0.5        0.66333333 0.82666667\n",
      " 0.99      ]\n",
      "[0.         0.01       0.17333333 0.33666667 0.5        0.66333333\n",
      " 0.82666667 0.99       1.        ]\n"
     ]
    }
   ],
   "source": [
    "print(quants)\n",
    "print(quant_dist.dist.quants)"
   ]
  },
  {
   "cell_type": "markdown",
   "metadata": {},
   "source": [
    "## `qp` interpolated parameterization\n",
    "\n",
    "This represents a set of distributions made by interpolating a set of x and y values. \n",
    "To construct this you need to give the x and y values (both of shape=(npdf, N))\n",
    "\n",
    "Note that the native visual representation is pretty similar to the original one for the Gaussian."
   ]
  },
  {
   "cell_type": "code",
   "execution_count": 15,
   "metadata": {},
   "outputs": [
    {
     "name": "stdout",
     "output_type": "stream",
     "text": [
      "The input and output shapes are: (11,) (1, 11)\n"
     ]
    },
    {
     "data": {
      "image/png": "[encoded data removed]",
      "text/plain": [
       "<Figure size 432x288 with 1 Axes>"
      ]
     },
     "metadata": {
      "needs_background": "light"
     },
     "output_type": "display_data"
    }
   ],
   "source": [
    "# Define the x-grid locations\n",
    "xvals = np.linspace(-5, 5, 11)\n",
    "# Compute the corresponding y values\n",
    "yvals = norm_dist1.pdf(xvals)\n",
    "# Construct the PDFs using the x grid and y values\n",
    "interp_dist = qp.interp(xvals=xvals, yvals=yvals)\n",
    "interp_vals = interp_dist.pdf(xvals)\n",
    "print(\"The input and output shapes are:\", xvals.shape, interp_vals.shape)\n",
    "# Construct a single PDF for plotting\n",
    "interp_dist1 = qp.interp(xvals=xvals, yvals=np.atleast_2d(yvals[0]))\n",
    "fig, axes = qp.plotting.plot_native(interp_dist1, xlim=(-5., 5.), label=\"interpolated\")\n",
    "leg = fig.legend()"
   ]
  },
  {
   "cell_type": "markdown",
   "metadata": {},
   "source": [
    "## `qp` spline parameterization constructed from kernel density estimate (samples) parameterization\n",
    "\n",
    "This represents a set of distributions made by producing a kernel density estimate from a set of samples.\n",
    "\n",
    "To construct this you need to give the samples edges (shape=(npdf, Nsamples)).\n",
    "\n",
    "Note again that the the native visual represenation is different."
   ]
  },
  {
   "cell_type": "code",
   "execution_count": 16,
   "metadata": {},
   "outputs": [
    {
     "name": "stdout",
     "output_type": "stream",
     "text": [
      "The input and output shapes are: (11,) (2, 51)\n"
     ]
    },
    {
     "data": {
      "image/png": "[encoded data removed]",
      "text/plain": [
       "<Figure size 432x288 with 1 Axes>"
      ]
     },
     "metadata": {
      "needs_background": "light"
     },
     "output_type": "display_data"
    }
   ],
   "source": [
    "# Take 100 random samples from each of 2 PDFs\n",
    "samples = norm_dist1.rvs(size=(2, 1000))\n",
    "# Define points at which to evaluate the kernal density estimate (KDE)\n",
    "xvals_kde = np.linspace(-5., 5., 51)\n",
    "# Use a utility function to construct the KDE, sample it, and they construct a spline\n",
    "kde_dist = qp.spline_from_samples(xvals=xvals_kde, samples=samples)\n",
    "kde_vals = kde_dist.pdf(xvals_kde)\n",
    "print(\"The input and output shapes are:\", xvals.shape, kde_vals.shape)\n",
    "# Construct a single PDF for plotting\n",
    "kde_dist1 = qp.spline_from_samples(xvals=xvals_kde, samples=np.atleast_2d(samples[0]))\n",
    "fig, axes = qp.plotting.plot_native(kde_dist1, xlim=(-5., 5.), label=\"kde\")\n",
    "leg = fig.legend()"
   ]
  },
  {
   "cell_type": "markdown",
   "metadata": {},
   "source": [
    "## `qp` spline parameterization\n",
    "\n",
    "This represents a set of distributions made building a set of splines. Though the parameterization is defined by the spline knots, you can construct this from x and y values (both of shape=(npdf, N)).\n",
    "\n",
    "Note that the native visual representation is pretty similar to the original one for the Gaussian.\n",
    "\n",
    "Note also that the spline knots are stored."
   ]
  },
  {
   "cell_type": "code",
   "execution_count": 17,
   "metadata": {},
   "outputs": [
    {
     "name": "stdout",
     "output_type": "stream",
     "text": [
      "The input and output shapes are: (11,) (1, 11)\n",
      "Spline knots [[-5. -5. -5. -5. -3. -2. -1.  0.  1.  2.  3.  5.  5.  5.  5.]] [[ 1.48609459e-06  1.68880388e-03 -5.05824770e-03  2.11574348e-02\n",
      "   2.37684221e-01  4.79319775e-01  2.37684221e-01  2.11574348e-02\n",
      "  -5.05824770e-03  1.68880388e-03  1.48609459e-06  0.00000000e+00\n",
      "   0.00000000e+00  0.00000000e+00  0.00000000e+00]] [[3]]\n",
      "(1, 15)\n"
     ]
    },
    {
     "data": {
      "image/png": "[encoded data removed]",
      "text/plain": [
       "<Figure size 432x288 with 1 Axes>"
      ]
     },
     "metadata": {
      "needs_background": "light"
     },
     "output_type": "display_data"
    }
   ],
   "source": [
    "# To make a spline you need the spline knots, you can get those from the xval, yval values\n",
    "splx, sply, spln = qp.spline_gen.build_normed_splines(np.expand_dims(xvals,0), yvals)\n",
    "spline_dist_orig = qp.spline(splx=splx, sply=sply, spln=spln)\n",
    "# Or we can do these two steps together using one function\n",
    "spline_dist = qp.spline_from_xy(xvals=np.expand_dims(xvals,0), yvals=yvals)\n",
    "spline_vals = spline_dist.pdf(xvals)\n",
    "print(\"The input and output shapes are:\", xvals.shape, spline_vals.shape)\n",
    "print(\"Spline knots\", spline_dist.dist.splx, spline_dist.dist.sply, spline_dist.dist.spln)\n",
    "# Construct a single PDF for plotting\n",
    "spline_dist1 = qp.spline_from_xy(xvals=np.atleast_2d(xvals), yvals=np.atleast_2d(yvals))\n",
    "print(spline_dist1.dist.splx.shape)\n",
    "fig, axes = qp.plotting.plot_native(spline_dist1, xlim=(-5., 5.), label=\"spline\")\n",
    "leg = fig.legend()"
   ]
  },
  {
   "cell_type": "markdown",
   "metadata": {},
   "source": [
    "## Overplotting\n",
    "\n",
    "You can visually compare the represenations by plotting them all on the same figure."
   ]
  },
  {
   "cell_type": "code",
   "execution_count": 18,
   "metadata": {},
   "outputs": [
    {
     "data": {
      "image/png": "[encoded data removed]",
      "text/plain": [
       "<Figure size 432x288 with 1 Axes>"
      ]
     },
     "metadata": {
      "needs_background": "light"
     },
     "output_type": "display_data"
    }
   ],
   "source": [
    "fig, axes = qp.plotting.plot_native(norm_dist1, xlim=(-5., 5.), label=\"norm\")\n",
    "qp.plotting.plot_native(hist_dist1, axes=axes)\n",
    "qp.plotting.plot_native(quant_dist1, axes=axes)\n",
    "qp.plotting.plot_native(interp_dist1, axes=axes, label=\"interp\")\n",
    "# qp.plotting.plot_native(kde_dist1, axes=axes)\n",
    "# qp.plotting.plot_native(spline_dist1, axes=axes, label=\"spline\")\n",
    "leg = fig.legend()"
   ]
  },
  {
   "cell_type": "markdown",
   "metadata": {},
   "source": [
    "# The `qp.Ensemble` Class\n",
    "\n",
    "This is the basic element of `qp` - an object representing a set of probability density functions. This class is stored in the module `ensemble.py`.  \n",
    "\n",
    "To create a `qp.Ensemble` you need to specify the class used to represent the PDFs, and provide that data for the specific set of PDFs.  "
   ]
  },
  {
   "cell_type": "markdown",
   "metadata": {},
   "source": [
    "## Ensembles of distributions\n",
    "\n",
    "`qp` no longer distinguishes between distributions and ensembles thereof -- a single distribution is just a special case of an ensemble with only one member, which takes advantage of computational efficiencies in `scipy`.\n",
    "The shape of the array returned by a call to the pdf function of a distribution depends on the shape of the parameters and evaluate points.  \n",
    "\n",
    "For distributions that take multiple input arrays, `qp` uses te convention that the rows are the individual distributions and the columns are the values of the parameters defining the distributions under a known parameterization."
   ]
  },
  {
   "cell_type": "code",
   "execution_count": 19,
   "metadata": {},
   "outputs": [
    {
     "name": "stdout",
     "output_type": "stream",
     "text": [
      "This object represents 2 pdfs\n",
      "The input and output shapes are: (51,) (2, 51)\n"
     ]
    }
   ],
   "source": [
    "# This is a trivial extension, with the number of pdfs as a member of the `scipy.stats.norm_gen` distribution.\n",
    "loc = np.array([[0],[1]])\n",
    "scale = np.array([[1],[1]])\n",
    "norm_dist = qp.stats.norm(loc=loc, scale=scale)\n",
    "xvals = np.linspace(-5, 5, 51)\n",
    "yvals = norm_dist.pdf(xvals)\n",
    "print(\"This object represents %i pdfs\" % norm_dist.npdf)\n",
    "print(\"The input and output shapes are:\", xvals.shape, yvals.shape)"
   ]
  },
  {
   "cell_type": "code",
   "execution_count": 20,
   "metadata": {
    "scrolled": true
   },
   "outputs": [
    {
     "name": "stdout",
     "output_type": "stream",
     "text": [
      "For an input vector of shape (51,) the output shape is (2, 51)\n"
     ]
    }
   ],
   "source": [
    "print (\"For an input vector of shape %s the output shape is %s\" % (xvals.shape, yvals.shape))"
   ]
  },
  {
   "cell_type": "code",
   "execution_count": 21,
   "metadata": {},
   "outputs": [
    {
     "data": {
      "text/plain": [
       "array([[0.39894228, 0.24197072, 0.05399097],\n",
       "       [0.35206533, 0.35206533, 0.1295176 ]])"
      ]
     },
     "execution_count": 21,
     "metadata": {},
     "output_type": "execute_result"
    }
   ],
   "source": [
    "# In this case we return an array were the rows are the evaluation points and the columns the different PDFs\n",
    "vector_pdf = qp.stats.norm(loc=[0., 1., 2], scale=1.)\n",
    "vector_pdf.pdf([[0.], [0.5]])"
   ]
  },
  {
   "cell_type": "code",
   "execution_count": 22,
   "metadata": {},
   "outputs": [
    {
     "data": {
      "text/plain": [
       "array([[0.39894228, 0.24197072, 0.05399097],\n",
       "       [0.35206533, 0.35206533, 0.1295176 ]])"
      ]
     },
     "execution_count": 22,
     "metadata": {},
     "output_type": "execute_result"
    }
   ],
   "source": [
    "# This is the same, except we use `numpy.expand_dims` to shape the input array of evaluation points\n",
    "vector_pdf = qp.stats.norm(loc=[0., 1., 2], scale=1.)\n",
    "vector_pdf.pdf(np.expand_dims(np.array([0., 0.5]), -1))"
   ]
  },
  {
   "cell_type": "code",
   "execution_count": 23,
   "metadata": {},
   "outputs": [
    {
     "data": {
      "text/plain": [
       "array([[0.39894228, 0.35206533],\n",
       "       [0.24197072, 0.35206533],\n",
       "       [0.05399097, 0.1295176 ]])"
      ]
     },
     "execution_count": 23,
     "metadata": {},
     "output_type": "execute_result"
    }
   ],
   "source": [
    "# In this case we return an array were the rows are pdfs and the columns the evaluation points\n",
    "vector_pdf = qp.stats.norm(loc=[[0.], [1.], [2]], scale=1.)\n",
    "vector_pdf.pdf([0., 0.5])"
   ]
  },
  {
   "cell_type": "code",
   "execution_count": 24,
   "metadata": {},
   "outputs": [
    {
     "data": {
      "text/plain": [
       "array([[0.39894228, 0.35206533],\n",
       "       [0.24197072, 0.35206533],\n",
       "       [0.05399097, 0.1295176 ]])"
      ]
     },
     "execution_count": 24,
     "metadata": {},
     "output_type": "execute_result"
    }
   ],
   "source": [
    "# This is the same, except we use `numpy.expand_dims` to shape the input array of pdf parameters\n",
    "vector_pdf = qp.stats.norm(loc=np.expand_dims([0., 1., 2], -1), scale=1.)\n",
    "vector_pdf.pdf([0., 0.5])"
   ]
  },
  {
   "cell_type": "markdown",
   "metadata": {},
   "source": [
    "Here we will create 100 Gaussians with means distributed between -1 and 1, and widths distributed between 0.9 and 1.1."
   ]
  },
  {
   "cell_type": "code",
   "execution_count": 25,
   "metadata": {},
   "outputs": [],
   "source": [
    "locs = 2* (np.random.uniform(size=(100,1))-0.5)\n",
    "scales = 1 + 0.2*(np.random.uniform(size=(100,1))-0.5)\n",
    "ens_n = qp.Ensemble(qp.stats.norm, data=dict(loc=locs, scale=scales))"
   ]
  },
  {
   "cell_type": "markdown",
   "metadata": {},
   "source": [
    "### Using the ensemble\n",
    "\n",
    "All of the methods of the distributions (`pdf`, `cdf` etc.) work the same way for an ensemble as for underlying classes. \n",
    "\n",
    "To isolate a single distribution in the ensemble, use the square brackets operator `[]`."
   ]
  },
  {
   "cell_type": "code",
   "execution_count": 26,
   "metadata": {},
   "outputs": [
    {
     "name": "stdout",
     "output_type": "stream",
     "text": [
      "The shapes are:  (51,) (100, 51)\n"
     ]
    },
    {
     "data": {
      "image/png": "[encoded data removed]",
      "text/plain": [
       "<Figure size 432x288 with 1 Axes>"
      ]
     },
     "metadata": {
      "needs_background": "light"
     },
     "output_type": "display_data"
    }
   ],
   "source": [
    "vals_n = ens_n.pdf(xvals)\n",
    "print(\"The shapes are: \", xvals.shape, vals_n.shape)\n",
    "fig, axes = qp.plotting.plot_native(ens_n[15], xlim=(-5.,5.))"
   ]
  },
  {
   "cell_type": "markdown",
   "metadata": {},
   "source": [
    "### Converting the ensemble\n",
    "\n",
    "The `qp.Ensemble.convert_to` function lets you convert ensembles to other representations. To do this you have to provide the original ensemble, the class you want to convert to, and any some keyword arguments to specify details about how to convert to the new class, here are some examples."
   ]
  },
  {
   "cell_type": "code",
   "execution_count": 27,
   "metadata": {},
   "outputs": [
    {
     "name": "stdout",
     "output_type": "stream",
     "text": [
      "Making hist\n",
      "Making interp\n",
      "Making spline\n",
      "Making quants\n",
      "Making mixmod\n"
     ]
    }
   ],
   "source": [
    "bins = np.linspace(-5, 5, 11)\n",
    "quants = np.linspace(0.01, 0.99, 7)\n",
    "print(\"Making hist\")\n",
    "ens_h = ens_n.convert_to(qp.hist_gen, bins=bins)\n",
    "print(\"Making interp\")\n",
    "ens_i = ens_n.convert_to(qp.interp_gen, xvals=bins)\n",
    "print(\"Making spline\")\n",
    "ens_s = ens_n.convert_to(qp.spline_gen, xvals=bins, method=\"xy\")\n",
    "#print(\"Making spline from samples\")\n",
    "#ens_s = ens_n.convert_to(qp.spline_gen, xvals=bins, samples=1000, method=\"samples\")\n",
    "print(\"Making quants\")\n",
    "ens_q = ens_n.convert_to(qp.quant_gen, quants=quants)\n",
    "print(\"Making mixmod\")\n",
    "ens_m = ens_n.convert_to(qp.mixmod_gen, samples=1000, ncomps=3)\n",
    "#print(\"Making flexcode\")\n",
    "#ens_f = ens_n.convert_to(qp.flex_gen, grid=bins, basis_system='cosine')"
   ]
  },
  {
   "cell_type": "markdown",
   "metadata": {},
   "source": [
    "The `qp.convert` function also works the more or less the same way, but with slightly different syntax, where you can use the name of the class instead of the class object.  "
   ]
  },
  {
   "cell_type": "code",
   "execution_count": 28,
   "metadata": {},
   "outputs": [
    {
     "name": "stdout",
     "output_type": "stream",
     "text": [
      "Making hist\n",
      "Making interp\n",
      "Making spline\n",
      "Making quants\n",
      "Making mixmod\n"
     ]
    }
   ],
   "source": [
    "print(\"Making hist\")\n",
    "ens_h2 = qp.convert(ens_n, \"hist\", bins=bins)\n",
    "print(\"Making interp\")\n",
    "ens_i2 = qp.convert(ens_n, \"interp\", xvals=bins)\n",
    "print(\"Making spline\")\n",
    "ens_s2 = qp.convert(ens_n, \"spline\", xvals=bins, method=\"xy\")\n",
    "print(\"Making quants\")\n",
    "ens_q2 = qp.convert(ens_n, \"quant\", quants=quants)\n",
    "print(\"Making mixmod\")\n",
    "ens_m2 = qp.convert(ens_n, \"mixmod\", samples=1000, ncomps=3)\n"
   ]
  },
  {
   "cell_type": "markdown",
   "metadata": {},
   "source": [
    "# Comparing Parametrizations\n",
    "\n",
    "`qp` supports quantitative comparisons between different distributions, across parametrizations."
   ]
  },
  {
   "cell_type": "markdown",
   "metadata": {},
   "source": [
    "## Qualitative Comparisons: Plotting\n",
    "\n",
    "Let's visualize the PDF object in order to original and the other representaions.  The solid, black line shows the true PDF evaluated between the bounds.  The green rugplot shows the locations of the 1000 samples we took.  The vertical, dotted, blue lines show the percentiles we asked for, and the hotizontal, dotted, red lines show the 10 equally spaced bins we asked for.  Note that the quantiles refer to the probability distribution *between the bounds*, because we are not able to integrate numerically over an infinite range. Interpolations of each parametrization are given as dashed lines in their corresponding colors.  Note that the interpolations of the quantile and histogram parametrizations are so close to each other that the difference is almost imperceptible!"
   ]
  },
  {
   "cell_type": "code",
   "execution_count": 29,
   "metadata": {},
   "outputs": [
    {
     "data": {
      "image/png": "[encoded data removed]",
      "text/plain": [
       "<Figure size 432x288 with 1 Axes>"
      ]
     },
     "metadata": {
      "needs_background": "light"
     },
     "output_type": "display_data"
    }
   ],
   "source": [
    "fig, axes = qp.plotting.plot_native(ens_n[15], xlim=(-5.,5.))\n",
    "qp.plotting.plot_native(ens_h[15], axes=axes)\n",
    "qp.plotting.plot_native(ens_q[15], axes=axes, label='quantile')\n",
    "qp.plotting.plot_native(ens_i[15], axes=axes, label='interp')\n",
    "# qp.plotting.plot_native(ens_s[15], axes=axes, label='spline')\n",
    "qp.plotting.plot_native(ens_m[15], axes=axes, label='mixmod')\n",
    "#qp.qp_plot_native(ens_f[15], axes=axes, label='flex')\n",
    "leg = fig.legend()\n"
   ]
  },
  {
   "cell_type": "markdown",
   "metadata": {},
   "source": [
    "We can also interpolate the function onto an evenly spaced grid point and cache those values with the `gridded` function."
   ]
  },
  {
   "cell_type": "code",
   "execution_count": 30,
   "metadata": {
    "scrolled": true
   },
   "outputs": [],
   "source": [
    "grid = np.linspace(-3., 3., 100)\n",
    "gridded = ens_n.pdf(grid)"
   ]
  },
  {
   "cell_type": "code",
   "execution_count": 31,
   "metadata": {},
   "outputs": [
    {
     "name": "stdout",
     "output_type": "stream",
     "text": [
      "0.0 0.0\n"
     ]
    }
   ],
   "source": [
    "cached_gridded = ens_n.gridded(grid)[1]\n",
    "check = gridded - cached_gridded\n",
    "print(check.min(), check.max())"
   ]
  },
  {
   "cell_type": "markdown",
   "metadata": {},
   "source": [
    "## Quantitative Comparisons"
   ]
  },
  {
   "cell_type": "code",
   "execution_count": 32,
   "metadata": {},
   "outputs": [],
   "source": [
    "symm_lims = np.array([-1., 1.])\n",
    "all_lims = [symm_lims, 2.*symm_lims, 3.*symm_lims]"
   ]
  },
  {
   "cell_type": "markdown",
   "metadata": {
    "collapsed": true
   },
   "source": [
    "Next, let's compare the different parametrizations to the truth using the Kullback-Leibler Divergence (KLD).  The KLD is a measure of how close two probability distributions are to one another -- a smaller value indicates closer agreement.  It is measured in units of bits of information, the information lost in going from the second distribution to the first distribution.  The KLD calculator here takes in a shared grid upon which to evaluate the true distribution and the interpolated approximation of that distribution and returns the KLD of the approximation relative to the truth, which is not in general the same as the KLD of the truth relative to the approximation.  Below, we'll calculate the KLD of the approximation relative to the truth over different ranges, showing that it increases as it includes areas where the true distribution and interpolated distributions diverge."
   ]
  },
  {
   "cell_type": "code",
   "execution_count": 33,
   "metadata": {},
   "outputs": [
    {
     "name": "stdout",
     "output_type": "stream",
     "text": [
      "[-2.26209442e-06 -5.22381128e-06 -8.21403501e-06 -1.12278108e-05\n",
      " -1.42602342e-05 -1.73064535e-05 -2.03616734e-05 -2.34211569e-05\n",
      " -2.64802286e-05 -2.95342775e-05 -3.25787589e-05 -3.56091979e-05\n",
      " -3.86211912e-05 -4.16104100e-05 -4.45726023e-05 -4.75035953e-05\n",
      " -5.03992978e-05 -5.32557025e-05 -5.60688882e-05 -5.88350221e-05\n",
      " -6.15503620e-05 -6.42112586e-05 -6.68141571e-05 -6.93556000e-05\n",
      " -7.18322286e-05 -7.42407851e-05 -7.65781150e-05 -7.88411683e-05\n",
      " -8.10270020e-05 -8.31327817e-05 -8.51557837e-05 -8.70933963e-05\n",
      " -8.89431221e-05 -9.07025793e-05 -9.23695038e-05 -9.39417505e-05\n",
      " -9.54172952e-05 -9.67942361e-05 -9.80707954e-05 -9.92453205e-05\n",
      " -1.00316286e-04 -1.01282296e-04 -1.02142082e-04 -1.02894509e-04\n",
      " -1.03538574e-04 -1.04073407e-04 -1.04498276e-04 -1.04812582e-04\n",
      " -1.05015867e-04 -1.05107809e-04 -1.05088229e-04 -1.04957087e-04\n",
      " -1.04714485e-04 -1.04360671e-04 -1.03896036e-04 -1.03321114e-04\n",
      " -1.02636589e-04 -1.01843289e-04 -1.00942192e-04 -9.99344224e-05\n",
      " -9.88212567e-05 -9.76041198e-05 -9.62845877e-05 -9.48643879e-05\n",
      " -9.33453995e-05 -9.17296544e-05 -9.00193372e-05 -8.82167856e-05\n",
      " -8.63244912e-05 -8.43450992e-05 -8.22814089e-05 -8.01363742e-05\n",
      " -7.79131029e-05 -7.56148575e-05 -7.32450547e-05 -7.08072655e-05\n",
      " -6.83052151e-05 -6.57427824e-05 -6.31239999e-05 -6.04530531e-05\n",
      " -5.77342804e-05 -5.49721720e-05 -5.21713696e-05 -4.93366658e-05\n",
      " -4.64730026e-05 -4.35854713e-05 -4.06793110e-05 -3.77599071e-05\n",
      " -3.48327911e-05 -3.19036380e-05 -2.89782657e-05 -2.60626330e-05\n",
      " -2.31628380e-05 -2.02851158e-05 -1.74358373e-05 -1.46215061e-05\n",
      " -1.18487569e-05 -9.12435256e-06 -6.45518163e-06 -3.84825547e-06\n",
      " -1.31052154e-06  1.15518502e-06  3.55015792e-06  5.87578596e-06\n",
      "  8.13337174e-06  1.03241341e-05  1.24492106e-05  1.45096601e-05\n",
      "  1.65064654e-05  1.84405359e-05  2.03127102e-05  2.21237593e-05\n",
      "  2.38743891e-05  2.55652432e-05  2.71969063e-05  2.87699070e-05\n",
      "  3.02847204e-05  3.17417718e-05  3.31414393e-05  3.44840571e-05\n",
      "  3.57699188e-05  3.69992802e-05  3.81723626e-05  3.92893563e-05\n",
      "  4.03504231e-05  4.13557004e-05  4.23053037e-05  4.31993301e-05\n",
      "  4.40378616e-05  4.48209681e-05  4.55487107e-05  4.62211453e-05\n",
      "  4.68383249e-05  4.74003038e-05  4.79071400e-05  4.83588989e-05\n",
      "  4.87556561e-05  4.90975005e-05  4.93845378e-05  4.96168928e-05\n",
      "  4.97947135e-05  4.99181729e-05  4.99874731e-05  5.00028473e-05\n",
      "  4.99645632e-05  4.98729258e-05  4.97282800e-05  4.95310137e-05\n",
      "  4.92815599e-05  4.89804001e-05  4.86280662e-05  4.82251436e-05\n",
      "  4.77722733e-05  4.72701544e-05  4.67195466e-05  4.61212721e-05\n",
      "  4.54762184e-05  4.47853399e-05  4.40496601e-05  4.32702738e-05\n",
      "  4.24483487e-05  4.15851274e-05  4.06819290e-05  3.97401512e-05\n",
      "  3.87612710e-05  3.77468469e-05  3.66985203e-05  3.56180161e-05\n",
      "  3.45071446e-05  3.33678022e-05  3.22019728e-05  3.10117281e-05\n",
      "  2.97992291e-05  2.85667260e-05  2.73165598e-05  2.60511620e-05\n",
      "  2.47730553e-05  2.34848542e-05  2.21892647e-05  2.08890849e-05\n",
      "  1.95872051e-05  1.82866073e-05  1.69903656e-05  1.57016459e-05\n",
      "  1.44237056e-05  1.31598936e-05  1.19136496e-05  1.06885041e-05\n",
      "  9.48807783e-06  8.31608155e-06  7.17631562e-06  6.07266971e-06\n",
      "  5.00912249e-06  3.98974147e-06  3.01868288e-06  2.10019170e-06\n",
      "  1.23860183e-06  4.38336438e-07 -2.96091428e-07 -9.60078005e-07]\n"
     ]
    }
   ],
   "source": [
    "# for a single pair of pdfs. (the 15th in each ensemble)\n",
    "klds = ens_n.kld(ens_s, limits=all_lims[0])[15]\n",
    "print(klds)"
   ]
  },
  {
   "cell_type": "code",
   "execution_count": 34,
   "metadata": {},
   "outputs": [
    {
     "name": "stdout",
     "output_type": "stream",
     "text": [
      "hist approximation: KLD over 1, 2, 3, sigma ranges = ['5.15e-05 +- 5.32e-04', '7.61e-05 +- 5.39e-04', '7.15e-05 +- 4.69e-04']\n",
      "interp approximation: KLD over 1, 2, 3, sigma ranges = ['-1.41e-04 +- 1.79e-04', '-4.01e-05 +- 1.84e-04', '3.97e-06 +- 1.68e-04']\n",
      "spline approximation: KLD over 1, 2, 3, sigma ranges = ['-1.27e-05 +- 4.25e-05', '-1.27e-06 +- 3.63e-05', '-1.10e-06 +- 3.05e-05']\n",
      "quant approximation: KLD over 1, 2, 3, sigma ranges = ['-1.16e-04 +- 3.49e-04', '2.80e-05 +- 5.64e-04', '1.40e-04 +- 6.07e-04']\n",
      "mixmod approximation: KLD over 1, 2, 3, sigma ranges = ['-4.07e-06 +- 2.45e-04', '3.21e-06 +- 2.12e-04', '1.23e-05 +- 1.80e-04']\n"
     ]
    }
   ],
   "source": [
    "# Loop over all the other ensemble types\n",
    "ensembles = [ens_n, ens_h, ens_i, ens_s, ens_q, ens_m]\n",
    "for ensemble in ensembles[1:]:\n",
    "    D = []\n",
    "    for lims in all_lims:\n",
    "        klds = ens_n.kld(ensemble, limits=lims)\n",
    "        D.append(\"%.2e +- %.2e\" % (klds.mean(), klds.std()))\n",
    "    print(ensemble.gen_class.name + ' approximation: KLD over 1, 2, 3, sigma ranges = ' + str(D))"
   ]
  },
  {
   "cell_type": "markdown",
   "metadata": {},
   "source": [
    "The progression of KLD values should follow that of the root mean square error (RMSE), another measure of how close two functions are to one another.  The RMSE also increases as it includes areas where the true distribution and interpolated distribution diverge.  Unlike the KLD, the RMSE is symmetric, meaning the distance measured is not that of one distribution from the other but of the symmetric distance between them."
   ]
  },
  {
   "cell_type": "code",
   "execution_count": 35,
   "metadata": {
    "scrolled": true
   },
   "outputs": [
    {
     "name": "stdout",
     "output_type": "stream",
     "text": [
      "hist approximation: RMSE over 1, 2, 3, sigma ranges = ['2.86e-03 +- 2.10e-03', '2.04e-03 +- 1.49e-03', '1.34e-03 +- 1.19e-03']\n",
      "interp approximation: RMSE over 1, 2, 3, sigma ranges = ['1.33e-03 +- 1.04e-03', '7.37e-04 +- 6.08e-04', '5.08e-04 +- 4.53e-04']\n",
      "spline approximation: RMSE over 1, 2, 3, sigma ranges = ['2.44e-04 +- 1.99e-04', '1.33e-04 +- 1.24e-04', '8.43e-05 +- 9.18e-05']\n",
      "quant approximation: RMSE over 1, 2, 3, sigma ranges = ['2.22e-03 +- 2.38e-03', '1.97e-03 +- 1.76e-03', '1.49e-03 +- 1.41e-03']\n",
      "mixmod approximation: RMSE over 1, 2, 3, sigma ranges = ['1.41e-03 +- 1.02e-03', '8.22e-04 +- 6.72e-04', '5.21e-04 +- 5.16e-04']\n"
     ]
    }
   ],
   "source": [
    "for ensemble in ensembles[1:]:\n",
    "    D = []\n",
    "    for lims in all_lims:\n",
    "        rmses = ens_n.rmse(ensemble, limits=lims)\n",
    "        D.append(\"%.2e +- %.2e\" % (rmses.mean(), rmses.std()))\n",
    "    print(ensemble.gen_class.name + ' approximation: RMSE over 1, 2, 3, sigma ranges = ' + str(D))"
   ]
  },
  {
   "cell_type": "markdown",
   "metadata": {},
   "source": [
    "Both the KLD and RMSE metrics suggest that the quantile approximation is better in the high density region, but samples work better when the tails are included. We might expect the answer to the question of which approximation to use to depend on the application, and whether the tails need to be captured or not."
   ]
  },
  {
   "cell_type": "markdown",
   "metadata": {},
   "source": [
    "## Storing and retreiving ensembles\n",
    "\n",
    "You can store and retrieve ensembles from disk using the `qp.Ensemble.write_to` and `qp.Ensemble.read_from` methods.\n",
    "\n",
    "These work in two steps, first they convert the Ensemble data to `astropy.table` objects, and then they write the tables.  This means you can store the data in any format support by `astropy`."
   ]
  },
  {
   "cell_type": "code",
   "execution_count": 36,
   "metadata": {},
   "outputs": [
    {
     "name": "stdout",
     "output_type": "stream",
     "text": [
      "dict_keys(['meta', 'data'])\n",
      "\n",
      "Meta Data\n",
      "pdf_name pdf_version\n",
      "-------- -----------\n",
      "    norm           0\n",
      "\n",
      "Object Data\n",
      "       loc [1]            scale [1]     \n",
      "--------------------- ------------------\n",
      "  0.21890181476361925  1.056285515199821\n",
      "  -0.9353465163053121  1.026997357837372\n",
      "   0.0790311297883819 1.0650292686359373\n",
      "   0.2817677311967628 1.0609266256396983\n",
      " -0.24968255449689325  1.074816209393585\n",
      " -0.26335093519888186 0.9037322517071256\n",
      " -0.42948520774760524 0.9612918688186005\n",
      "  -0.4387296971766421 0.9016267220210851\n",
      "  -0.5721718878022877 0.9456574782851268\n",
      "  -0.9245553404486575 0.9837884735516019\n",
      "   0.3485864086454653 0.9315509277021065\n",
      "  -0.9140685467095657 1.0122140028534963\n",
      "  -0.9841498717108201 1.0480154702564222\n",
      "   -0.860600381074875 1.0399719083435217\n",
      "                  ...                ...\n",
      "   0.7435764010663093 0.9720023232518367\n",
      "  0.12353466858365003 1.0132577053993985\n",
      "   -0.701840262821126 0.9285457000970706\n",
      "  -0.5470405981046298 0.9817410948934674\n",
      " -0.11981840164786872 1.0142932436528753\n",
      "   -0.807956492346696 0.9467640761369589\n",
      "  -0.8460750962310981 0.9940399193900734\n",
      "   0.3498014730068775 1.0359665513079788\n",
      "  0.08250538556297093 1.0266698031123653\n",
      " -0.18080125328979002 0.9367304078396651\n",
      "-0.024151853833798587 1.0119490615751972\n",
      "   0.2985208224451117 0.9384862752521598\n",
      "  0.16449944543187622 1.0453962103896604\n",
      " -0.12600999108425714 1.0085541146917858\n",
      "  -0.7155224408919922 0.9351607298580357\n",
      "Length = 100 rows\n"
     ]
    }
   ],
   "source": [
    "tabs = ens_n.build_tables()\n",
    "print(tabs.keys())\n",
    "print()\n",
    "print(\"Meta Data\")\n",
    "print(tabs['meta'])\n",
    "print()\n",
    "print(\"Object Data\")\n",
    "print(tabs['data'])"
   ]
  },
  {
   "cell_type": "markdown",
   "metadata": {},
   "source": [
    "Here is a loopback test showing that we get the same results before and after a write/read cycle."
   ]
  },
  {
   "cell_type": "code",
   "execution_count": 37,
   "metadata": {},
   "outputs": [
    {
     "name": "stdout",
     "output_type": "stream",
     "text": [
      "_n fits 0.0 0.0\n",
      "_n hdf5 0.0 0.0\n",
      "_h fits -1.1102230246251565e-16 5.551115123125783e-17\n",
      "_h hdf5 -1.1102230246251565e-16 5.551115123125783e-17\n",
      "_i fits -1.1102230246251565e-16 5.551115123125783e-17\n",
      "_i hdf5 -1.1102230246251565e-16 5.551115123125783e-17\n",
      "_s fits 0.0 0.0\n",
      "_s hdf5 0.0 0.0\n",
      "_q fits 0.0 0.0\n",
      "_q hdf5 0.0 0.0\n",
      "_m fits 0.0 0.0\n",
      "_m hdf5 0.0 0.0\n"
     ]
    }
   ],
   "source": [
    "suffix_list = ['_n', '_h', '_i', '_s', '_q', '_m']\n",
    "filetypes = ['fits', 'hdf5']\n",
    "for ens, suffix in zip(ensembles, suffix_list):\n",
    "    for ft in filetypes:\n",
    "\n",
    "        outfile = \"test%s.%s\" % (suffix, ft)\n",
    "        metafile = \"test%s_meta.%s\" % (suffix, ft)\n",
    "        \n",
    "        pdf_1 = ens.pdf(bins)        \n",
    "        ens.write_to(outfile)\n",
    "        ens_r = qp.read(outfile)\n",
    "        pdf_2 = ens_r.pdf(bins)\n",
    "\n",
    "        check = pdf_1 - pdf_2\n",
    "        print(suffix, ft, check.min(), check.max())\n",
    "\n",
    "        os.unlink(outfile)\n",
    "        try:\n",
    "            os.unlink(metafile)\n",
    "        except Exception:\n",
    "            pass"
   ]
  },
  {
   "cell_type": "markdown",
   "metadata": {},
   "source": [
    "Finally, we can compare the moments of each approximation and compare those to the moments of the true distribution."
   ]
  },
  {
   "cell_type": "code",
   "execution_count": 38,
   "metadata": {},
   "outputs": [
    {
     "name": "stdout",
     "output_type": "stream",
     "text": [
      "moments: range(0, 3)\n",
      "norm: ['9.92e-01 +- 6.50e-03', '-1.02e-01 +- 5.32e-01', '1.23e+00 +- 2.43e-01']\n",
      "hist: ['9.93e-01 +- 6.63e-03', '-1.03e-01 +- 5.31e-01', '1.39e+00 +- 2.36e-01']\n",
      "interp: ['9.87e-01 +- 8.52e-03', '-9.91e-02 +- 5.18e-01', '1.34e+00 +- 2.16e-01']\n",
      "spline: ['9.91e-01 +- 6.62e-03', '-1.02e-01 +- 5.33e-01', '1.23e+00 +- 2.48e-01']\n",
      "quant: ['9.90e-01 +- 1.63e-02', '-9.93e-02 +- 5.20e-01', '1.44e+00 +- 1.94e-01']\n",
      "mixmod: ['9.93e-01 +- 6.73e-03', '-1.05e-01 +- 5.37e-01', '1.26e+00 +- 2.52e-01']\n"
     ]
    }
   ],
   "source": [
    "which_moments = range(3)\n",
    "all_moments = []\n",
    "for ens in ensembles:\n",
    "    moments = []\n",
    "    for n in which_moments:\n",
    "        moms = qp.metrics.calculate_moment(ens, n, limits=(-3, 3))\n",
    "        moments.append(\"%.2e +- %.2e\" % (moms.mean(), moms.std()))\n",
    "    all_moments.append(moments)\n",
    "    \n",
    "print('moments: '+str(which_moments))\n",
    "for ens, mom in zip(ensembles, all_moments):\n",
    "    print(ens.gen_class.name+': '+str(mom))"
   ]
  },
  {
   "cell_type": "code",
   "execution_count": null,
   "metadata": {},
   "outputs": [],
   "source": []
  },
  {
   "cell_type": "code",
   "execution_count": null,
   "metadata": {},
   "outputs": [],
   "source": []
  },
  {
   "cell_type": "code",
   "execution_count": null,
   "metadata": {},
   "outputs": [],
   "source": []
  }
 ],
 "metadata": {
  "kernelspec": {
   "display_name": "Python 3 (ipykernel)",
   "language": "python",
   "name": "python3"
  },
  "language_info": {
   "codemirror_mode": {
    "name": "ipython",
    "version": 3
   },
   "file_extension": ".py",
   "mimetype": "text/x-python",
   "name": "python",
   "nbconvert_exporter": "python",
   "pygments_lexer": "ipython3",
   "version": "3.8.11"
  }
 },
 "nbformat": 4,
 "nbformat_minor": 1
}
