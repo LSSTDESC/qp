{
 "cells": [
  {
   "cell_type": "code",
   "execution_count": null,
   "metadata": {},
   "outputs": [],
   "source": [
    "import numpy as np\n",
    "from scipy.interpolate import InterpolatedUnivariateSpline\n",
    "import matplotlib.pyplot as plt\n",
    "\n",
    "y = np.sort(np.random.random((1,30)),1)*10\n",
    "\n",
    "x = np.sort(np.random.random((1_000,30)),1)*10\n",
    "\n",
    "eval_points = [1.1, 2.2, 3.3, 4.4, 6]"
   ]
  },
  {
   "cell_type": "code",
   "execution_count": null,
   "metadata": {},
   "outputs": [],
   "source": [
    "def single_reconstruction(x,y):\n",
    "    return InterpolatedUnivariateSpline(x,y).derivative()\n",
    "\n",
    "# vectorized evaluation to generate the fit spline derivatives\n",
    "vectorized_reconstructions = np.vectorize(single_reconstruction, cache=True, signature='(locations),(quantiles)->()')\n",
    "\n",
    "# Hydrate the interpolation functions with x,y values\n",
    "interpolation_functions = vectorized_reconstructions(x,y)"
   ]
  },
  {
   "cell_type": "code",
   "execution_count": null,
   "metadata": {},
   "outputs": [],
   "source": [
    "interpolation_functions_from_list_comprehension = [InterpolatedUnivariateSpline(x[i,:],y) for i in range(0,len(x[:,0]))]"
   ]
  },
  {
   "cell_type": "code",
   "execution_count": null,
   "metadata": {},
   "outputs": [],
   "source": [
    "for interp_func in interpolation_functions:\n",
    "    interp_func(eval_points)"
   ]
  },
  {
   "cell_type": "code",
   "execution_count": null,
   "metadata": {},
   "outputs": [],
   "source": [
    "for interp_func in interpolation_functions_from_list_comprehension:\n",
    "    interp_func(eval_points)"
   ]
  },
  {
   "cell_type": "code",
   "execution_count": null,
   "metadata": {},
   "outputs": [],
   "source": [
    "A = np.asarray([f(eval_points) for f in interpolation_functions])"
   ]
  },
  {
   "cell_type": "code",
   "execution_count": null,
   "metadata": {},
   "outputs": [],
   "source": [
    "A = np.asarray([f(eval_points) for f in interpolation_functions_from_list_comprehension])"
   ]
  },
  {
   "cell_type": "code",
   "execution_count": null,
   "metadata": {},
   "outputs": [],
   "source": [
    "from qp.quantile_pdf_constructors import CdfSplineDerivative\n",
    "\n",
    "spliner = CdfSplineDerivative(y, x)\n",
    "spliner.prepare_constructor() # not explicitly necessary, but can get timing information from this. \n",
    "output = spliner.construct_pdf(eval_points)\n",
    "\n",
    "print(len(output))\n",
    "print(output[0])\n",
    "\n",
    "# Show the use of the `row` keyword\n",
    "output = spliner.construct_pdf(eval_points, row=[10, 12])\n",
    "print(len(output))\n",
    "print(output)\n"
   ]
  },
  {
   "cell_type": "code",
   "execution_count": null,
   "metadata": {},
   "outputs": [],
   "source": [
    "# Create a normal distribution. Extract quants and locs, and build a quantile ensemble.\n",
    "import qp\n",
    "# Working with a normal distribution\n",
    "dist2 = qp.stats.norm(loc=3, scale=1)\n",
    "\n",
    "# Starting with a simple base case. Reasonable quantiles >0, <1.0\n",
    "new_quants = np.linspace(0.001, 0.999, 16)\n",
    "new_locs = dist2.ppf(new_quants)\n",
    "\n",
    "# ! Can't figure out how to pass additional arguments, i.e. `pdf_constructor='cdf_spline_derivative'` ???\n",
    "quant_dist = qp.quant(quants=new_quants, locs=new_locs)\n",
    "# Print out the constructor name, and a few p(z) values for a few points\n",
    "print(quant_dist.dist.pdf_constructor_name)\n",
    "quant_dist.pdf([1,2,3,4])"
   ]
  },
  {
   "cell_type": "code",
   "execution_count": null,
   "metadata": {},
   "outputs": [],
   "source": [
    "# setting the pdf_constructor_name again produces a warning.\n",
    "quant_dist.dist.pdf_constructor_name = 'cdf_spline_derivative'\n",
    "\n",
    "# setting it to something that doesn't exist in the PDF_CONSTRUCTORS raises a ValueError\n",
    "# commented out to allow all the cells to run. Uncomment this line to see the error.\n",
    "# quant_dist.dist.interpolator = 'drewtonian'"
   ]
  },
  {
   "cell_type": "code",
   "execution_count": null,
   "metadata": {},
   "outputs": [],
   "source": [
    "qp.plotting.plot_native(quant_dist, xlim=(0, 6))"
   ]
  },
  {
   "cell_type": "code",
   "execution_count": null,
   "metadata": {},
   "outputs": [],
   "source": [
    "# Recalculate the splines using a different spline_order\n",
    "quant_dist.dist.pdf_constructor_name = 'cdf_spline_derivative'\n",
    "quant_dist.dist.pdf_constructor.prepare_constructor(spline_order=1)\n",
    "qp.plotting.plot_native(quant_dist, xlim=(0, 6))"
   ]
  },
  {
   "cell_type": "code",
   "execution_count": null,
   "metadata": {},
   "outputs": [],
   "source": [
    "# change the selected interpolator in quant Ensemble\n",
    "quant_dist.dist.pdf_constructor_name = 'piecewise_linear'\n",
    "qp.plotting.plot_native(quant_dist, xlim=(0, 6))"
   ]
  },
  {
   "cell_type": "code",
   "execution_count": null,
   "metadata": {},
   "outputs": [],
   "source": [
    "quant_dist.dist.pdf_constructor_name = 'dual_spline_average'\n",
    "print(quant_dist.dist.pdf_constructor_name)\n",
    "qp.plotting.plot_native(quant_dist, xlim=(0,6))"
   ]
  },
  {
   "cell_type": "code",
   "execution_count": null,
   "metadata": {},
   "outputs": [],
   "source": [
    "# showing how to use CdfSplineDerivative outside of a quant Ensemble.\n",
    "spliner_for_quant_dist = CdfSplineDerivative(new_quants, np.array([new_locs]))\n",
    "spliner_for_quant_dist.prepare_constructor()\n",
    "grid = np.linspace(0,6,100)\n",
    "output = spliner_for_quant_dist.construct_pdf(grid)\n",
    "plt.plot(grid, np.squeeze(output))"
   ]
  }
 ],
 "metadata": {
  "kernelspec": {
   "display_name": "qp_issue_25",
   "language": "python",
   "name": "python3"
  },
  "language_info": {
   "codemirror_mode": {
    "name": "ipython",
    "version": 3
   },
   "file_extension": ".py",
   "mimetype": "text/x-python",
   "name": "python",
   "nbconvert_exporter": "python",
   "pygments_lexer": "ipython3",
   "version": "3.10.8"
  },
  "orig_nbformat": 4,
  "vscode": {
   "interpreter": {
    "hash": "9be1a7334e581107f2753dc5e5ebb12b8975e5f80325d35375311bd0b6b51792"
   }
  }
 },
 "nbformat": 4,
 "nbformat_minor": 2
}
