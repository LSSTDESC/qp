{
 "cells": [
  {
   "cell_type": "code",
   "execution_count": null,
   "metadata": {},
   "outputs": [],
   "source": [
    "import matplotlib.pyplot as plt\n",
    "import numpy as np\n",
    "import os\n",
    "import scipy.stats as sps\n",
    "\n",
    "import matplotlib\n",
    "matplotlib.use('Agg')\n",
    "import matplotlib.pyplot as plt\n",
    "%matplotlib inline\n",
    "\n",
    "import qp as qp\n",
    "\n",
    "loc1 = np.array([[0]])\n",
    "scale1 = np.array([[1]])\n",
    "dist1 = qp.stats.rayleigh(loc=loc1, scale=scale1)\n",
    "fig, axes = qp.plotting.plot_native(dist1, xlim=(0., 5.))\n",
    "axes.grid(True, linestyle='dotted')\n",
    "\n",
    "# Define the quantile values to compute the locations for\n",
    "min_q = 0.01\n",
    "max_q = 0.99\n",
    "num_q = 15\n",
    "quants = np.linspace(min_q, max_q, num_q)\n",
    "\n",
    "# Compute the corresponding locations using the Percentile Point Function of the normal distribution defined above\n",
    "# (scale = 1, location = 0)\n",
    "locs = dist1.ppf(quants)"
   ]
  },
  {
   "attachments": {},
   "cell_type": "markdown",
   "metadata": {},
   "source": [
    "Show that `quant_piecewise_gen` seems to be doing something odd when plotting PDFs"
   ]
  },
  {
   "cell_type": "code",
   "execution_count": null,
   "metadata": {},
   "outputs": [],
   "source": [
    "# Construct the PDF using the quantile value and locations\n",
    "quant_pw_dist = qp.quant_piecewise(quants=quants, locs=locs)\n",
    "fig, axes = qp.plotting.plot_native(quant_pw_dist, xlim=(0, 5.), label=\"constant quantiles\")\n",
    "qp.plotting.plot_native(dist1, axes=axes)\n",
    "axes.grid(True, linestyle='dotted')\n",
    "leg = fig.legend()"
   ]
  },
  {
   "attachments": {},
   "cell_type": "markdown",
   "metadata": {},
   "source": [
    "Show that `quant_gen` has an elephants foot too."
   ]
  },
  {
   "cell_type": "code",
   "execution_count": null,
   "metadata": {},
   "outputs": [],
   "source": [
    "# Construct the distribution using the quantile value and locations\n",
    "quant_linear_dist = qp.quant(quants=quants, locs=locs)\n",
    "\n",
    "fig, axes = qp.plotting.plot_native(quant_linear_dist, xlim=(0, 5.), label=\"linear, non-constant quantiles\")\n",
    "\n",
    "qp.plotting.plot_native(dist1, axes=axes)\n",
    "axes.grid(True, linestyle='dotted')\n",
    "leg = fig.legend()"
   ]
  },
  {
   "attachments": {},
   "cell_type": "markdown",
   "metadata": {},
   "source": [
    "Check that `locs` with multiple location arrays works as expected."
   ]
  },
  {
   "cell_type": "code",
   "execution_count": null,
   "metadata": {},
   "outputs": [],
   "source": [
    "# Construct the distribution using the quantile value and multiple locations\n",
    "multi_locs = np.stack([locs, locs+0.5, locs-0.5]) # shape = (3,15)\n",
    "\n",
    "quant_linear_dist = qp.Ensemble(qp.quant, data=dict(quants=quants, locs=multi_locs))\n",
    "ax=quant_linear_dist[0].plot_native(xlim=(0, 5.))\n",
    "quant_linear_dist[1].plot_native(axes=ax)\n",
    "quant_linear_dist[2].plot_native(axes=ax)"
   ]
  },
  {
   "cell_type": "code",
   "execution_count": null,
   "metadata": {},
   "outputs": [],
   "source": []
  }
 ],
 "metadata": {
  "kernelspec": {
   "display_name": "qp_issue_25",
   "language": "python",
   "name": "python3"
  },
  "language_info": {
   "codemirror_mode": {
    "name": "ipython",
    "version": 3
   },
   "file_extension": ".py",
   "mimetype": "text/x-python",
   "name": "python",
   "nbconvert_exporter": "python",
   "pygments_lexer": "ipython3",
   "version": "3.10.8 | packaged by conda-forge | (main, Nov 22 2022, 08:25:29) [Clang 14.0.6 ]"
  },
  "orig_nbformat": 4,
  "vscode": {
   "interpreter": {
    "hash": "9be1a7334e581107f2753dc5e5ebb12b8975e5f80325d35375311bd0b6b51792"
   }
  }
 },
 "nbformat": 4,
 "nbformat_minor": 2
}
