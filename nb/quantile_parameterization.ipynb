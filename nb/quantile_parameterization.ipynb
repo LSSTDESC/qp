{
 "cells": [
  {
   "cell_type": "code",
   "execution_count": null,
   "metadata": {},
   "outputs": [],
   "source": [
    "import matplotlib.pyplot as plt\n",
    "import numpy as np\n",
    "import os\n",
    "import scipy.stats as sps\n",
    "\n",
    "import matplotlib\n",
    "matplotlib.use('Agg')\n",
    "import matplotlib.pyplot as plt\n",
    "%matplotlib inline\n",
    "\n",
    "import qp as qp"
   ]
  },
  {
   "cell_type": "code",
   "execution_count": null,
   "metadata": {},
   "outputs": [],
   "source": [
    "loc1 = np.array([[0]])\n",
    "scale1 = np.array([[1]])\n",
    "dist1 = qp.stats.rayleigh(loc=loc1, scale=scale1)\n",
    "fig, axes = qp.plotting.plot_native(dist1, xlim=(0., 5.))"
   ]
  },
  {
   "cell_type": "code",
   "execution_count": null,
   "metadata": {},
   "outputs": [],
   "source": [
    "xvals = np.linspace(-5, 5, 11)\n",
    "\n",
    "# Define the quantile values to compute the locations for\n",
    "min_q = 0.01\n",
    "max_q = 0.99\n",
    "num_q = 7\n",
    "quants = np.linspace(min_q, max_q, num_q)\n",
    "\n",
    "# Compute the corresponding locations using the Percentile Point Function of the normal distribution defined above\n",
    "# (scale = 1, location = 0)\n",
    "locs = dist1.ppf(quants)\n",
    "\n",
    "# Print a quantile: location table for the normal distribution\n",
    "print('quantile: location')\n",
    "for q, l in zip(quants, locs[0]):\n",
    "    print(f'{np.round(q,3)}: {np.round(l,3)}')"
   ]
  },
  {
   "attachments": {},
   "cell_type": "markdown",
   "metadata": {},
   "source": [
    "Show that constant quantiles is mostly behaving when plotting PDFs"
   ]
  },
  {
   "cell_type": "code",
   "execution_count": null,
   "metadata": {},
   "outputs": [],
   "source": [
    "# Construct the distribution using the quantile value and locations\n",
    "quant_pw_dist = qp.quant_piecewise(quants=quants, locs=locs)\n",
    "fig, axes = qp.plotting.plot_native(quant_pw_dist, xlim=(0, 5.), label=\"constant quantiles\")\n",
    "qp.plotting.plot_native(dist1, axes=axes)\n",
    "leg = fig.legend()"
   ]
  },
  {
   "attachments": {},
   "cell_type": "markdown",
   "metadata": {},
   "source": [
    "Show that `quant_piecewise_gen` seems to be doing something odd when plotting PDFs"
   ]
  },
  {
   "cell_type": "code",
   "execution_count": null,
   "metadata": {},
   "outputs": [],
   "source": [
    "# Construct the distribution using the quantile value and locations\n",
    "quant_linear_dist = qp.quant(quants=quants, locs=locs)\n",
    "fig, axes = qp.plotting.plot_native(quant_linear_dist, xlim=(0, 5.), label=\"linear, non-constant quantiles\")\n",
    "qp.plotting.plot_native(dist1, axes=axes)\n",
    "leg = fig.legend()"
   ]
  },
  {
   "attachments": {},
   "cell_type": "markdown",
   "metadata": {},
   "source": [
    "Plot a comparison of CDFs"
   ]
  },
  {
   "cell_type": "code",
   "execution_count": null,
   "metadata": {},
   "outputs": [],
   "source": [
    "redshifts = np.linspace(0, 3.5, 10)\n",
    "cdf_val_linear = quant_linear_dist.cdf(redshifts)\n",
    "cdf_val_const = quant_pw_dist.cdf(redshifts)\n",
    "cdf_dist = dist1.cdf(redshifts)\n",
    "\n",
    "fig, ax = plt.subplots()\n",
    "ax.plot(redshifts, cdf_dist[0], lw=2.0, label='Baseline distribution')\n",
    "ax.plot(redshifts, cdf_val_linear[0], lw=1.0, linestyle='--', label='Quantile linear')\n",
    "ax.plot(redshifts, cdf_val_const[0], lw=1.0, linestyle='--', label='Quantile constant')\n",
    "\n",
    "ax.scatter(redshifts, np.zeros(np.shape(redshifts)), marker='|', s=100, label='Evaluated redshifts')\n",
    "ax.set_xlabel('Redshift')\n",
    "ax.set_ylabel('P(z)')\n",
    "ax.set_title('CDF Comparison')\n",
    "_ = fig.legend(loc='center right')\n"
   ]
  },
  {
   "attachments": {},
   "cell_type": "markdown",
   "metadata": {},
   "source": [
    "Plot a comparison of PPFs evaluated at more x values than were used to initialize the quantile distributions. "
   ]
  },
  {
   "cell_type": "code",
   "execution_count": null,
   "metadata": {},
   "outputs": [],
   "source": [
    "\n",
    "quants_more = np.linspace(0.01, 0.99, 20)\n",
    "ppf_val_linear = quant_linear_dist.ppf(quants_more)\n",
    "ppf_val_const = quant_pw_dist.ppf(quants_more)\n",
    "ppf_dist = dist1.ppf(quants_more)\n",
    "\n",
    "fig, ax = plt.subplots()\n",
    "ax.plot(quants_more, ppf_dist[0], lw=2.0, label='Baseline distribution')\n",
    "ax.plot(quants_more, ppf_val_linear[0], lw=1.0, linestyle='--', label='Quantile linear')\n",
    "ax.plot(quants_more, ppf_val_const[0], lw=1.0, linestyle='--', label='Quantile constant')\n",
    "\n",
    "ax.scatter(quants_more, np.zeros(np.shape(quants_more)), marker='|', s=100, label='Quantiles')\n",
    "ax.set_xlabel('Quantiles')\n",
    "ax.set_ylabel('P(sample < y)')\n",
    "ax.set_title('PPF Comparison')\n",
    "_ = fig.legend()"
   ]
  },
  {
   "cell_type": "code",
   "execution_count": null,
   "metadata": {},
   "outputs": [],
   "source": []
  }
 ],
 "metadata": {
  "kernelspec": {
   "display_name": "qp_issue_25",
   "language": "python",
   "name": "python3"
  },
  "language_info": {
   "codemirror_mode": {
    "name": "ipython",
    "version": 3
   },
   "file_extension": ".py",
   "mimetype": "text/x-python",
   "name": "python",
   "nbconvert_exporter": "python",
   "pygments_lexer": "ipython3",
   "version": "3.10.6"
  },
  "orig_nbformat": 4,
  "vscode": {
   "interpreter": {
    "hash": "9be1a7334e581107f2753dc5e5ebb12b8975e5f80325d35375311bd0b6b51792"
   }
  }
 },
 "nbformat": 4,
 "nbformat_minor": 2
}
