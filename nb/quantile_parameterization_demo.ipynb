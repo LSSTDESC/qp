{
 "cells": [
  {
   "attachments": {},
   "cell_type": "markdown",
   "metadata": {},
   "source": [
    "This notebook is meant to demonstrate the use of quantile parameterization. Basic usage is covered in the first section. In the second half two different classes of distribution are used to showcase how the various PDF reconstruction algorithms perform."
   ]
  },
  {
   "cell_type": "code",
   "execution_count": null,
   "metadata": {},
   "outputs": [],
   "source": [
    "# Imports and global defaults\n",
    "import qp\n",
    "import numpy as np\n",
    "import matplotlib.pyplot as plt\n",
    "\n",
    "# Sets the x axis limits on all plots, rerun notebook to apply changes.\n",
    "STD_X_LIM = (0,5)"
   ]
  },
  {
   "cell_type": "code",
   "execution_count": null,
   "metadata": {},
   "outputs": [],
   "source": [
    "# Create an Ensemble with a single normal distribution\n",
    "single_norm = qp.Ensemble(qp.stats.norm, data=dict(loc=3, scale=0.5))\n",
    "\n",
    "# Starting with a simple base case. Reasonable quantiles >0, <1.0\n",
    "single_norm_quantiles = np.linspace(0.001, 0.999, 16)\n",
    "single_norm_locations = single_norm.ppf(single_norm_quantiles)\n",
    "\n",
    "# Create a quantile parameterization ensemble\n",
    "quant_dist_single_norm = qp.quant(quants=single_norm_quantiles, locs=single_norm_locations)"
   ]
  },
  {
   "cell_type": "code",
   "execution_count": null,
   "metadata": {},
   "outputs": [],
   "source": [
    "# Print out the constructor name\n",
    "print(quant_dist_single_norm.dist.pdf_constructor_name)"
   ]
  },
  {
   "cell_type": "code",
   "execution_count": null,
   "metadata": {},
   "outputs": [],
   "source": [
    "# Create an Ensemble with 3 normal distributions\n",
    "means = np.array([[1], [2.5], [3]])\n",
    "scales = np.array([[0.25], [0.5], [0.1]])\n",
    "many_norm = qp.Ensemble(qp.stats.norm, data=dict(loc=means, scale=scales))\n",
    "\n",
    "# Starting with a simple base case. Reasonable quantiles >0, <1.0\n",
    "many_norm_quantiles = np.linspace(0.001, 0.999, 16)\n",
    "many_norm_locations = many_norm.ppf(many_norm_quantiles)\n",
    "\n",
    "# Create a quantile parameterization ensemble\n",
    "quant_dist_many_norm = qp.quant(quants=many_norm_quantiles, locs=many_norm_locations)\n",
    "\n",
    "# The following approach is identical, and is basically syntactical sugar.\n",
    "quant_dist_many_norm = qp.convert(many_norm, 'quant', quants=many_norm_quantiles)"
   ]
  },
  {
   "cell_type": "code",
   "execution_count": null,
   "metadata": {},
   "outputs": [],
   "source": [
    "# Create a grid and call `pdf` to return the y values to reconstruct the initial PDF\n",
    "user_provided_grid = np.linspace(0,4,100)\n",
    "results = quant_dist_many_norm.pdf(user_provided_grid)\n",
    "print(results.shape)"
   ]
  },
  {
   "cell_type": "code",
   "execution_count": null,
   "metadata": {},
   "outputs": [],
   "source": [
    "user_provided_grid = np.linspace(0,4,100)\n",
    "\n",
    "# Use the following syntax to retrieve a specific distribution's PDF from the Ensemble\n",
    "results = quant_dist_many_norm[1].pdf(user_provided_grid)\n",
    "print(results.shape)"
   ]
  },
  {
   "cell_type": "code",
   "execution_count": null,
   "metadata": {},
   "outputs": [],
   "source": [
    "# Show that we can use different row values, and get different values out.\n",
    "user_provided_grid = np.linspace(0,4,100)\n",
    "user_provided_row = [0]\n",
    "result_1 = quant_dist_many_norm.dist.pdf_constructor.construct_pdf(grid=user_provided_grid, row=user_provided_row)\n",
    "\n",
    "user_provided_row = [1]\n",
    "result_2 = quant_dist_many_norm.dist.pdf_constructor.construct_pdf(grid=user_provided_grid, row=user_provided_row)\n",
    "\n",
    "# Expect that this will be non-zero\n",
    "print(np.sum(result_1 - result_2))"
   ]
  },
  {
   "cell_type": "code",
   "execution_count": null,
   "metadata": {},
   "outputs": [],
   "source": [
    "# Show that you can pass in multiple row index values\n",
    "user_provided_grid = np.linspace(0,4,100)\n",
    "user_provided_rows = [[0,1]]\n",
    "results = quant_dist_many_norm.dist.pdf_constructor.construct_pdf(grid=user_provided_grid, row=user_provided_rows)\n",
    "\n",
    "# Expect this to be (2,100), but the `.ravel()` function in the piecewise_*\n",
    "# constructors convert the results of interpolation into an array with shape = (2*100,)...\n",
    "print(results.shape)"
   ]
  },
  {
   "cell_type": "code",
   "execution_count": null,
   "metadata": {},
   "outputs": [],
   "source": [
    "# Show basic plotting\n",
    "_, ax1 = qp.plotting.plot_native(quant_dist_single_norm, xlim=STD_X_LIM)\n",
    "qp.plotting.plot_native(single_norm, axes=ax1)\n",
    "ax1.set_title('Single distribution quantile parameterization')\n",
    "\n",
    "plot_index = 0\n",
    "_, ax2 = qp.plotting.plot_native(quant_dist_many_norm[plot_index], xlim=STD_X_LIM)\n",
    "qp.plotting.plot_native(many_norm[plot_index], axes=ax2)\n",
    "ax2.set_title('Single selected distribution from Ensemble of quantile parameterization')"
   ]
  },
  {
   "attachments": {},
   "cell_type": "markdown",
   "metadata": {},
   "source": [
    "## Examination of different reconstruction algorithms for various types of distributions"
   ]
  },
  {
   "attachments": {},
   "cell_type": "markdown",
   "metadata": {},
   "source": [
    "### Simple Gaussian"
   ]
  },
  {
   "cell_type": "code",
   "execution_count": null,
   "metadata": {},
   "outputs": [],
   "source": [
    "# Same as the single_norm Ensemble created at the beginning of the notebook.\n",
    "single_norm = qp.Ensemble(qp.stats.norm, data=dict(loc=3, scale=0.5))\n",
    "fig, ax = qp.plotting.plot_native(single_norm, xlim=STD_X_LIM)\n",
    "ax.set_title('Original simple Gaussian distribution')"
   ]
  },
  {
   "cell_type": "code",
   "execution_count": null,
   "metadata": {},
   "outputs": [],
   "source": [
    "# Define the quantiles, extract the locations from the original distribution\n",
    "single_norm_quantiles = np.linspace(0.001, 0.999, 16)\n",
    "single_norm_locations = single_norm.ppf(single_norm_quantiles)\n",
    "\n",
    "# Create a quantile parameterization ensemble\n",
    "quant_dist_single_norm = qp.quant(quants=single_norm_quantiles, locs=single_norm_locations)"
   ]
  },
  {
   "cell_type": "code",
   "execution_count": null,
   "metadata": {},
   "outputs": [],
   "source": [
    "fig, ax = plt.subplots(2,2)\n",
    "plt.setp(ax, xlim=STD_X_LIM)\n",
    "\n",
    "quant_dist_single_norm.dist.pdf_constructor_name = 'piecewise_linear' # Will emit a logger warning that this constructor is already selected\n",
    "qp.plotting.plot_native(quant_dist_single_norm, axes=ax[0,0])\n",
    "qp.plotting.plot_native(single_norm, axes=ax[0,0])\n",
    "\n",
    "\n",
    "quant_dist_single_norm.dist.pdf_constructor_name = 'piecewise_constant'\n",
    "qp.plotting.plot_native(quant_dist_single_norm, axes=ax[0,1])\n",
    "qp.plotting.plot_native(single_norm, axes=ax[0,1])\n",
    "\n",
    "\n",
    "quant_dist_single_norm.dist.pdf_constructor_name = 'cdf_spline_derivative'\n",
    "qp.plotting.plot_native(quant_dist_single_norm, axes=ax[1,0])\n",
    "qp.plotting.plot_native(single_norm, axes=ax[1,0])\n",
    "\n",
    "\n",
    "quant_dist_single_norm.dist.pdf_constructor_name = 'dual_spline_average'\n",
    "qp.plotting.plot_native(quant_dist_single_norm, axes=ax[1,1])\n",
    "qp.plotting.plot_native(single_norm, axes=ax[1,1])\n",
    "\n",
    "ax[0,0].set_title('piecewise_linear')\n",
    "ax[0,1].set_title('piecewise_constant')\n",
    "ax[1,0].set_title('cdf_spline_derivative')\n",
    "ax[1,1].set_title('dual_spline_average')"
   ]
  },
  {
   "attachments": {},
   "cell_type": "markdown",
   "metadata": {},
   "source": [
    "### Simple Rayleigh"
   ]
  },
  {
   "cell_type": "code",
   "execution_count": null,
   "metadata": {},
   "outputs": [],
   "source": [
    "# Same as the single_norm Ensemble created at the beginning of the notebook.\n",
    "single_rayleigh = qp.Ensemble(qp.stats.rayleigh, data=dict(loc=0, scale=1))\n",
    "fig, ax = qp.plotting.plot_native(single_rayleigh, xlim=STD_X_LIM)\n",
    "ax.set_title('Original simple Rayleigh distribution')"
   ]
  },
  {
   "cell_type": "code",
   "execution_count": null,
   "metadata": {},
   "outputs": [],
   "source": [
    "# Define the quantiles, extract the locations from the original distribution\n",
    "single_rayleigh_quantiles = np.linspace(0.001, 0.999, 16)\n",
    "single_rayleigh_locations = single_rayleigh.ppf(single_rayleigh_quantiles)\n",
    "\n",
    "# Create a quantile parameterization ensemble\n",
    "quant_dist_single_rayleigh = qp.quant(quants=single_rayleigh_quantiles, locs=single_rayleigh_locations)"
   ]
  },
  {
   "cell_type": "code",
   "execution_count": null,
   "metadata": {},
   "outputs": [],
   "source": [
    "fig, ax = plt.subplots(2,2)\n",
    "plt.setp(ax, xlim=STD_X_LIM)\n",
    "\n",
    "quant_dist_single_rayleigh.dist.pdf_constructor_name = 'piecewise_linear' # Will emit a logger warning that this constructor is already selected\n",
    "qp.plotting.plot_native(quant_dist_single_rayleigh, axes=ax[0,0])\n",
    "qp.plotting.plot_native(single_rayleigh, axes=ax[0,0])\n",
    "\n",
    "\n",
    "quant_dist_single_rayleigh.dist.pdf_constructor_name = 'piecewise_constant'\n",
    "qp.plotting.plot_native(quant_dist_single_rayleigh, axes=ax[0,1])\n",
    "qp.plotting.plot_native(single_rayleigh, axes=ax[0,1])\n",
    "\n",
    "\n",
    "quant_dist_single_rayleigh.dist.pdf_constructor_name = 'cdf_spline_derivative'\n",
    "qp.plotting.plot_native(quant_dist_single_rayleigh, axes=ax[1,0])\n",
    "qp.plotting.plot_native(single_rayleigh, axes=ax[1,0])\n",
    "\n",
    "\n",
    "quant_dist_single_rayleigh.dist.pdf_constructor_name = 'dual_spline_average'\n",
    "qp.plotting.plot_native(quant_dist_single_rayleigh, axes=ax[1,1])\n",
    "qp.plotting.plot_native(single_rayleigh, axes=ax[1,1])\n",
    "\n",
    "ax[0,0].set_title('piecewise_linear')\n",
    "ax[0,1].set_title('piecewise_constant')\n",
    "ax[1,0].set_title('cdf_spline_derivative')\n",
    "ax[1,1].set_title('dual_spline_average')"
   ]
  },
  {
   "attachments": {},
   "cell_type": "markdown",
   "metadata": {},
   "source": [
    "### Merged Gaussian distributions"
   ]
  },
  {
   "cell_type": "code",
   "execution_count": null,
   "metadata": {},
   "outputs": [],
   "source": [
    "# Create a multi-modal distribution where two Gaussian distributions are merged\n",
    "mu =  np.array([1.7, 2.9])\n",
    "sig = np.array([0.3, 0.4])\n",
    "wt =  np.array([0.4, 0.6])\n",
    "\n",
    "merged_norms = qp.Ensemble(qp.mixmod, data=dict(means=mu, stds=sig, weights=wt))\n",
    "fig, ax = qp.plotting.plot_native(merged_norms, xlim=STD_X_LIM)\n",
    "ax.set_title('Original merged Gaussian distribution')"
   ]
  },
  {
   "cell_type": "code",
   "execution_count": null,
   "metadata": {},
   "outputs": [],
   "source": [
    "# Define the quantiles, extract the locations from the original distribution\n",
    "merged_norm_quantiles = np.linspace(0.001, 0.999, 30)\n",
    "merged_norm_locations = merged_norms.ppf(merged_norm_quantiles)\n",
    "\n",
    "# Create a quantile parameterization Ensemble\n",
    "quant_dist_merged_norm = qp.quant(quants=merged_norm_quantiles, locs=merged_norm_locations)"
   ]
  },
  {
   "attachments": {},
   "cell_type": "markdown",
   "metadata": {},
   "source": [
    "The following plots show how each of the different pdf reconstruction algorithms perform in the case of a merged distribution."
   ]
  },
  {
   "cell_type": "code",
   "execution_count": null,
   "metadata": {},
   "outputs": [],
   "source": [
    "fig, ax = plt.subplots(2,2)\n",
    "plt.setp(ax, xlim=STD_X_LIM)\n",
    "\n",
    "quant_dist_merged_norm.dist.pdf_constructor_name = 'piecewise_linear' # Will emit a logger warning that this constructor is already selected\n",
    "qp.plotting.plot_native(quant_dist_merged_norm, axes=ax[0,0])\n",
    "qp.plotting.plot_native(merged_norms, axes=ax[0,0])\n",
    "\n",
    "\n",
    "quant_dist_merged_norm.dist.pdf_constructor_name = 'piecewise_constant'\n",
    "qp.plotting.plot_native(quant_dist_merged_norm, axes=ax[0,1])\n",
    "qp.plotting.plot_native(merged_norms, axes=ax[0,1])\n",
    "\n",
    "\n",
    "quant_dist_merged_norm.dist.pdf_constructor_name = 'cdf_spline_derivative'\n",
    "qp.plotting.plot_native(quant_dist_merged_norm, axes=ax[1,0])\n",
    "qp.plotting.plot_native(merged_norms, axes=ax[1,0])\n",
    "\n",
    "\n",
    "quant_dist_merged_norm.dist.pdf_constructor_name = 'dual_spline_average'\n",
    "qp.plotting.plot_native(quant_dist_merged_norm, axes=ax[1,1])\n",
    "qp.plotting.plot_native(merged_norms, axes=ax[1,1])\n",
    "\n",
    "ax[0,0].set_title('piecewise_linear')\n",
    "ax[0,1].set_title('piecewise_constant')\n",
    "ax[1,0].set_title('cdf_spline_derivative')\n",
    "ax[1,1].set_title('dual_spline_average')"
   ]
  },
  {
   "attachments": {},
   "cell_type": "markdown",
   "metadata": {},
   "source": [
    "### Distinct Gaussian distributions"
   ]
  },
  {
   "cell_type": "code",
   "execution_count": null,
   "metadata": {},
   "outputs": [],
   "source": [
    "# Create a multi-modal distribution with two distinct Gaussian distributions\n",
    "mu =  np.array([1, 3])\n",
    "sig = np.array([0.1, 0.1])\n",
    "wt =  np.array([0.4, 0.6])\n",
    "\n",
    "distinct_norms = qp.Ensemble(qp.mixmod, data=dict(means=mu, stds=sig, weights=wt))\n",
    "fig, ax = qp.plotting.plot_native(distinct_norms, xlim=STD_X_LIM)\n",
    "ax.set_title('Original distinct Gaussian distribution')"
   ]
  },
  {
   "cell_type": "code",
   "execution_count": null,
   "metadata": {},
   "outputs": [],
   "source": [
    "# Define the quantiles, extract the locations from the original distribution\n",
    "distinct_norm_quantiles = np.linspace(0.001, 0.999, 30)\n",
    "distinct_norm_locations = distinct_norms.ppf(distinct_norm_quantiles)\n",
    "\n",
    "# Create a quantile parameterization Ensemble\n",
    "quant_dist_distinct_norm = qp.quant(quants=distinct_norm_quantiles, locs=distinct_norm_locations)"
   ]
  },
  {
   "cell_type": "code",
   "execution_count": null,
   "metadata": {},
   "outputs": [],
   "source": [
    "fig, ax = plt.subplots(2,2)\n",
    "plt.setp(ax, xlim=STD_X_LIM)\n",
    "\n",
    "quant_dist_distinct_norm.dist.pdf_constructor_name = 'piecewise_linear' # Will emit a logger warning that this constructor is already selected\n",
    "qp.plotting.plot_native(quant_dist_distinct_norm, axes=ax[0,0])\n",
    "qp.plotting.plot_native(distinct_norms, axes=ax[0,0])\n",
    "\n",
    "quant_dist_distinct_norm.dist.pdf_constructor_name = 'piecewise_constant'\n",
    "qp.plotting.plot_native(quant_dist_distinct_norm, axes=ax[0,1])\n",
    "qp.plotting.plot_native(distinct_norms, axes=ax[0,1])\n",
    "\n",
    "quant_dist_distinct_norm.dist.pdf_constructor_name = 'cdf_spline_derivative'\n",
    "qp.plotting.plot_native(quant_dist_distinct_norm, axes=ax[1,0])\n",
    "qp.plotting.plot_native(distinct_norms, axes=ax[1,0])\n",
    "\n",
    "quant_dist_distinct_norm.dist.pdf_constructor_name = 'dual_spline_average'\n",
    "qp.plotting.plot_native(quant_dist_distinct_norm, axes=ax[1,1])\n",
    "qp.plotting.plot_native(distinct_norms, axes=ax[1,1])\n",
    "\n",
    "ax[0,0].set_title('piecewise_linear')\n",
    "ax[0,1].set_title('piecewise_constant')\n",
    "ax[1,0].set_title('cdf_spline_derivative')\n",
    "ax[1,1].set_title('dual_spline_average')"
   ]
  },
  {
   "attachments": {},
   "cell_type": "markdown",
   "metadata": {},
   "source": [
    "## PDF Reconstruction algorithm `debug` method\n",
    "Each PDF reconstruction class has a `debug` method which will generally return a tuple of the primary and intermediate calculations used to reconstruct the original PDF. "
   ]
  },
  {
   "cell_type": "code",
   "execution_count": null,
   "metadata": {},
   "outputs": [],
   "source": [
    "# Create a multi-modal distribution where two Gaussian distributions are merged - same as the section above, \"Merged Gaussian distributions\".\n",
    "mu =  np.array([1.7, 2.9])\n",
    "sig = np.array([0.3, 0.4])\n",
    "wt =  np.array([0.4, 0.6])\n",
    "\n",
    "merged_norms = qp.Ensemble(qp.mixmod, data=dict(means=mu, stds=sig, weights=wt))\n",
    "fig, ax = qp.plotting.plot_native(merged_norms, xlim=STD_X_LIM)\n",
    "ax.set_title('Original merged Gaussian distribution')\n",
    "\n"
   ]
  },
  {
   "attachments": {},
   "cell_type": "markdown",
   "metadata": {},
   "source": [
    "In the following diagram, we've used the `debug` method to retrieve the intermediate calculations from the dual spline average PDF reconstructor. \n",
    "\n",
    "The plot shows the original PDF in blue, and the reconstructed points as orange stars. Shown as a green dotted line, the trapezoid reconstruction of the original PDF uses an iterative approach to calculate the unknown corner of the trapezoid approximation of the curve.\n",
    "\n",
    "Noting that the trapezoid reconstruction oscillates around the true PDF at every point leads to fitting two splines (the purple and red dashed lines) on the even and odd points of the trapezoid reconstruction. The final output is the average of the two splines at a given x location."
   ]
  },
  {
   "cell_type": "code",
   "execution_count": null,
   "metadata": {},
   "outputs": [],
   "source": [
    "# Define the quantiles, extract the locations from the original distribution\n",
    "merged_norm_quantiles = np.linspace(0.001, 0.999, 30)\n",
    "merged_norm_locations = merged_norms.ppf(merged_norm_quantiles)\n",
    "\n",
    "# Create a quantile parameterization Ensemble\n",
    "quant_dist_merged_norm = qp.quant(quants=merged_norm_quantiles, locs=merged_norm_locations)\n",
    "\n",
    "# Set the PDF reconstruction algorithm to use\n",
    "quant_dist_merged_norm.dist.pdf_constructor_name = 'dual_spline_average'\n",
    "\n",
    "# Retrieve the reconstructed PDF manually by passing in a \"grid\".\n",
    "x_values = np.linspace(0,5,100)\n",
    "original_y_values = merged_norms.pdf(x_values)\n",
    "y_values = quant_dist_merged_norm.pdf(x_values)\n",
    "\n",
    "# Retrieve the primary data and intermediate calculations for the algorithm.\n",
    "# Here `quantiles`` and `locations`` are the primary data. `p_of_zs`, `y1`, and `y2` are intermediate results.\n",
    "# `p_of_zs` represents the intermediate stepwise calculation of area under the PDF based on the the difference between adjacent quantiles\n",
    "# `y1` and `y2` are splines fit to the odd and even `p_of_zs` values (respectively)\n",
    "quantiles, locations, p_of_zs, y1, y2 = quant_dist_merged_norm.dist.pdf_constructor.debug()\n",
    "\n",
    "plt.plot(x_values, original_y_values, linewidth=5, label='Original PDF')\n",
    "plt.plot(x_values, y_values, marker='*', linestyle='none', label='Reconstructed PDF')\n",
    "plt.plot(np.squeeze(locations), np.squeeze(p_of_zs), linestyle=':', label='Intermediate trapezoid')\n",
    "plt.plot(x_values, np.squeeze(y1), linestyle='--', label='Lower spline fit')\n",
    "plt.plot(x_values, np.squeeze(y2), linestyle='--', label='Upper spline fit')\n",
    "plt.legend(loc='center left', bbox_to_anchor=(1, 0.5))\n",
    "plt.xlim(0,5)\n"
   ]
  },
  {
   "cell_type": "code",
   "execution_count": null,
   "metadata": {},
   "outputs": [],
   "source": []
  }
 ],
 "metadata": {
  "kernelspec": {
   "display_name": "qp_issue_25",
   "language": "python",
   "name": "python3"
  },
  "language_info": {
   "codemirror_mode": {
    "name": "ipython",
    "version": 3
   },
   "file_extension": ".py",
   "mimetype": "text/x-python",
   "name": "python",
   "nbconvert_exporter": "python",
   "pygments_lexer": "ipython3",
   "version": "3.10.8"
  },
  "orig_nbformat": 4,
  "vscode": {
   "interpreter": {
    "hash": "9be1a7334e581107f2753dc5e5ebb12b8975e5f80325d35375311bd0b6b51792"
   }
  }
 },
 "nbformat": 4,
 "nbformat_minor": 2
}
