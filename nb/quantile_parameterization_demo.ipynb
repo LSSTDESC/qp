{
 "cells": [
  {
   "cell_type": "code",
   "execution_count": null,
   "metadata": {},
   "outputs": [],
   "source": [
    "# Imports and global defaults\n",
    "import qp\n",
    "import numpy as np\n",
    "\n",
    "# Sets the x axis limits on all plots, rerun notebook to apply changes.\n",
    "STD_X_LIM = (0,5)"
   ]
  },
  {
   "cell_type": "code",
   "execution_count": null,
   "metadata": {},
   "outputs": [],
   "source": [
    "# Create an Ensemble with a single normal distribution\n",
    "single_norm = qp.stats.norm(loc=3, scale=0.5)\n",
    "\n",
    "# Starting with a simple base case. Reasonable quantiles >0, <1.0\n",
    "single_norm_quantiles = np.linspace(0.001, 0.999, 16)\n",
    "single_norm_locations = single_norm.ppf(single_norm_quantiles)\n",
    "\n",
    "# ! Maybe remove this for now ??? \n",
    "# new_quants = np.insert(single_norm_quantiles, 0, 0)\n",
    "# new_locs = np.insert(single_norm_locations, 0, 0)\n",
    "\n",
    "# Create a quantile parameterization ensemble\n",
    "quant_dist_single_norm = qp.quant(quants=single_norm_quantiles, locs=single_norm_locations)"
   ]
  },
  {
   "cell_type": "code",
   "execution_count": null,
   "metadata": {},
   "outputs": [],
   "source": [
    "# Print out the constructor name\n",
    "print(quant_dist_single_norm.dist.pdf_constructor_name)"
   ]
  },
  {
   "cell_type": "code",
   "execution_count": null,
   "metadata": {},
   "outputs": [],
   "source": [
    "# Create an Ensemble with 3 normal distributions\n",
    "many_norm = qp.stats.norm(loc=np.array([[1], [2.5], [3]]), scale=np.array([[0.25], [0.5], [0.1]]))\n",
    "\n",
    "# Starting with a simple base case. Reasonable quantiles >0, <1.0\n",
    "many_norm_quantiles = np.linspace(0.001, 0.999, 16)\n",
    "many_norm_locations = many_norm.ppf(many_norm_quantiles)\n",
    "\n",
    "# Create a quantile parameterization ensemble\n",
    "quant_dist_many_norm = qp.quant(quants=many_norm_quantiles, locs=many_norm_locations)\n",
    "\n",
    "# The following approach is identical, and is basically syntactical sugar.\n",
    "quant_dist_many_norm = qp.convert(many_norm, 'quant', quants=many_norm_quantiles)"
   ]
  },
  {
   "cell_type": "code",
   "execution_count": null,
   "metadata": {},
   "outputs": [],
   "source": [
    "# Create a grid and call `pdf` to return the y values to reconstruct the initial PDF\n",
    "user_provided_grid = np.linspace(0,4,100)\n",
    "results = quant_dist_many_norm.pdf(user_provided_grid)\n",
    "print(results.shape)"
   ]
  },
  {
   "attachments": {},
   "cell_type": "markdown",
   "metadata": {},
   "source": [
    "## Can't seem to use the following syntax with `quant_dist_many_norm.pdf`\n",
    "I would rather demonstrate quant_dist.pdf(grid=..., row=...) But I get an rv_continuous error when I do that. \n",
    "`TypeError: Ensemble.pdf() takes 2 positional arguments but 3 were given`"
   ]
  },
  {
   "cell_type": "code",
   "execution_count": null,
   "metadata": {},
   "outputs": [],
   "source": [
    "user_provided_grid = np.linspace(0,4,100)\n",
    "user_provided_row = [1]\n",
    "results = quant_dist_many_norm.dist.pdf_constructor.construct_pdf(user_provided_grid, user_provided_row)\n",
    "#results = quant_dist_many_norm.pdf(user_provided_grid, user_provided_row)\n",
    "print(results.shape)"
   ]
  },
  {
   "cell_type": "code",
   "execution_count": null,
   "metadata": {},
   "outputs": [],
   "source": [
    "# Show that we can use different row values, and get different values out.\n",
    "user_provided_grid = np.linspace(0,4,100)\n",
    "user_provided_row = [0]\n",
    "result_1 = quant_dist_many_norm.dist.pdf_constructor.construct_pdf(grid=user_provided_grid, row=user_provided_row)\n",
    "\n",
    "user_provided_row = [1]\n",
    "result_2 = quant_dist_many_norm.dist.pdf_constructor.construct_pdf(grid=user_provided_grid, row=user_provided_row)\n",
    "\n",
    "# Expect that this will be non-zero\n",
    "print(np.sum(result_1 - result_2))"
   ]
  },
  {
   "cell_type": "code",
   "execution_count": null,
   "metadata": {},
   "outputs": [],
   "source": [
    "# Show that you can pass in multiple row index values\n",
    "user_provided_grid = np.linspace(0,4,100)\n",
    "user_provided_rows = [0,2]\n",
    "results = quant_dist_many_norm.dist.pdf_constructor.construct_pdf(grid=user_provided_grid, row=user_provided_rows)\n",
    "\n",
    "# Expect this to be (2,100)\n",
    "print(results.shape)"
   ]
  },
  {
   "cell_type": "code",
   "execution_count": null,
   "metadata": {},
   "outputs": [],
   "source": [
    "# Show basic plotting\n",
    "qp.plotting.plot_native(quant_dist_single_norm, xlim=STD_X_LIM)\n",
    "qp.plotting.plot_native(quant_dist_many_norm[0], xlim=STD_X_LIM)"
   ]
  },
  {
   "attachments": {},
   "cell_type": "markdown",
   "metadata": {},
   "source": [
    "### Showing how the different reconstruction algorithms work on different input distributions"
   ]
  },
  {
   "cell_type": "code",
   "execution_count": null,
   "metadata": {},
   "outputs": [],
   "source": [
    "# Create a multi-modal distribution where the two Gaussians are merged\n",
    "mu =  np.array([1.7, 2.9])\n",
    "sig = np.array([0.3, 0.4])\n",
    "wt =  np.array([0.4, 0.6])\n",
    "\n",
    "merged_norms = qp.Ensemble(qp.mixmod, data=dict(means=mu, stds=sig, weights=wt))\n",
    "qp.plotting.plot_native(merged_norms, xlim=STD_X_LIM)"
   ]
  },
  {
   "cell_type": "code",
   "execution_count": null,
   "metadata": {},
   "outputs": [],
   "source": [
    "# Create a multi-modal distribution where the two Gaussians are distinct\n",
    "mu =  np.array([1, 3])\n",
    "sig = np.array([0.1, 0.1])\n",
    "wt =  np.array([0.4, 0.6])\n",
    "\n",
    "distinct_norms = qp.Ensemble(qp.mixmod, data=dict(means=mu, stds=sig, weights=wt))\n",
    "qp.plotting.plot_native(distinct_norms, xlim=STD_X_LIM)"
   ]
  },
  {
   "cell_type": "code",
   "execution_count": null,
   "metadata": {},
   "outputs": [],
   "source": []
  }
 ],
 "metadata": {
  "kernelspec": {
   "display_name": "qp_issue_25",
   "language": "python",
   "name": "python3"
  },
  "language_info": {
   "codemirror_mode": {
    "name": "ipython",
    "version": 3
   },
   "file_extension": ".py",
   "mimetype": "text/x-python",
   "name": "python",
   "nbconvert_exporter": "python",
   "pygments_lexer": "ipython3",
   "version": "3.10.8"
  },
  "orig_nbformat": 4,
  "vscode": {
   "interpreter": {
    "hash": "9be1a7334e581107f2753dc5e5ebb12b8975e5f80325d35375311bd0b6b51792"
   }
  }
 },
 "nbformat": 4,
 "nbformat_minor": 2
}
