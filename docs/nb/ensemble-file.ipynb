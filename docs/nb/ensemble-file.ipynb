{
 "cells": [
  {
   "cell_type": "markdown",
   "metadata": {},
   "source": [
    "# Exploring a `qp` file\n",
    "\n",
    "This notebook takes you through what the data structure of an `Ensemble` looks like, and what a `qp` HDF5 file contains."
   ]
  },
  {
   "cell_type": "code",
   "execution_count": 3,
   "metadata": {},
   "outputs": [],
   "source": [
    "import qp\n",
    "import h5py\n",
    "import tables_io\n",
    "import numpy as np\n",
    "from scipy import stats"
   ]
  },
  {
   "cell_type": "markdown",
   "metadata": {},
   "source": [
    "## What's in a `qp` file?\n",
    "\n",
    "First, let's read in an `Ensemble` from an HDF5 file using `qp` and take a look at the metadata."
   ]
  },
  {
   "cell_type": "code",
   "execution_count": 31,
   "metadata": {},
   "outputs": [
    {
     "data": {
      "text/plain": [
       "Ensemble(the_class=interp,shape=(10, 50))"
      ]
     },
     "execution_count": 31,
     "metadata": {},
     "output_type": "execute_result"
    }
   ],
   "source": [
    "ens_i = qp.read(\"interp-ensemble.hdf5\")\n",
    "ens_i"
   ]
  },
  {
   "cell_type": "code",
   "execution_count": 32,
   "metadata": {},
   "outputs": [
    {
     "data": {
      "text/plain": [
       "{'pdf_name': array([b'interp'], dtype='|S6'),\n",
       " 'pdf_version': array([0]),\n",
       " 'xvals': array([-1.        , -0.87755102, -0.75510204, -0.63265306, -0.51020408,\n",
       "        -0.3877551 , -0.26530612, -0.14285714, -0.02040816,  0.10204082,\n",
       "         0.2244898 ,  0.34693878,  0.46938776,  0.59183673,  0.71428571,\n",
       "         0.83673469,  0.95918367,  1.08163265,  1.20408163,  1.32653061,\n",
       "         1.44897959,  1.57142857,  1.69387755,  1.81632653,  1.93877551,\n",
       "         2.06122449,  2.18367347,  2.30612245,  2.42857143,  2.55102041,\n",
       "         2.67346939,  2.79591837,  2.91836735,  3.04081633,  3.16326531,\n",
       "         3.28571429,  3.40816327,  3.53061224,  3.65306122,  3.7755102 ,\n",
       "         3.89795918,  4.02040816,  4.14285714,  4.26530612,  4.3877551 ,\n",
       "         4.51020408,  4.63265306,  4.75510204,  4.87755102,  5.        ])}"
      ]
     },
     "execution_count": 32,
     "metadata": {},
     "output_type": "execute_result"
    }
   ],
   "source": [
    "ens_i.metadata"
   ]
  },
  {
   "cell_type": "markdown",
   "metadata": {},
   "source": [
    "Now that we know for sure this file contains an `Ensemble`, let's use `tables_io` to read in the data in the file and get a look at how it's formatted. "
   ]
  },
  {
   "cell_type": "code",
   "execution_count": 43,
   "metadata": {},
   "outputs": [
    {
     "data": {
      "text/plain": [
       "odict_keys(['ancil', 'data', 'meta'])"
      ]
     },
     "execution_count": 43,
     "metadata": {},
     "output_type": "execute_result"
    }
   ],
   "source": [
    "file_tab_i = tables_io.read(\"./interp-ensemble.hdf5\")\n",
    "file_tab_i.keys()"
   ]
  },
  {
   "cell_type": "markdown",
   "metadata": {},
   "source": [
    "It is an ordered dictionary with three keys: **meta** for metadata, **data** for objdata, and **ancil** for ancillary data. Let's take a look at each of these dictionaries to see how they're formatted:"
   ]
  },
  {
   "cell_type": "code",
   "execution_count": 61,
   "metadata": {},
   "outputs": [
    {
     "data": {
      "text/plain": [
       "OrderedDict([('pdf_name', array([b'interp'], dtype='|S6')),\n",
       "             ('pdf_version', array([0])),\n",
       "             ('xvals',\n",
       "              array([[-1.        , -0.87755102, -0.75510204, -0.63265306, -0.51020408,\n",
       "                      -0.3877551 , -0.26530612, -0.14285714, -0.02040816,  0.10204082,\n",
       "                       0.2244898 ,  0.34693878,  0.46938776,  0.59183673,  0.71428571,\n",
       "                       0.83673469,  0.95918367,  1.08163265,  1.20408163,  1.32653061,\n",
       "                       1.44897959,  1.57142857,  1.69387755,  1.81632653,  1.93877551,\n",
       "                       2.06122449,  2.18367347,  2.30612245,  2.42857143,  2.55102041,\n",
       "                       2.67346939,  2.79591837,  2.91836735,  3.04081633,  3.16326531,\n",
       "                       3.28571429,  3.40816327,  3.53061224,  3.65306122,  3.7755102 ,\n",
       "                       3.89795918,  4.02040816,  4.14285714,  4.26530612,  4.3877551 ,\n",
       "                       4.51020408,  4.63265306,  4.75510204,  4.87755102,  5.        ]]))])"
      ]
     },
     "execution_count": 61,
     "metadata": {},
     "output_type": "execute_result"
    }
   ],
   "source": [
    "file_tab_i[\"meta\"]"
   ]
  },
  {
   "cell_type": "code",
   "execution_count": 44,
   "metadata": {},
   "outputs": [
    {
     "data": {
      "text/plain": [
       "OrderedDict([('yvals',\n",
       "              array([[3.84729931e-22, 1.45447239e-19, 3.77974403e-17, 6.75191079e-15,\n",
       "                      8.29083747e-13, 6.99805751e-11, 4.06035506e-09, 1.61941410e-07,\n",
       "                      4.43975721e-06, 8.36696446e-05, 1.08388705e-03, 9.65178258e-03,\n",
       "                      5.90797206e-02, 2.48586039e-01, 7.18989314e-01, 1.42947162e+00,\n",
       "                      1.95360176e+00, 1.83528678e+00, 1.18516614e+00, 5.26092288e-01,\n",
       "                      1.60528458e-01, 3.36704974e-02, 4.85461093e-03, 4.81134752e-04,\n",
       "                      3.27782998e-05, 1.53501817e-06, 4.94137729e-08, 1.09342729e-09,\n",
       "                      1.66317981e-11, 1.73898526e-13, 1.24985604e-15, 6.17492215e-18,\n",
       "                      2.09705770e-20, 4.89549569e-23, 7.85579903e-26, 8.66545669e-29,\n",
       "                      6.57052311e-32, 3.42464720e-35, 1.22698465e-38, 3.02182853e-42,\n",
       "                      5.11573344e-46, 5.95324006e-50, 4.76218523e-54, 2.61858437e-58,\n",
       "                      9.89769939e-63, 2.57163511e-67, 4.59295122e-72, 5.63873544e-77,\n",
       "                      4.75859785e-82, 2.76047418e-87],\n",
       "                     [5.62574037e-11, 8.27495969e-10, 1.03658971e-08, 1.10586652e-07,\n",
       "                      1.00473916e-06, 7.77425458e-06, 5.12293674e-05, 2.87497474e-04,\n",
       "                      1.37405425e-03, 5.59279029e-03, 1.93868833e-02, 5.72324401e-02,\n",
       "                      1.43890240e-01, 3.08088307e-01, 5.61789868e-01, 8.72423581e-01,\n",
       "                      1.15381371e+00, 1.29956738e+00, 1.24657012e+00, 1.01833210e+00,\n",
       "                      7.08462651e-01, 4.19758300e-01, 2.11805109e-01, 9.10182281e-02,\n",
       "                      3.33100380e-02, 1.03818963e-02, 2.75570708e-03, 6.22937139e-04,\n",
       "                      1.19925131e-04, 1.96621492e-05, 2.74540600e-06, 3.26465262e-07,\n",
       "                      3.30614716e-08, 2.85142657e-09, 2.09438737e-10, 1.31010660e-11,\n",
       "                      6.97928711e-13, 3.16643299e-14, 1.22344470e-15, 4.02580927e-17,\n",
       "                      1.12817599e-18, 2.69249754e-20, 5.47253547e-22, 9.47276278e-24,\n",
       "                      1.39643120e-25, 1.75314257e-27, 1.87443217e-29, 1.70677799e-31,\n",
       "                      1.32354631e-33, 8.74089811e-36],\n",
       "                     [4.38787527e-07, 2.09991515e-06, 9.19647172e-06, 3.68563866e-05,\n",
       "                      1.35168748e-04, 4.53640531e-04, 1.39321913e-03, 3.91560641e-03,\n",
       "                      1.00704912e-02, 2.37014163e-02, 5.10469694e-02, 1.00609190e-01,\n",
       "                      1.81458518e-01, 2.99494665e-01, 4.52348175e-01, 6.25213886e-01,\n",
       "                      7.90781336e-01, 9.15284751e-01, 9.69455915e-01, 9.39662562e-01,\n",
       "                      8.33465840e-01, 6.76512316e-01, 5.02499497e-01, 3.41560450e-01,\n",
       "                      2.12457244e-01, 1.20933753e-01, 6.29934715e-02, 3.00272510e-02,\n",
       "                      1.30980796e-02, 5.22843486e-03, 1.90988755e-03, 6.38433864e-04,\n",
       "                      1.95297217e-04, 5.46698918e-05, 1.40046544e-05, 3.28298275e-06,\n",
       "                      7.04266167e-07, 1.38253798e-07, 2.48364397e-08, 4.08294594e-09,\n",
       "                      6.14228468e-10, 8.45586954e-11, 1.06526738e-11, 1.22809229e-12,\n",
       "                      1.29561331e-13, 1.25081137e-14, 1.10504575e-15, 8.93389249e-17,\n",
       "                      6.60956998e-18, 4.47484204e-19],\n",
       "                     [2.87668051e-05, 8.15692010e-05, 2.18658974e-04, 5.54134158e-04,\n",
       "                      1.32760555e-03, 3.00697428e-03, 6.43868072e-03, 1.30337860e-02,\n",
       "                      2.49431215e-02, 4.51271116e-02, 7.71846238e-02, 1.24804593e-01,\n",
       "                      1.90781765e-01, 2.75708196e-01, 3.76676920e-01, 4.86513466e-01,\n",
       "                      5.94055798e-01, 6.85750500e-01, 7.48361689e-01, 7.72082093e-01,\n",
       "                      7.53046741e-01, 6.94363536e-01, 6.05282892e-01, 4.98811448e-01,\n",
       "                      3.88616239e-01, 2.86227921e-01, 1.99301042e-01, 1.31193905e-01,\n",
       "                      8.16439997e-02, 4.80331871e-02, 2.67156075e-02, 1.40473766e-02,\n",
       "                      6.98283720e-03, 3.28152055e-03, 1.45789034e-03, 6.12323756e-04,\n",
       "                      2.43132983e-04, 9.12668725e-05, 3.23883615e-05, 1.08660402e-05,\n",
       "                      3.44635616e-06, 1.03336923e-06, 2.92925659e-07, 7.84993073e-08,\n",
       "                      1.98875257e-08, 4.76323711e-09, 1.07852488e-09, 2.30868487e-10,\n",
       "                      4.67203046e-11, 8.93826431e-12],\n",
       "                     [2.85498917e-04, 6.06672959e-04, 1.24018272e-03, 2.43892014e-03,\n",
       "                      4.61413558e-03, 8.39777027e-03, 1.47034244e-02, 2.47658857e-02,\n",
       "                      4.01300871e-02, 6.25557458e-02, 9.38091448e-02, 1.35333095e-01,\n",
       "                      1.87820814e-01, 2.50763480e-01, 3.22081459e-01, 3.97967886e-01,\n",
       "                      4.73054521e-01, 5.40947644e-01, 5.95086552e-01, 6.29775709e-01,\n",
       "                      6.41169037e-01, 6.27971659e-01, 5.91682075e-01, 5.36312165e-01,\n",
       "                      4.67657335e-01, 3.92300371e-01, 3.16585160e-01, 2.45778141e-01,\n",
       "                      1.83559482e-01, 1.31883741e-01, 9.11562728e-02, 6.06125740e-02,\n",
       "                      3.87721390e-02, 2.38592980e-02, 1.41246088e-02, 8.04407412e-03,\n",
       "                      4.40713713e-03, 2.32283270e-03, 1.17776912e-03, 5.74491046e-04,\n",
       "                      2.69579728e-04, 1.21694812e-04, 5.28491204e-05, 2.20792507e-05,\n",
       "                      8.87384344e-06, 3.43099481e-06, 1.27617205e-06, 4.56645581e-07,\n",
       "                      1.57191898e-07, 5.20549368e-08],\n",
       "                     [1.15219097e-03, 2.05097341e-03, 3.54896307e-03, 5.96964935e-03,\n",
       "                      9.76117400e-03, 1.55153357e-02, 2.39732101e-02, 3.60078421e-02,\n",
       "                      5.25743474e-02, 7.46202288e-02, 1.02954457e-01, 1.38082811e-01,\n",
       "                      1.80027967e-01, 2.28163529e-01, 2.81098395e-01, 3.36648276e-01,\n",
       "                      3.91922607e-01, 4.43537278e-01, 4.87939334e-01, 5.21804021e-01,\n",
       "                      5.42443993e-01, 5.48161183e-01, 5.38477477e-01, 5.14200741e-01,\n",
       "                      4.77313528e-01, 4.30705760e-01, 3.77801352e-01, 3.22145616e-01,\n",
       "                      2.67021870e-01, 2.15152964e-01, 1.68520882e-01, 1.28311624e-01,\n",
       "                      9.49695050e-02, 6.83294990e-02, 4.77901275e-02, 3.24918195e-02,\n",
       "                      2.14741393e-02, 1.37963242e-02, 8.61622251e-03, 5.23089872e-03,\n",
       "                      3.08703539e-03, 1.77097649e-03, 9.87619994e-04, 5.35393189e-04,\n",
       "                      2.82138077e-04, 1.44529484e-04, 7.19709262e-05, 3.48388349e-05,\n",
       "                      1.63936646e-05, 7.49884467e-06],\n",
       "                     [2.86300574e-03, 4.53253149e-03, 7.02235187e-03, 1.06474961e-02,\n",
       "                      1.57992161e-02, 2.29428167e-02, 3.26047653e-02, 4.53459565e-02,\n",
       "                      6.17190456e-02, 8.22096847e-02, 1.07164245e-01, 1.36709905e-01,\n",
       "                      1.70676293e-01, 2.08530492e-01, 2.49338349e-01, 2.91764022e-01,\n",
       "                      3.34116207e-01, 3.74443670e-01, 4.10675306e-01, 4.40792130e-01,\n",
       "                      4.63011973e-01, 4.75963618e-01, 4.78826787e-01, 4.71418114e-01,\n",
       "                      4.54210574e-01, 4.28283517e-01, 3.95210639e-01, 3.56902048e-01,\n",
       "                      3.15422449e-01, 2.72809383e-01, 2.30913410e-01, 1.91276736e-01,\n",
       "                      1.55059470e-01, 1.23014863e-01, 9.55080598e-02, 7.25680754e-02,\n",
       "                      5.39602973e-02, 3.92668631e-02, 2.79641246e-02, 1.94894416e-02,\n",
       "                      1.32929298e-02, 8.87289147e-03, 5.79605870e-03, 3.70530129e-03,\n",
       "                      2.31812807e-03, 1.41930087e-03, 8.50422342e-04, 4.98675461e-04,\n",
       "                      2.86170249e-04, 1.60714148e-04],\n",
       "                     [5.35028835e-03, 7.80294337e-03, 1.11880076e-02, 1.57710309e-02,\n",
       "                      2.18564912e-02, 2.97792554e-02, 3.98896529e-02, 5.25314892e-02,\n",
       "                      6.80130418e-02, 8.65720529e-02, 1.08336865e-01, 1.33287016e-01,\n",
       "                      1.61217602e-01, 1.91712354e-01, 2.24130405e-01, 2.57611046e-01,\n",
       "                      2.91099338e-01, 3.23393277e-01, 3.53210648e-01, 3.79270984e-01,\n",
       "                      4.00385630e-01, 4.15547215e-01, 4.24009221e-01, 4.25346887e-01,\n",
       "                      4.19492545e-01, 4.06741295e-01, 3.87726352e-01, 3.63366932e-01,\n",
       "                      3.34794655e-01, 3.03266655e-01, 2.70074660e-01, 2.36459108e-01,\n",
       "                      2.03536024e-01, 1.72242197e-01, 1.43301541e-01, 1.17212841e-01,\n",
       "                      9.42567713e-02, 7.45183030e-02, 5.79197107e-02, 4.42591270e-02,\n",
       "                      3.32500524e-02, 2.45581053e-02, 1.78324252e-02, 1.27303105e-02,\n",
       "                      8.93471311e-03, 6.16503094e-03, 4.18218211e-03, 2.78922565e-03,\n",
       "                      1.82884708e-03, 1.17891954e-03],\n",
       "                     [8.36795408e-03, 1.14938646e-02, 1.55719701e-02, 2.08090252e-02,\n",
       "                      2.74277765e-02, 3.56582612e-02, 4.57257053e-02, 5.78350822e-02,\n",
       "                      7.21527675e-02, 8.87861701e-02, 1.07762670e-01, 1.29009608e-01,\n",
       "                      1.52337373e-01, 1.77427756e-01, 2.03829646e-01, 2.30963756e-01,\n",
       "                      2.58137446e-01, 2.84569844e-01, 3.09426451e-01, 3.31861359e-01,\n",
       "                      3.51064271e-01, 3.66308730e-01, 3.76997611e-01, 3.82701900e-01,\n",
       "                      3.83189264e-01, 3.78439743e-01, 3.68647113e-01, 3.54205767e-01,\n",
       "                      3.35684363e-01, 3.13788690e-01, 2.89317134e-01, 2.63112641e-01,\n",
       "                      2.36015196e-01, 2.08818471e-01, 1.82233639e-01, 1.56862408e-01,\n",
       "                      1.33180272e-01, 1.11529977e-01, 9.21242614e-02, 7.50562941e-02,\n",
       "                      6.03157745e-02, 4.78085302e-02, 3.73775273e-02, 2.88234814e-02,\n",
       "                      2.19236569e-02, 1.64478921e-02, 1.21713344e-02, 8.88376028e-03,\n",
       "                      6.39567167e-03, 4.54157178e-03],\n",
       "                     [1.16534779e-02, 1.52977080e-02, 1.98551602e-02, 2.54798365e-02,\n",
       "                      3.23292847e-02, 4.05575555e-02, 5.03064490e-02, 6.16952559e-02,\n",
       "                      7.48093867e-02, 8.96884739e-02, 1.06314718e-01, 1.24602387e-01,\n",
       "                      1.44389480e-01, 1.65432547e-01, 1.87405606e-01, 2.09903856e-01,\n",
       "                      2.32452633e-01, 2.54521656e-01, 2.75544170e-01, 2.94940172e-01,\n",
       "                      3.12142459e-01, 3.26623917e-01, 3.37924231e-01, 3.45674148e-01,\n",
       "                      3.49615505e-01, 3.49615505e-01, 3.45674148e-01, 3.37924231e-01,\n",
       "                      3.26623917e-01, 3.12142459e-01, 2.94940172e-01, 2.75544170e-01,\n",
       "                      2.54521656e-01, 2.32452633e-01, 2.09903856e-01, 1.87405606e-01,\n",
       "                      1.65432547e-01, 1.44389480e-01, 1.24602387e-01, 1.06314718e-01,\n",
       "                      8.96884739e-02, 7.48093867e-02, 6.16952559e-02, 5.03064490e-02,\n",
       "                      4.05575555e-02, 3.23292847e-02, 2.54798365e-02, 1.98551602e-02,\n",
       "                      1.52977080e-02, 1.16534779e-02]]))])"
      ]
     },
     "execution_count": 44,
     "metadata": {},
     "output_type": "execute_result"
    }
   ],
   "source": [
    "file_tab_i[\"data\"]"
   ]
  },
  {
   "cell_type": "code",
   "execution_count": 45,
   "metadata": {},
   "outputs": [
    {
     "data": {
      "text/plain": [
       "OrderedDict([('ids', array([0., 1., 2., 3., 4., 5., 6., 7., 8., 9.]))])"
      ]
     },
     "execution_count": 45,
     "metadata": {},
     "output_type": "execute_result"
    }
   ],
   "source": [
    "file_tab_i[\"ancil\"]"
   ]
  },
  {
   "cell_type": "markdown",
   "metadata": {},
   "source": [
    "We can get a similar data structure from the `Ensemble` itself by using the method `build_tables`, which is what is called to create a dictionary of the three main data tables before writing an `Ensemble` to file. "
   ]
  },
  {
   "cell_type": "code",
   "execution_count": 42,
   "metadata": {},
   "outputs": [
    {
     "data": {
      "text/plain": [
       "dict_keys(['meta', 'data', 'ancil'])"
      ]
     },
     "execution_count": 42,
     "metadata": {},
     "output_type": "execute_result"
    }
   ],
   "source": [
    "tables_i = ens_i.build_tables()\n",
    "tables_i.keys()"
   ]
  },
  {
   "cell_type": "markdown",
   "metadata": {},
   "source": [
    "We can compare the metadata tables generated by the `build_tables` method to the ones read in from file by `tables_io`: "
   ]
  },
  {
   "cell_type": "code",
   "execution_count": 47,
   "metadata": {},
   "outputs": [
    {
     "name": "stdout",
     "output_type": "stream",
     "text": [
      "From build_tables method:\n",
      "{'pdf_name': array([b'interp'], dtype='|S6'), 'pdf_version': array([0]), 'xvals': array([[-1.        , -0.87755102, -0.75510204, -0.63265306, -0.51020408,\n",
      "        -0.3877551 , -0.26530612, -0.14285714, -0.02040816,  0.10204082,\n",
      "         0.2244898 ,  0.34693878,  0.46938776,  0.59183673,  0.71428571,\n",
      "         0.83673469,  0.95918367,  1.08163265,  1.20408163,  1.32653061,\n",
      "         1.44897959,  1.57142857,  1.69387755,  1.81632653,  1.93877551,\n",
      "         2.06122449,  2.18367347,  2.30612245,  2.42857143,  2.55102041,\n",
      "         2.67346939,  2.79591837,  2.91836735,  3.04081633,  3.16326531,\n",
      "         3.28571429,  3.40816327,  3.53061224,  3.65306122,  3.7755102 ,\n",
      "         3.89795918,  4.02040816,  4.14285714,  4.26530612,  4.3877551 ,\n",
      "         4.51020408,  4.63265306,  4.75510204,  4.87755102,  5.        ]])}\n",
      "From file:\n",
      "OrderedDict({'pdf_name': array([b'interp'], dtype='|S6'), 'pdf_version': array([0]), 'xvals': array([[-1.        , -0.87755102, -0.75510204, -0.63265306, -0.51020408,\n",
      "        -0.3877551 , -0.26530612, -0.14285714, -0.02040816,  0.10204082,\n",
      "         0.2244898 ,  0.34693878,  0.46938776,  0.59183673,  0.71428571,\n",
      "         0.83673469,  0.95918367,  1.08163265,  1.20408163,  1.32653061,\n",
      "         1.44897959,  1.57142857,  1.69387755,  1.81632653,  1.93877551,\n",
      "         2.06122449,  2.18367347,  2.30612245,  2.42857143,  2.55102041,\n",
      "         2.67346939,  2.79591837,  2.91836735,  3.04081633,  3.16326531,\n",
      "         3.28571429,  3.40816327,  3.53061224,  3.65306122,  3.7755102 ,\n",
      "         3.89795918,  4.02040816,  4.14285714,  4.26530612,  4.3877551 ,\n",
      "         4.51020408,  4.63265306,  4.75510204,  4.87755102,  5.        ]])})\n"
     ]
    }
   ],
   "source": [
    "print(\"From build_tables method:\")\n",
    "print(tables_i[\"meta\"])\n",
    "print(\"From file:\")\n",
    "print(file_tab_i[\"meta\"])"
   ]
  },
  {
   "cell_type": "markdown",
   "metadata": {},
   "source": [
    "They are essentially identical. One thing to note is that `build_tables` can also encode any strings in the **ancil** table, if you provide it with the appropriate arguments. This is useful if you will be writing to HDF5 files. "
   ]
  },
  {
   "cell_type": "markdown",
   "metadata": {},
   "source": [
    "## Creating a `qp` file from scratch \n",
    "\n",
    "Now let's try to create an `Ensemble` file from scratch, and see if we can read it in as an `Ensemble`. First, we need a metadata table (dictionary) with the appropriate keys. Let's make it an **interpolation** parameterized `Ensemble` as well, so it will need: \"pdf_name\", \"pdf_version\", and \"xvals\". Note that for this to be a `Table-like` object, there are a few things we have to make sure to do:\n",
    "1. All values must be iterable, so they all must be arrays\n",
    "2. They must all have the same length, or first dimension. Since \"xvals\" will inherently have more values than any other value in the metadata here, we make it a 2D array, so the first dimension is 1. "
   ]
  },
  {
   "cell_type": "code",
   "execution_count": 57,
   "metadata": {},
   "outputs": [
    {
     "data": {
      "text/plain": [
       "{'pdf_name': array([b'interp'], dtype='|S6'),\n",
       " 'pdf_version': array([0]),\n",
       " 'xvals': array([[0.        , 0.55555556, 1.11111111, 1.66666667, 2.22222222,\n",
       "         2.77777778, 3.33333333, 3.88888889, 4.44444444, 5.        ]])}"
      ]
     },
     "execution_count": 57,
     "metadata": {},
     "output_type": "execute_result"
    }
   ],
   "source": [
    "xvals = np.array([np.linspace(0,5,10, )])\n",
    "new_meta = {\"pdf_name\": np.array([\"interp\".encode()]),\"pdf_version\": np.array([0]),\"xvals\": xvals}\n",
    "new_meta"
   ]
  },
  {
   "cell_type": "markdown",
   "metadata": {},
   "source": [
    "So far, that looks like it matches the format of our `Ensemble` tables above. Now let's make a **data** table with the \"yvals\" for 3 distributions."
   ]
  },
  {
   "cell_type": "code",
   "execution_count": 50,
   "metadata": {},
   "outputs": [
    {
     "data": {
      "text/plain": [
       "{'yvals': array([[0. , 1. , 2. , 3. , 4. , 4. , 3. , 2. , 1. , 0. ],\n",
       "        [0. , 0.1, 0.2, 0.3, 0.4, 0.4, 0.3, 0.2, 0.1, 0. ],\n",
       "        [0. , 1. , 2. , 3. , 4. , 5. , 4. , 2. , 1. , 0. ]])}"
      ]
     },
     "execution_count": 50,
     "metadata": {},
     "output_type": "execute_result"
    }
   ],
   "source": [
    "yvals = np.array([[0,1,2,3,4,4,3,2,1,0],[0,0.1,0.2,0.3,0.4,0.4,0.3,0.2,0.1,0],[0,1,2,3,4,5,4,2,1,0]])\n",
    "new_data = {\"yvals\": yvals}\n",
    "new_data"
   ]
  },
  {
   "cell_type": "code",
   "execution_count": 52,
   "metadata": {},
   "outputs": [
    {
     "data": {
      "text/plain": [
       "{'ids': array([0., 1., 2.])}"
      ]
     },
     "execution_count": 52,
     "metadata": {},
     "output_type": "execute_result"
    }
   ],
   "source": [
    "ancil = np.linspace(0,2,3)\n",
    "new_ancil = {\"ids\": ancil}\n",
    "new_ancil"
   ]
  },
  {
   "cell_type": "code",
   "execution_count": 62,
   "metadata": {},
   "outputs": [
    {
     "data": {
      "text/plain": [
       "'new-interp-ensemble.hdf5'"
      ]
     },
     "execution_count": 62,
     "metadata": {},
     "output_type": "execute_result"
    }
   ],
   "source": [
    "data_tables = {\"meta\":new_meta, \"data\": new_data, \"ancil\": new_ancil}\n",
    "tables_io.write(data_tables, \"new-interp-ensemble.hdf5\")"
   ]
  },
  {
   "cell_type": "markdown",
   "metadata": {},
   "source": [
    "Now the tables wrote to file, but is it a `qp` file? Let's check:"
   ]
  },
  {
   "cell_type": "code",
   "execution_count": 58,
   "metadata": {},
   "outputs": [
    {
     "data": {
      "text/plain": [
       "True"
      ]
     },
     "execution_count": 58,
     "metadata": {},
     "output_type": "execute_result"
    }
   ],
   "source": [
    "qp.is_qp_file(\"new-interp-ensemble.hdf5\")"
   ]
  },
  {
   "cell_type": "markdown",
   "metadata": {},
   "source": [
    "Yay! We've successfully created a `qp` file. Let's try reading it in as an `Ensemble` to make sure. "
   ]
  },
  {
   "cell_type": "code",
   "execution_count": 60,
   "metadata": {},
   "outputs": [
    {
     "data": {
      "text/plain": [
       "Ensemble(the_class=interp,shape=(3, 10))"
      ]
     },
     "execution_count": 60,
     "metadata": {},
     "output_type": "execute_result"
    }
   ],
   "source": [
    "new_ens = qp.read(\"new-interp-ensemble.hdf5\")\n",
    "new_ens"
   ]
  }
 ],
 "metadata": {
  "kernelspec": {
   "display_name": "qp",
   "language": "python",
   "name": "python3"
  },
  "language_info": {
   "codemirror_mode": {
    "name": "ipython",
    "version": 3
   },
   "file_extension": ".py",
   "mimetype": "text/x-python",
   "name": "python",
   "nbconvert_exporter": "python",
   "pygments_lexer": "ipython3",
   "version": "3.12.7"
  }
 },
 "nbformat": 4,
 "nbformat_minor": 2
}
