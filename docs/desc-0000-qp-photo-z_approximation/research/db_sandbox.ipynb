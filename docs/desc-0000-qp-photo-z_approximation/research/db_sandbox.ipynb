{
 "cells": [
  {
   "cell_type": "code",
   "execution_count": null,
   "metadata": {
    "collapsed": false
   },
   "outputs": [],
   "source": [
    "import os\n",
    "import numpy as np\n",
    "\n",
    "import sqlalchemy\n",
    "from sqlalchemy import create_engine\n",
    "from sqlalchemy.ext.declarative import declarative_base\n",
    "from sqlalchemy import MetaData, Column, Table, ForeignKey\n",
    "from sqlalchemy import Integer, String, Float\n",
    "from sqlalchemy.orm import relationship\n",
    "from sqlalchemy.orm import sessionmaker\n",
    "\n",
    "import qp"
   ]
  },
  {
   "cell_type": "code",
   "execution_count": null,
   "metadata": {
    "collapsed": true
   },
   "outputs": [],
   "source": [
    "Base = declarative_base()"
   ]
  },
  {
   "cell_type": "code",
   "execution_count": null,
   "metadata": {
    "collapsed": false
   },
   "outputs": [],
   "source": [
    "def setup(where):\n",
    "    global parametrizations_table, metaparameters_table, PDFs_table, parameters_table\n",
    "    global engine, metadata\n",
    "    if not os.path.isfile(where):\n",
    "        engine = create_engine('sqlite:///'+where)\n",
    "        print('making the tables in '+where)\n",
    "        metadata = MetaData(engine)\n",
    "        Base.metadata.create_all(engine)\n",
    "        # rows are parametrizations keyed on parametrization ID\n",
    "        # columns are type of parametrization, number of parameters\n",
    "        parametrizations_table = Table('parametrizations', metadata,\n",
    "                    Column('id', Integer, primary_key=True),\n",
    "                    Column('parametrization', String(8), nullable=False)#,\n",
    "                    #Column('number_metaparameters', Integer, nullable=False)\n",
    "                    )\n",
    "        # rows are metaparameters keyed on metaparameter_set ID\n",
    "        # columns are parametrization ID, metaparameter_set\n",
    "        metaparameters_table = Table('metaparameters', metadata,\n",
    "                        Column('id', Integer, primary_key=True),\n",
    "                        Column('parametrization_id', None, ForeignKey('parametrizations.id')),\n",
    "                        #Column('metaparameter_number', Integer),          \n",
    "                        Column('metaparameter_set', String)\n",
    "                        )\n",
    "        # rows are PDFs keyed on PDF ID\n",
    "        # no other columns\n",
    "        PDFs_table = Table('PDFs', metadata,\n",
    "                  Column('id', Integer, primary_key=True)\n",
    "                   )\n",
    "        # rows are parameters keyed on parameter_set ID\n",
    "        # columns are PDF ID, parametrization ID, parameter_set\n",
    "        parameters_table = Table('parameters', metadata,\n",
    "                        Column('id', Integer, primary_key=True),\n",
    "                         Column('PDFs_id', None, ForeignKey('PDFs.id')),\n",
    "                         Column('metaparameters_id', None, ForeignKey('metaparameters.id')),\n",
    "                         #Column('parameter_id', Integer),\n",
    "                        Column('parameter_set', String) \n",
    "                         )\n",
    "        metadata.create_all()\n",
    "    else:\n",
    "        engine = create_engine('sqlite:///'+where)\n",
    "        print('loading the tables from '+where)\n",
    "        metadata = MetaData(engine)\n",
    "        parametrizations_table = Table('parametrizations', metadata, autoload=True)\n",
    "        metaparameters_table = Table('metaparameters', metadata, autoload=True)\n",
    "        PDFs_table = Table('PDFs', metadata, autoload=True)\n",
    "        parameters_table = Table('parameters', metadata, autoload=True)\n",
    "        metadata.create_all()"
   ]
  },
  {
   "cell_type": "code",
   "execution_count": null,
   "metadata": {
    "collapsed": false
   },
   "outputs": [],
   "source": [
    "where = 'example.db'\n",
    "setup(where)"
   ]
  },
  {
   "cell_type": "code",
   "execution_count": null,
   "metadata": {
    "collapsed": false
   },
   "outputs": [],
   "source": [
    "parametrizations = ['samples', 'histogram', 'quantiles']\n",
    "number_parameters = [3, 10, 30, 100]\n",
    "\n",
    "for p in parametrizations:\n",
    "    for n in number_parameters:\n",
    "        ins = parametrizations_table.insert().values(parametrization=p, number_metaparameters=n)  \n",
    "        conn = engine.connect()\n",
    "        result = conn.execute(ins)"
   ]
  },
  {
   "cell_type": "code",
   "execution_count": null,
   "metadata": {
    "collapsed": false
   },
   "outputs": [],
   "source": [
    "s = sqlalchemy.sql.select([parametrizations_table])\n",
    "result = conn.execute(s)\n",
    "\n",
    "for r in result:\n",
    "    print(r)"
   ]
  },
  {
   "cell_type": "code",
   "execution_count": null,
   "metadata": {
    "collapsed": false
   },
   "outputs": [],
   "source": [
    "s = sqlalchemy.sql.select([parametrizations_table]).where(parametrizations_table.c.parametrization=='quantiles')\n",
    "result = conn.execute(s)\n",
    "\n",
    "out_place = np.array()\n",
    "for r in result:\n",
    "    print(r)\n",
    "\n",
    "for r in result:\n",
    "    print(r)\n",
    "    quantiles = np.linspace(0., 1., r.number_metaparameters)\n",
    "    new_rows = []\n",
    "    for q in range(r.number_metaparameters):\n",
    "        new_rows.append({'parametrization_id' : r.id, 'metaparameter' : quantiles[q], 'metaparameter_number' : q})\n",
    "    ins = metaparameters_table.insert()  \n",
    "    conn = engine.connect()\n",
    "    new_result = conn.execute(ins, new_rows)"
   ]
  },
  {
   "cell_type": "code",
   "execution_count": null,
   "metadata": {
    "collapsed": true
   },
   "outputs": [],
   "source": [
    "for nr in next_result:\n",
    "    print(nr)"
   ]
  },
  {
   "cell_type": "code",
   "execution_count": null,
   "metadata": {
    "collapsed": false
   },
   "outputs": [],
   "source": [
    "for q in result:\n",
    "    quantiles = np.linspace(re)\n",
    "    ins = metaparameters_table.insert().values(parametrization=p, number_metaparameters=n) \n",
    "    conn = engine.connect()\n",
    "    result = conn.execute(ins)\n",
    "    print(r)"
   ]
  },
  {
   "cell_type": "code",
   "execution_count": null,
   "metadata": {
    "collapsed": true
   },
   "outputs": [],
   "source": [
    "for r in result:\n",
    "    print(r.id)"
   ]
  },
  {
   "cell_type": "code",
   "execution_count": null,
   "metadata": {
    "collapsed": false
   },
   "outputs": [],
   "source": [
    "ps = sqlalchemy.sql.select([parametrizations_table])\n",
    "result = conn.execute(ps)\n",
    "for p in result:\n",
    "    print p"
   ]
  },
  {
   "cell_type": "code",
   "execution_count": null,
   "metadata": {
    "collapsed": true
   },
   "outputs": [],
   "source": []
  },
  {
   "cell_type": "code",
   "execution_count": null,
   "metadata": {
    "collapsed": true
   },
   "outputs": [],
   "source": []
  },
  {
   "cell_type": "code",
   "execution_count": null,
   "metadata": {
    "collapsed": true
   },
   "outputs": [],
   "source": []
  },
  {
   "cell_type": "code",
   "execution_count": null,
   "metadata": {
    "collapsed": true
   },
   "outputs": [],
   "source": [
    "import dataset as ds\n",
    "# help(dataset)"
   ]
  },
  {
   "cell_type": "code",
   "execution_count": null,
   "metadata": {
    "collapsed": false
   },
   "outputs": [],
   "source": [
    "db = ds.connect('postgresql:///example.db')"
   ]
  },
  {
   "cell_type": "code",
   "execution_count": null,
   "metadata": {
    "collapsed": true
   },
   "outputs": [],
   "source": [
    "import peewee as pw\n",
    "help(pw)\n",
    "\n",
    "from peewee import Model, CharField"
   ]
  },
  {
   "cell_type": "code",
   "execution_count": null,
   "metadata": {
    "collapsed": false
   },
   "outputs": [],
   "source": [
    "import playhouse as ph\n",
    "help(ph)\n",
    "from playhouse.postgres_ext import PostgresqlExtDatabase"
   ]
  },
  {
   "cell_type": "code",
   "execution_count": null,
   "metadata": {
    "collapsed": false
   },
   "outputs": [],
   "source": [
    "psql_db = PostgresqlExtDatabase('example', user='postgres')\n",
    "\n",
    "class BaseModel(Model):\n",
    "    class Meta:\n",
    "        database = psql_db\n",
    "\n",
    "# class Galaxy(BaseModel):\n",
    "#     Galaxy_id = pw.PrimaryKey()\n",
    "    \n",
    "# class PDF(BaseModel):\n",
    "#     PDF_id = pw.ForeignKeyField(Galaxy)\n",
    "#     parametrization_id = pw.ForeignKeyField(Parametrization)\n",
    "#     parameters = Array()\n",
    "    \n",
    "class Parametrization(BaseModel):\n",
    "    P_type = CharField()\n",
    "    parameters = ph.postgres_ext.ArrayField(pw.FloatField)"
   ]
  },
  {
   "cell_type": "code",
   "execution_count": null,
   "metadata": {
    "collapsed": false
   },
   "outputs": [],
   "source": [
    "psql_db.connect()"
   ]
  },
  {
   "cell_type": "code",
   "execution_count": null,
   "metadata": {
    "collapsed": true
   },
   "outputs": [],
   "source": [
    "def setup(where):\n",
    "    global parametrizations_table, metaparameters_table, PDFs_table, parameters_table\n",
    "    global engine, metadata\n",
    "    if not os.path.isfile(where):\n",
    "        engine = create_engine('sqlite:///'+where)\n",
    "        print('making the tables in '+where)\n",
    "        metadata = MetaData(engine)\n",
    "        Base.metadata.create_all(engine)\n",
    "        parametrizations_table = Table('parametrizations', metadata,\n",
    "                    Column('id', Integer, primary_key=True),\n",
    "                    Column('parametrization', String(8))\n",
    "                    )\n",
    " \n",
    "        metaparameters_table = Table('metaparameters', metadata,\n",
    "                        Column('id', Integer, primary_key=True),\n",
    "                        Column('parametrization_id', None, ForeignKey('parametrizations.id')),\n",
    "                        Column('metaparameter', ARRAY(Float))                            \n",
    "                        )\n",
    "\n",
    "        PDFs_table = Table('PDFs', metadata,\n",
    "                  Column('id', Integer, primary_key=True)\n",
    "                   )\n",
    "        parameters_table = Table('parameters', metadata,\n",
    "                        Column('id', Integer, primary_key=True),\n",
    "                         Column('PDFs_id', None, ForeignKey('PDFs.id')),\n",
    "                         Column('metaparameters_id', None, ForeignKey('metaparameters.id')),\n",
    "                         Column('parameter', ARRAY(Float)) \n",
    "                         )\n",
    "        metadata.create_all()\n",
    "    else:\n",
    "        engine = create_engine('sqlite:///'+where)\n",
    "        print('loading the tables from '+where)\n",
    "        metadata = MetaData(engine)\n",
    "        parametrizations_table = Table('parametrizations', metadata, autoload=True)\n",
    "        metaparameters_table = Table('metaparameters', metadata, autoload=True)\n",
    "        PDFs_table = Table('PDFs', metadata, autoload=True)\n",
    "        parameters_table = Table('parameters', metadata, autoload=True)\n",
    "        metadata.create_all()"
   ]
  },
  {
   "cell_type": "code",
   "execution_count": null,
   "metadata": {
    "collapsed": true
   },
   "outputs": [],
   "source": []
  },
  {
   "cell_type": "code",
   "execution_count": null,
   "metadata": {
    "collapsed": true
   },
   "outputs": [],
   "source": [
    "from sqlalchemy.dialects import postgresql\n",
    "from sqlalchemy import create_engine\n",
    "from sqlalchemy import MetaData, Column, Table, ForeignKey\n",
    "from sqlalchemy import Integer, String, ARRAY\n",
    " \n",
    "engine = create_engine('postgresql:///home/aimalz/Code/qp/docs/desc-0000-qp-photo-z_approximation/research/ensemble.db',\n",
    "                       echo=True)\n",
    " \n",
    "metadata = MetaData(bind=engine)\n",
    " \n",
    "parametrizations_table = Table('parametrizations', metadata,\n",
    "                    Column('id', Integer, primary_key=True),\n",
    "                    Column('parametrization', String(8)),\n",
    "                    )\n",
    " \n",
    "metaparameters_table = Table('metaparameters', metadata,\n",
    "                        Column('id', Integer, primary_key=True),\n",
    "                        Column('parametrization_id', None, ForeignKey('parametrizations.id')),\n",
    "                        Column('metaparameters', ARRAY(float), nullable=False)                            \n",
    "                        )\n",
    " \n",
    "# create tables in database\n",
    "metadata.create_all()"
   ]
  },
  {
   "cell_type": "code",
   "execution_count": null,
   "metadata": {
    "collapsed": true
   },
   "outputs": [],
   "source": []
  },
  {
   "cell_type": "code",
   "execution_count": null,
   "metadata": {
    "collapsed": false
   },
   "outputs": [],
   "source": [
    "import pandas as pd\n",
    "import numpy as np"
   ]
  },
  {
   "cell_type": "code",
   "execution_count": null,
   "metadata": {
    "collapsed": false
   },
   "outputs": [],
   "source": [
    "test = pd.DataFrame()\n",
    "print(test)"
   ]
  },
  {
   "cell_type": "code",
   "execution_count": null,
   "metadata": {
    "collapsed": false
   },
   "outputs": [],
   "source": [
    "print(test.columns)\n",
    "# print(full_df.columns)"
   ]
  },
  {
   "cell_type": "code",
   "execution_count": null,
   "metadata": {
    "collapsed": false
   },
   "outputs": [],
   "source": [
    "df_columns = ['quantiles', 'histogram', 'samples', 'gridded', 'gmm']\n",
    "test = pd.DataFrame(columns = df_columns)\n",
    "print(type(test.index))"
   ]
  },
  {
   "cell_type": "code",
   "execution_count": null,
   "metadata": {
    "collapsed": false
   },
   "outputs": [],
   "source": [
    "df_columns = ['quantiles', 'histogram', 'samples', 'gridded', 'gmm']\n",
    "data1 = {'quantiles': np.arange(10), 'histogram': np.arange(10)}\n",
    "test_df = pd.DataFrame([data1], index = ['first'])\n",
    "print(test_df.index)"
   ]
  },
  {
   "cell_type": "code",
   "execution_count": null,
   "metadata": {
    "collapsed": false
   },
   "outputs": [],
   "source": [
    "data2 = {'samples': np.arange(10), 'histogram': np.arange(10)}\n",
    "\n",
    "another_df = pd.DataFrame([data2], index = ['second'])\n",
    "combo_df = test_df.append(another_df)\n",
    "print(combo_df.index)"
   ]
  },
  {
   "cell_type": "code",
   "execution_count": null,
   "metadata": {
    "collapsed": false
   },
   "outputs": [],
   "source": [
    "galinds = np.arange(0, 1, 0.1)\n",
    "galnames = [str(ind) for ind in galinds]\n",
    "print(galnames)\n",
    "\n",
    "empty_df = pd.DataFrame(None)#, index = galnames)\n",
    "print(empty_df)"
   ]
  },
  {
   "cell_type": "code",
   "execution_count": null,
   "metadata": {
    "collapsed": false
   },
   "outputs": [],
   "source": [
    "new_galinds = galinds + 0.5\n",
    "new_galnames = [str(ind) for ind in new_galinds]\n",
    "old_df = pd.DataFrame([data1] * 10, index = galnames)\n",
    "#for galname in galnames:\n",
    "new_df = pd.DataFrame([data2] * 10, index = new_galnames)\n",
    "# full_df = pd.concat([old_df, new_df], axis=1)\n",
    "# print(full_df)"
   ]
  },
  {
   "cell_type": "code",
   "execution_count": null,
   "metadata": {
    "collapsed": false
   },
   "outputs": [],
   "source": [
    "# data1pp, data2pp = [], []\n",
    "# for i in range(len(galnames)):\n",
    "#     print(galnames[i])\n",
    "#     td1 = data1\n",
    "#     td1['galname'] = galnames[i]\n",
    "#     data1pp.append(td1)\n",
    "#     td2 = data2\n",
    "#     td2['galname'] = galnames[i]\n",
    "#     data2pp.append(td2)\n",
    "# full_df = pd.DataFrame(data1pp)\n",
    "# print(full_df)\n",
    "# new_df = pd.DataFrame(data2pp)#, index = galnames)\n",
    "# print(new_df)\n",
    "#full_df = pd.merge(old_df, new_df, how = 'outer', on = 'index')\n",
    "full_df = old_df.combine_first(new_df)\n",
    "print(full_df)"
   ]
  },
  {
   "cell_type": "code",
   "execution_count": null,
   "metadata": {
    "collapsed": true
   },
   "outputs": [],
   "source": []
  },
  {
   "cell_type": "code",
   "execution_count": null,
   "metadata": {
    "collapsed": true
   },
   "outputs": [],
   "source": []
  },
  {
   "cell_type": "markdown",
   "metadata": {},
   "source": [
    "The `qp.Ensemble` class should relate a few structures:\n",
    "* Something containing identifiers (immutable) and qp.PDF objects (mutable)\n",
    "* A database of columns of parametrizations and rows of parameters (or None)"
   ]
  },
  {
   "cell_type": "code",
   "execution_count": null,
   "metadata": {
    "collapsed": false
   },
   "outputs": [],
   "source": [
    "#help(parametrizations_table)\n",
    "print(parametrizations_table.metadata)"
   ]
  },
  {
   "cell_type": "code",
   "execution_count": null,
   "metadata": {
    "collapsed": true
   },
   "outputs": [],
   "source": []
  },
  {
   "cell_type": "code",
   "execution_count": null,
   "metadata": {
    "collapsed": false
   },
   "outputs": [],
   "source": [
    "metadata = MetaData()\n",
    "\n",
    "Ensemble = Table('ensemble', metadata,\n",
    "    Column('meta_mixmod', ARRAY(String)),\n",
    "    Column('meta_quantiles', ARRAY(Float)),\n",
    "    Column('meta_histogram', ARRAY(Float)),\n",
    "    Column('meta_gridded', ARRAY(Float)),\n",
    "    Column('meta_samples', ARRAY(Float)))"
   ]
  },
  {
   "cell_type": "code",
   "execution_count": null,
   "metadata": {
    "collapsed": false
   },
   "outputs": [],
   "source": [
    "class Galaxy(Base):\n",
    "    __tablename__ = 'galaxy'\n",
    "    idno = Column(Integer, primary_key=True)\n",
    "    pdf = Column(BLOB)"
   ]
  },
  {
   "cell_type": "code",
   "execution_count": null,
   "metadata": {
    "collapsed": true
   },
   "outputs": [],
   "source": [
    "class Parametrizations(Base):\n",
    "    __tablename__ = 'parametrizations'\n",
    "    idno = Column(Integer, primary_key=True)\n",
    "    mixmod = Column(ARRAY(Float))\n",
    "    quantiles = Column(ARRAY(Float))\n",
    "    histogram = Column(ARRAY(Float))\n",
    "    gridded = Column(ARRAY(Float))\n",
    "    samples = Column(ARRAY(Float))\n",
    "    galaxy = Relationship(Galaxy)"
   ]
  },
  {
   "cell_type": "code",
   "execution_count": null,
   "metadata": {
    "collapsed": true
   },
   "outputs": [],
   "source": []
  },
  {
   "cell_type": "code",
   "execution_count": null,
   "metadata": {
    "collapsed": false
   },
   "outputs": [],
   "source": [
    "testpdf = qp.PDF()"
   ]
  },
  {
   "cell_type": "code",
   "execution_count": null,
   "metadata": {
    "collapsed": true
   },
   "outputs": [],
   "source": []
  },
  {
   "cell_type": "code",
   "execution_count": null,
   "metadata": {
    "collapsed": true
   },
   "outputs": [],
   "source": [
    "help(sqlalchemy)"
   ]
  }
 ],
 "metadata": {
  "kernelspec": {
   "display_name": "Python 2",
   "language": "python",
   "name": "python2"
  },
  "language_info": {
   "codemirror_mode": {
    "name": "ipython",
    "version": 2
   },
   "file_extension": ".py",
   "mimetype": "text/x-python",
   "name": "python",
   "nbconvert_exporter": "python",
   "pygments_lexer": "ipython2",
   "version": "2.7.13"
  }
 },
 "nbformat": 4,
 "nbformat_minor": 2
}
