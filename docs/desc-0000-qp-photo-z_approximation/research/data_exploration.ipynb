{
 "cells": [
  {
   "cell_type": "markdown",
   "metadata": {},
   "source": [
    "# Exploring the BPZ Test Data\n",
    "\n",
    "_Alex Malz & Phil Marshall_\n",
    "\n",
    "We have a small dataset to test our `qp` approximations on: 30,000 photometric redshift 1D posterior PDFs, in \"gridded\" format, from Melissa Graham (UW, LSST). In this notebook we visualize these distributions, and develop machinery to evaluate our approximations on the whole set in \"survey mode.\" "
   ]
  },
  {
   "cell_type": "markdown",
   "metadata": {},
   "source": [
    "## Set-up, Ingest"
   ]
  },
  {
   "cell_type": "code",
   "execution_count": null,
   "metadata": {
    "collapsed": true
   },
   "outputs": [],
   "source": [
    "%load_ext autoreload\n",
    "%autoreload 2"
   ]
  },
  {
   "cell_type": "code",
   "execution_count": null,
   "metadata": {
    "collapsed": true
   },
   "outputs": [],
   "source": [
    "from __future__ import print_function\n",
    "    \n",
    "import pickle\n",
    "import numpy as np\n",
    "from pathos.multiprocessing import ProcessingPool as Pool\n",
    "import random\n",
    "import cProfile\n",
    "import pstats\n",
    "import StringIO\n",
    "\n",
    "import pandas as pd\n",
    "pd.set_option('display.max_columns', None)\n",
    "\n",
    "import matplotlib.pyplot as plt\n",
    "%matplotlib inline\n",
    "\n",
    "import qp"
   ]
  },
  {
   "cell_type": "markdown",
   "metadata": {},
   "source": [
    "The data file doesn't appear to come with redshifts at which the PDFs are evaluated, but we are told they're evenly spaced between 0.1 and 3.51."
   ]
  },
  {
   "cell_type": "code",
   "execution_count": null,
   "metadata": {
    "collapsed": true
   },
   "outputs": [],
   "source": [
    "z = np.arange(0.01, 3.51, 0.01, dtype='float')\n",
    "z_range = 3.51 - 0.01\n",
    "delta_z = z_range / len(z)"
   ]
  },
  {
   "cell_type": "code",
   "execution_count": null,
   "metadata": {
    "collapsed": true
   },
   "outputs": [],
   "source": [
    "with open('bpz_euclid_test_10_2.probs', 'rb') as data_file:\n",
    "    lines = (line.split(None) for line in data_file)\n",
    "    lines.next()\n",
    "    pdfs = np.array([[float(line[k]) for k in range(1,len(line))] for line in lines])\n",
    "data_file.close()"
   ]
  },
  {
   "cell_type": "markdown",
   "metadata": {},
   "source": [
    "## Visualizing the BPZ $p(z)$'s\n",
    "\n",
    "Let's plot a few interesting PDFs from the dataset."
   ]
  },
  {
   "cell_type": "code",
   "execution_count": null,
   "metadata": {},
   "outputs": [],
   "source": [
    "indices = [1, 3, 14, 16, 19, 21]\n",
    "colors = ['red','green','blue','cyan','magenta','yellow']\n",
    "for i in range(len(colors)):\n",
    "    plt.plot(z, pdfs[indices[i]], color=colors[i], label='Galaxy '+str(indices[i]))\n",
    "plt.xlabel('redshift $z$', fontsize=16)\n",
    "plt.legend();"
   ]
  },
  {
   "cell_type": "markdown",
   "metadata": {},
   "source": [
    "Now, let's turn one of them into a `qp.PDF` object initialized with a gridded parametrization.  \n",
    "\n",
    "Note: The PDFs in the data file weren't properly normalized.  In order to be PDFs, we want $\\int\\ p(z)\\ dz=1$, but the data file entries satisfy $\\sum_{z}\\ p(z)=1$, which is not the same.  `qp` approximates the desired integral as $\\int\\ p(z)\\ dz\\ \\approx\\ \\Delta z\\ \\sum_{i}^{N}\\ p(z_{i})$ where $\\Delta z=\\frac{z_{max}-z_{min}}{N}$ is the distance between each neighbor pair $i$ of $N$ redshifts at which the PDF is evaluated."
   ]
  },
  {
   "cell_type": "code",
   "execution_count": null,
   "metadata": {},
   "outputs": [],
   "source": [
    "chosen=1\n",
    "G = qp.PDF(gridded=(z, pdfs[chosen]))\n",
    "G.plot()"
   ]
  },
  {
   "cell_type": "markdown",
   "metadata": {
    "collapsed": true
   },
   "source": [
    "## Approximating the BPZ $p(z)'s$\n",
    "\n",
    "\n",
    "Quantile and histogram representations cannot be computed directly from gridded PDFs - we need to make a GMM first, and use this to instantiate a `qp.PDF` object using a `qp.composite` object based on that GMM as `qp.PDF.truth`.  We can fit a GMM directly to the gridded PDF, or we can sample it and fit a GMM to the samples."
   ]
  },
  {
   "cell_type": "code",
   "execution_count": null,
   "metadata": {},
   "outputs": [],
   "source": [
    "G.mix_mod_fit(n_components=3)\n",
    "G.plot()"
   ]
  },
  {
   "cell_type": "markdown",
   "metadata": {},
   "source": [
    "We can also fit the GMM to samples, producing a very similar `qp.composite` object."
   ]
  },
  {
   "cell_type": "code",
   "execution_count": null,
   "metadata": {},
   "outputs": [],
   "source": [
    "G.sample(1000, vb=False)\n",
    "M_dist = G.mix_mod_fit(n_components=3, vb=True)\n",
    "G.plot()"
   ]
  },
  {
   "cell_type": "markdown",
   "metadata": {},
   "source": [
    "The `qp.composite` object can be used as the `qp.PDF.truth` to initialize a new `qp.PDF` object that doesn't have any information about the gridded or sample approximations.  Now we can approximate it any way we like!"
   ]
  },
  {
   "cell_type": "code",
   "execution_count": null,
   "metadata": {
    "scrolled": false
   },
   "outputs": [],
   "source": [
    "M = qp.PDF(truth=M_dist)\n",
    "M.sample(N=100,vb=False)\n",
    "M.quantize(N=100, vb=False)\n",
    "M.histogramize(N=100, vb=False)\n",
    "M.plot(vb=False)"
   ]
  },
  {
   "cell_type": "markdown",
   "metadata": {
    "collapsed": true
   },
   "source": [
    "## Quantifying the Accuracy of the Approximation\n",
    "\n",
    "Let's start by computing the RMSE and KLD between each approximation and the truth, in a sample of systems - and then graduate to looking at the estimated $n(z)$. We'll need a function to do all the analysis on a single object, and then accumulate the outputs to analyze them."
   ]
  },
  {
   "cell_type": "code",
   "execution_count": null,
   "metadata": {
    "collapsed": true
   },
   "outputs": [],
   "source": [
    "def analyze(index, N_comps, z, N_floats=5, vb=False):\n",
    "    \"\"\"\n",
    "    Model the input BPZ P(z) as a GMM, approximate that GMM in \n",
    "    various ways, and assess the quality of each approximation.\n",
    "    \n",
    "    Parameters\n",
    "    ----------\n",
    "    index : int\n",
    "        ID of galaxy\n",
    "    N_comps : int\n",
    "        Number of components used in GMM\n",
    "    N_floats : int\n",
    "        Number of floats used to parametrize the P(z)\n",
    "    z : float, ndarr\n",
    "        Redshift array for input gridded \"truth\". Used for \n",
    "        evaluating n(z) too\n",
    "    vb : boolean\n",
    "        Verbose output?\n",
    "\n",
    "    Returns\n",
    "    -------\n",
    "    result : dict\n",
    "        Dictionary containing metric values, n(z) on standard \n",
    "        grid, samples, \"true\" GMM gridded p(z).\n",
    "        \n",
    "    Notes\n",
    "    -----\n",
    "    In some cases the GMM does not fit well, leading to bad KLD and \n",
    "    RMSE values when it is compared to the truth.\n",
    "    \n",
    "    \"\"\"\n",
    "#     # Make z array if we don't already have it:\n",
    "#     if z is None:\n",
    "#         z = np.arange(0.01, 3.51, 0.01, dtype='float')\n",
    "    dz = (max(z) - min(z)) / len(z)\n",
    "    zlimits = [min(z), max(z)]\n",
    "\n",
    "    # Make a dictionary to contain the results:     \n",
    "    result = {}\n",
    "    \n",
    "    # Make a GMM model of the input BPZ p(z) (which are stored\n",
    "    # in the global 'pdfs' variable:\n",
    "    G = qp.PDF(gridded=(z, pdfs[index]), vb=vb)\n",
    "    \n",
    "    # Draw 1000 samples, fit a GMM model to them, and make a true PDF:\n",
    "    G.sample(1000, vb=vb)\n",
    "    GMM = G.mix_mod_fit(n_components=N_comps, vb=vb)\n",
    "    P = qp.PDF(truth=GMM, vb=vb)\n",
    "    \n",
    "    # Evaluate the GMM on the z grid, and store in the result dictionary. We'll \n",
    "    # need this to make our \"true\" n(z) estimator. We don't need to keep the \n",
    "    # z array, as we passed that in.\n",
    "    result['truth'] = P.evaluate(z, using='truth', vb=vb)[1]\n",
    "\n",
    "    # Now approximate P in various ways, and assess:\n",
    "    Q, KLD, RMSE, approximation = {}, {}, {}, {}\n",
    "    Q['quantiles'] = qp.PDF(quantiles=P.quantize(N=N_floats, vb=vb), vb=vb)\n",
    "    Q['histogram'] = qp.PDF(histogram=P.histogramize(N=N_floats, binrange=zlimits, vb=vb), vb=vb)\n",
    "    Q['samples'] = qp.PDF(samples=P.sample(N=N_floats, vb=vb), vb=vb)\n",
    "    for k in Q.keys():\n",
    "        KLD[k] = qp.calculate_kl_divergence(P, Q[k], limits=zlimits, dx=dz, vb=vb)\n",
    "        RMSE[k] = qp.calculate_rmse(P, Q[k], limits=zlimits, dx=dz, vb=vb)\n",
    "        approximation[k] = Q[k].evaluate(z, using=k, vb=vb)[1]\n",
    "        \n",
    "    # Store approximations:\n",
    "    result['KLD'] = KLD\n",
    "    result['RMSE'] = RMSE\n",
    "    result['approximation'] = approximation\n",
    "    result['samples'] = Q['samples'].samples\n",
    "    \n",
    "    return result"
   ]
  },
  {
   "cell_type": "markdown",
   "metadata": {},
   "source": [
    "OK, now lets's collate the metrics for the first 100 galaxies over a variable number of parameters, and look at the distribution of metric values.  We're using multiprocessing because the `for` loop is slow; the rate-limiting step is the optimization routine for finding quantiles of a GMM."
   ]
  },
  {
   "cell_type": "code",
   "execution_count": null,
   "metadata": {
    "collapsed": true
   },
   "outputs": [],
   "source": [
    "def one_analysis(N):\n",
    "    \n",
    "    pr = cProfile.Profile()\n",
    "    pr.enable()\n",
    "    \n",
    "    all_results[str(N)] = []\n",
    "    for i in range(100):\n",
    "        all_results[str(N)].append(analyze(i, 2, z, N_floats=N))\n",
    "        if i%10 == 0: print('.', end='')\n",
    "            \n",
    "    pr.disable()\n",
    "    s = StringIO.StringIO()\n",
    "    sortby = 'cumtime'\n",
    "    ps = pstats.Stats(pr, stream=s).sort_stats(sortby)\n",
    "    ps.print_stats()\n",
    "    print(N, s.getvalue())\n",
    "    \n",
    "    return# all_results"
   ]
  },
  {
   "cell_type": "code",
   "execution_count": null,
   "metadata": {},
   "outputs": [],
   "source": [
    "#%%time\n",
    "\n",
    "numbers = [3, 10, 30, 100]\n",
    "n_numbers = len(numbers)\n",
    "all_results = {}\n",
    "\n",
    "# pool = Pool(3)\n",
    "# all_results = pool.map(one_analysis, numbers)\n",
    "for N in numbers:\n",
    "    one_analysis(N)\n",
    "    \n",
    "#all_results = all_results[0]\n",
    "#print(all_results.keys())"
   ]
  },
  {
   "cell_type": "markdown",
   "metadata": {},
   "source": [
    "Since the previous step is quite slow (on the order of 5 minutes per test of different numbers of parameters), this is a good point to save the results.  We can load them from the file later and not remake them if we only want to do the rest of the analysis."
   ]
  },
  {
   "cell_type": "code",
   "execution_count": null,
   "metadata": {
    "collapsed": true
   },
   "outputs": [],
   "source": [
    "with open('all_results.pkl', 'wb') as result_file: \n",
    "    pickle.dump(all_results, result_file)"
   ]
  },
  {
   "cell_type": "code",
   "execution_count": null,
   "metadata": {
    "collapsed": true
   },
   "outputs": [],
   "source": [
    "with open('all_results.pkl', 'rb') as result_file: \n",
    "    all_results = pickle.load(result_file)"
   ]
  },
  {
   "cell_type": "code",
   "execution_count": null,
   "metadata": {
    "collapsed": true
   },
   "outputs": [],
   "source": [
    "all_KLD, all_RMSE = [], []\n",
    "for n in range(n_numbers):\n",
    "    KLD, RMSE = {}, {}\n",
    "    for approximation in all_results[str(numbers[n])][0]['KLD'].keys():\n",
    "        x = np.array([])\n",
    "        for k in range(len(all_results[str(numbers[n])])):\n",
    "            x = np.append(x, all_results[str(numbers[n])][k]['KLD'][approximation])\n",
    "        KLD[approximation] = x\n",
    "        x = np.array([])\n",
    "        for k in range(len(all_results[str(numbers[n])])):\n",
    "            x = np.append(x, all_results[str(numbers[n])][k]['RMSE'][approximation])\n",
    "        RMSE[approximation] = x\n",
    "    all_KLD.append(KLD)\n",
    "    all_RMSE.append(RMSE)"
   ]
  },
  {
   "cell_type": "markdown",
   "metadata": {},
   "source": [
    "Now let's plot histograms of the metric values."
   ]
  },
  {
   "cell_type": "code",
   "execution_count": null,
   "metadata": {},
   "outputs": [],
   "source": [
    "colors = {'samples':'green', 'quantiles':'blue', 'histogram':'red'}\n",
    "plt.figure(figsize=(12, 5*n_numbers))\n",
    "\n",
    "i=0\n",
    "for n in range(n_numbers):\n",
    "    i += 1\n",
    "    # Lefthand panel: KLD\n",
    "    plt.subplot(n_numbers, 2, i)\n",
    "    plt.title('KLD for '+str(numbers[n])+' numbers')\n",
    "    bins = np.linspace(0.0, 5., 25)\n",
    "    for k in ['samples', 'quantiles', 'histogram']:\n",
    "        plt.hist(all_KLD[n][k], bins, label=k, fc=colors[k], ec=colors[k], alpha=0.3, normed=True)\n",
    "    #plt.semilogx()\n",
    "    plt.xlabel('KL Divergence Metric', fontsize=16)\n",
    "    plt.ylim(0., 5.0)\n",
    "    plt.xlim(0., 5.0)\n",
    "    plt.legend()\n",
    "    \n",
    "    i += 1\n",
    "    # Righthand panel: RMSE\n",
    "    plt.subplot(n_numbers, 2, i)#+n_numbers)\n",
    "    plt.title('RMSE for '+str(numbers[n])+' numbers')\n",
    "    bins = np.linspace(0.0, 5., 25)\n",
    "    for k in ['samples', 'quantiles', 'histogram']:\n",
    "        plt.hist(all_RMSE[n][k], bins, label=k, fc=colors[k], ec=colors[k], alpha=0.3, normed=True)\n",
    "    #plt.semilogx()\n",
    "    plt.xlabel('RMS Error Metric', fontsize=16)\n",
    "    plt.ylim(0., 5.0)\n",
    "    plt.xlim(0., 5.0)\n",
    "    plt.legend();\n",
    "    \n",
    "plt.savefig('money.png')"
   ]
  },
  {
   "cell_type": "markdown",
   "metadata": {},
   "source": [
    "Interestingly, the metrics don't agree, nor is the behavior consistent across different numbers of parameters.  However, as the number of parameters increases, the distribution of the metrics converge to lower numbers.\n",
    "\n",
    "KLD seems to flag more \"bad\" approximations than RMSE. How do we know where to set the threshold in each metric? \n",
    "\n",
    "We should think of the right way to get a summary statistic (first moment?) on the ensemble of KLD or RMSE values so we can make the plot of number of parameters vs. quality of approximation."
   ]
  },
  {
   "cell_type": "markdown",
   "metadata": {},
   "source": [
    "Now lets compute the estimated $n(z)$. We'll do this with the GMM \"truth\", and then using each of our approximations. And we'll normalize the $n(z)$ to account for lost systems with bad approximations."
   ]
  },
  {
   "cell_type": "code",
   "execution_count": null,
   "metadata": {},
   "outputs": [],
   "source": [
    "plt.figure(figsize=(6, 5*n_numbers))\n",
    "all_n = []\n",
    "all_x = []\n",
    "all_y = []\n",
    "\n",
    "for i in range(n_numbers):\n",
    "    results = all_results[str(numbers[i])]\n",
    "    n = {}\n",
    "\n",
    "    # Pull out all truths and compute the average at each z:\n",
    "    x = np.zeros([len(z), len(results)])\n",
    "    y = {}\n",
    "    for approx in ['samples', 'quantiles', 'histogram']:\n",
    "        y[approx] = np.zeros([len(z), len(results)])\n",
    "        for k in range(len(results)):\n",
    "            y[approx][:,k] = results[k]['approximation'][approx] \n",
    "    for k in range(len(results)):\n",
    "        x[:,k] = results[k]['truth'] \n",
    "\n",
    "    # Now do the averaging to make the estimators:\n",
    "    n['truth'] = np.mean(x, axis=1)\n",
    "    n['truth'] /= np.sum(n['truth']) * delta_z\n",
    "    for approx in ['samples', 'quantiles', 'histogram']:\n",
    "        n[approx] = np.mean(y[approx], axis=1)\n",
    "        n[approx] /= np.sum(n[approx]) * delta_z\n",
    "        \n",
    "    all_n.append(n)\n",
    "    all_x.append(x)\n",
    "    all_y.append(y)\n",
    "\n",
    "    # Note: this uses the samples' KDE to make the approximation. We could (and \n",
    "    # should!) also try simply concatenating the samples and histogramming them.\n",
    "    \n",
    "    # Plot truth and all the approximations. \n",
    "    # The NaNs in the histogram approximation make that unplottable for now.\n",
    "    plt.subplot(n_numbers, 1, i+1)#+n_numbers)\n",
    "    plt.title(r'$n(z)$ for '+str(numbers[i])+' numbers')\n",
    "    plt.plot(z, n['truth'], color='black', lw=4, alpha=0.3, label='truth')\n",
    "    for k in ['samples', 'quantiles', 'histogram']:\n",
    "        plt.plot(z, n[k], label=k, color=colors[k])\n",
    "    plt.xlabel('redshift z')\n",
    "    plt.ylabel('n(z)')\n",
    "    plt.legend();\n",
    "plt.savefig('nz_comparison.png')"
   ]
  },
  {
   "cell_type": "markdown",
   "metadata": {},
   "source": [
    "The \"samples\" approximation gives the best result for the $n(z)$ estimator even with a small number of samples.  However, once the number of parameters increases slightly, the \"quantiles\" approximation performs similarly.  It takes a large number of parameters before the \"histogram\" approximation approaches the other options. Let's use the `qp.PDF` object to compare them quantitatively (since $n(z)$ can be normalized to give the global $p(z)$)."
   ]
  },
  {
   "cell_type": "code",
   "execution_count": null,
   "metadata": {
    "collapsed": true
   },
   "outputs": [],
   "source": [
    "all_p = []\n",
    "\n",
    "for i in range(n_numbers):\n",
    "    n = all_n[i]\n",
    "    p = {}\n",
    "    for k in ['samples', 'quantiles', 'histogram']:\n",
    "        p[k] = qp.PDF(gridded=(z,n[k]), vb=False)\n",
    "\n",
    "    p['truth'] = qp.PDF(gridded=(z,n['truth']), vb=False)\n",
    "    \n",
    "    all_p.append(p)"
   ]
  },
  {
   "cell_type": "code",
   "execution_count": null,
   "metadata": {
    "collapsed": true
   },
   "outputs": [],
   "source": [
    "all_KLD_nz, all_RMSE_nz = {}, {}\n",
    "zlimits, dz = [0.0, 3.5], 0.01\n",
    "for k in ['samples', 'quantiles', 'histogram']:\n",
    "    p = all_p[i]\n",
    "    KLD_nz, RMSE_nz = [], []\n",
    "    for i in range(n_numbers):\n",
    "        KLD_nz.append(qp.calculate_kl_divergence(all_p[i]['truth'], all_p[i][k], limits=zlimits, dx=dz, vb=False))\n",
    "        RMSE_nz.append(qp.calculate_rmse(all_p[i]['truth'], all_p[i][k], limits=zlimits, dx=dz, vb=False))\n",
    "    \n",
    "    all_KLD_nz[k] = KLD_nz\n",
    "    all_RMSE_nz[k] = RMSE_nz"
   ]
  },
  {
   "cell_type": "code",
   "execution_count": null,
   "metadata": {},
   "outputs": [],
   "source": [
    "plt.figure(figsize=(12, 5))\n",
    "both = [plt.subplot(1, 2, i+1) for i in range(2)]\n",
    "KLD_plot = both[0]\n",
    "RMSE_plot = both[1]\n",
    "KLD_plot.set_title(r'KLD for $n(z)$')\n",
    "RMSE_plot.set_title(r'RMSE for $n(z)$')\n",
    "KLD_plot.set_xlabel('number of parameters')\n",
    "RMSE_plot.set_xlabel('number of parameters')\n",
    "KLD_plot.set_ylabel('KLD')\n",
    "RMSE_plot.set_ylabel('RMSE')\n",
    "# KLD_plot.semilogx()\n",
    "# KLD_plot.semilogy()\n",
    "# RMSE_plot.semilogx()\n",
    "# RMSE_plot.semilogy()\n",
    "\n",
    "for k in ['samples', 'quantiles', 'histogram']:\n",
    "    KLD_plot.plot(numbers, all_KLD_nz[k], color=colors[k], label=k)\n",
    "    RMSE_plot.plot(numbers, all_RMSE_nz[k], color=colors[k], label=k)\n",
    "\n",
    "KLD_plot.semilogy()\n",
    "KLD_plot.semilogx()\n",
    "RMSE_plot.semilogy()\n",
    "RMSE_plot.semilogx()\n",
    "KLD_plot.legend()\n",
    "RMSE_plot.legend()\n",
    "plt.savefig('summary.png')"
   ]
  },
  {
   "cell_type": "code",
   "execution_count": null,
   "metadata": {},
   "outputs": [],
   "source": [
    "print('KLD metrics for n(z) estimator: ', all_KLD_nz)\n",
    "print('RMSE metrics for n(z) estimator: ', all_RMSE_nz)"
   ]
  },
  {
   "cell_type": "markdown",
   "metadata": {},
   "source": [
    "This early indication suggests that the histogram approximation really is the best after all. The rank order of the three methods is the same when the $n(z)$ estimates are compared with the KLD metric and the RMSE metric in all cases except for at 10 parameters where samples and quantiles perform almost identically under the KLD.\n",
    "\n",
    "| Number of data points | Lowest KLD | Middle KLD | Highest KLD |\n",
    "| --------------------- | ---------- | ---------- | ----------- |\n",
    "| 3 | samples | histogram | quantiles |\n",
    "| 10 | samples | quantiles | histogram |\n",
    "| 30 | quantiles | samples | histogram |\n",
    "| 100 | histogram | quantiles | samples |\n",
    "\n",
    "| Number of data points | Lowest RMSE | Middle RMSE | Highest RMSE |\n",
    "| --------------------- | ---------- | ---------- | ----------- |\n",
    "| 3 | samples | histogram | quantiles |\n",
    "| 10 | quantiles | samples | histogram |\n",
    "| 30 | quantiles | samples | histogram |\n",
    "| 100 | quantiles | samples | histogram |\n",
    "\n",
    "A bigger test, using the full dataset, should allow this to be tested further: jack-knife error bars should also be calculable. "
   ]
  },
  {
   "cell_type": "code",
   "execution_count": null,
   "metadata": {
    "collapsed": true
   },
   "outputs": [],
   "source": []
  },
  {
   "cell_type": "code",
   "execution_count": null,
   "metadata": {
    "collapsed": true
   },
   "outputs": [],
   "source": []
  }
 ],
 "metadata": {
  "kernelspec": {
   "display_name": "Python 2",
   "language": "python",
   "name": "python2"
  },
  "language_info": {
   "codemirror_mode": {
    "name": "ipython",
    "version": 2
   },
   "file_extension": ".py",
   "mimetype": "text/x-python",
   "name": "python",
   "nbconvert_exporter": "python",
   "pygments_lexer": "ipython2",
   "version": "2.7.13"
  }
 },
 "nbformat": 4,
 "nbformat_minor": 1
}
