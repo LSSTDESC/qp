{
 "cells": [
  {
   "cell_type": "markdown",
   "metadata": {},
   "source": [
    "# `qp` Demo\n",
    "\n",
    "_Alex Malz & Phil Marshall_\n",
    "\n",
    "In this notebook we use the `qp` module to approximate some simple, standard, 1-D PDFs using sets of quantiles, samples, and histograms, and assess their relative accuracy. We also show how such analyses can be extended to use \"composite\" PDFs made up of mixtures of standard distributions.\n",
    "\n",
    "### Requirements\n",
    "\n",
    "To run `qp`, you will need to first install the module. "
   ]
  },
  {
   "cell_type": "code",
   "execution_count": null,
   "metadata": {},
   "outputs": [],
   "source": [
    "import numpy as np\n",
    "import scipy.stats as sps\n",
    "import scipy.interpolate as spi\n",
    "\n",
    "import matplotlib\n",
    "matplotlib.use('Agg')\n",
    "import matplotlib.pyplot as plt\n",
    "%matplotlib inline\n",
    "\n",
    "import qp"
   ]
  },
  {
   "cell_type": "markdown",
   "metadata": {},
   "source": [
    "## The `qp.PDF` Class\n",
    "\n",
    "This is the basic element of `qp` - an object representing a probability density function. This class is stored in the module `pdf.py`.  The PDF must be initialized with some representation of the distribution."
   ]
  },
  {
   "cell_type": "code",
   "execution_count": null,
   "metadata": {
    "scrolled": true
   },
   "outputs": [],
   "source": [
    "# ! cat qp/pdf.py\n",
    "#P = qp.PDF(vb=True)"
   ]
  },
  {
   "cell_type": "markdown",
   "metadata": {},
   "source": [
    "## Approximating a Gaussian\n",
    "\n",
    "Let's summon a PDF object, and initialize it with a standard function - a Gaussian."
   ]
  },
  {
   "cell_type": "code",
   "execution_count": null,
   "metadata": {},
   "outputs": [],
   "source": [
    "limits = (-5., 5.)\n",
    "dist = sps.norm(loc=0, scale=1)\n",
    "print(type(dist))\n",
    "qp.qp_plot_native(None, dist, label=\"pdf\", limits=limits)"
   ]
  },
  {
   "cell_type": "markdown",
   "metadata": {},
   "source": [
    "### Samples\n",
    "\n",
    "Let's sample the PDF to see how it looks.  When we plot the `PDF` object, both the true and sampled distributions are displayed."
   ]
  },
  {
   "cell_type": "code",
   "execution_count": null,
   "metadata": {},
   "outputs": [],
   "source": [
    "np.random.seed(42)\n",
    "\n",
    "kde_dist = qp.qp_convert(dist, qp.kde_dist)\n",
    "qp.qp_plot_native(None, kde_dist, limits=limits)"
   ]
  },
  {
   "cell_type": "markdown",
   "metadata": {},
   "source": [
    "### Quantile Parametrization\n",
    "\n",
    "Now, let's compute a set of evenly spaced quantiles. These will be carried by the `PDF` object as `p.quantiles`.  We also demonstrate the initialization of a `PDF` object with quantiles and no truth function."
   ]
  },
  {
   "cell_type": "code",
   "execution_count": null,
   "metadata": {
    "scrolled": true
   },
   "outputs": [],
   "source": [
    "quantiles = np.linspace(0.01, 0.99, 11)\n",
    "\n",
    "quant_dist = qp.qp_convert(dist, qp.quantile_dist, quantiles=quantiles)\n",
    "qp.qp_plot_native(None, quant_dist, limits=limits)"
   ]
  },
  {
   "cell_type": "markdown",
   "metadata": {},
   "source": [
    "### Histogram Parametrization\n",
    "\n",
    "Let's also compute a histogram representation, that will be carried by the `PDF` object as `p.histogram`. The values in each bin are the integrals of the PDF over the range defined by bin ends. We can also initialize a `PDF` object with a histogram and no truth function."
   ]
  },
  {
   "cell_type": "code",
   "execution_count": null,
   "metadata": {},
   "outputs": [],
   "source": [
    "bins = np.linspace(-5, 5, 11)\n",
    "hist_dist = qp.qp_convert(dist, sps.rv_histogram, bins=bins)\n",
    "qp.qp_plot_native(None, hist_dist, limits=limits)"
   ]
  },
  {
   "cell_type": "markdown",
   "metadata": {},
   "source": [
    "### Evaluating the Approximate PDF by Interpolation\n",
    "\n",
    "Once we have chosen a parametrization to approximate the PDF with, we can evaluate the approximate PDF at any point by interpolation (or extrapolation). `qp` uses [`scipy.intepolate.interp1d`](https://docs.scipy.org/doc/scipy/reference/generated/scipy.interpolate.interp1d.html) to do this, with `linear` as the default interpolation scheme. (Most other options do not enable extrapolation, `nearest` being the exception.)\n",
    "\n",
    "Let's test this interpolation by evaluating an approximation at a single point using the quantile parametrization."
   ]
  },
  {
   "cell_type": "code",
   "execution_count": null,
   "metadata": {},
   "outputs": [],
   "source": [
    "print (qp.approximate_dist(quant_dist, np.array([0.314])))"
   ]
  },
  {
   "cell_type": "code",
   "execution_count": null,
   "metadata": {},
   "outputs": [],
   "source": [
    "dist.pdf(np.array([0.314]))"
   ]
  },
  {
   "cell_type": "markdown",
   "metadata": {},
   "source": [
    "(We can also integrate any approximation.)"
   ]
  },
  {
   "cell_type": "code",
   "execution_count": null,
   "metadata": {},
   "outputs": [],
   "source": [
    "print (qp.integrate_dist(quant_dist, limits=(0,1)))"
   ]
  },
  {
   "cell_type": "markdown",
   "metadata": {},
   "source": [
    "We can also interpolate the function onto an evenly spaced grid with points within and out of the quantile range, as follows:  "
   ]
  },
  {
   "cell_type": "code",
   "execution_count": null,
   "metadata": {
    "scrolled": true
   },
   "outputs": [],
   "source": [
    "grid = np.linspace(-3., 3., 100)\n",
    "gridded = quant_dist.pdf(grid)\n",
    "print(gridded)"
   ]
  },
  {
   "cell_type": "markdown",
   "metadata": {},
   "source": [
    "We can also change the interpolation scheme:"
   ]
  },
  {
   "cell_type": "markdown",
   "metadata": {},
   "source": [
    "### Mixture Model Fit\n",
    "\n",
    "We can fit a parametric mixture model to samples from any parametrization.  Currently, only a Gaussian mixture model is supported."
   ]
  },
  {
   "cell_type": "code",
   "execution_count": null,
   "metadata": {},
   "outputs": [],
   "source": [
    "mixmod_dist = qp.qp_convert(dist, qp.sum_dist, ncomps=3, nsamples=1000)\n",
    "qp.qp_plot_native(None, mixmod_dist, limits=limits, label=\"mixmod\")"
   ]
  },
  {
   "cell_type": "markdown",
   "metadata": {},
   "source": [
    "## Comparing Parametrizations\n",
    "\n",
    "`qp` supports both qualitative and quantitative comparisons between different distributions, across parametrizations."
   ]
  },
  {
   "cell_type": "markdown",
   "metadata": {},
   "source": [
    "### Qualitative Comparisons: Plotting\n",
    "\n",
    "Let's visualize the PDF object in order to compare the truth and the approximations.  The solid, black line shows the true PDF evaluated between the bounds.  The green rugplot shows the locations of the 1000 samples we took.  The vertical, dotted, blue lines show the percentiles we asked for, and the hotizontal, dotted, red lines show the 10 equally spaced bins we asked for.  Note that the quantiles refer to the probability distribution *between the bounds*, because we are not able to integrate numerically over an infinite range. Interpolations of each parametrization are given as dashed lines in their corresponding colors.  Note that the interpolations of the quantile and histogram parametrizations are so close to each other that the difference is almost imperceptible!"
   ]
  },
  {
   "cell_type": "code",
   "execution_count": null,
   "metadata": {
    "scrolled": false
   },
   "outputs": [],
   "source": [
    "fig, axes = qp.make_figure_axes(limits=limits)\n",
    "for dist, label in zip([dist, hist_dist, quant_dist, kde_dist, mixmod_dist], [\"Truth\", \"Hist\", \"Quantiles\", \"KDE\", \"Mixture\"]):\n",
    "    qp.qp_plot_native(axes, dist)    "
   ]
  },
  {
   "cell_type": "markdown",
   "metadata": {},
   "source": [
    "### Quantitative Comparisons"
   ]
  },
  {
   "cell_type": "code",
   "execution_count": null,
   "metadata": {},
   "outputs": [],
   "source": [
    "symm_lims = np.array([-1., 1.])\n",
    "all_lims = [symm_lims, 2.*symm_lims, 3.*symm_lims]"
   ]
  },
  {
   "cell_type": "markdown",
   "metadata": {
    "collapsed": true
   },
   "source": [
    "Next, let's compare the different parametrizations to the truth using the Kullback-Leibler Divergence (KLD).  The KLD is a measure of how close two probability distributions are to one another -- a smaller value indicates closer agreement.  It is measured in units of bits of information, the information lost in going from the second distribution to the first distribution.  The KLD calculator here takes in a shared grid upon which to evaluate the true distribution and the interpolated approximation of that distribution and returns the KLD of the approximation relative to the truth, which is not in general the same as the KLD of the truth relative to the approximation.  Below, we'll calculate the KLD of the approximation relative to the truth over different ranges, showing that it increases as it includes areas where the true distribution and interpolated distributions diverge."
   ]
  },
  {
   "cell_type": "code",
   "execution_count": null,
   "metadata": {},
   "outputs": [],
   "source": [
    "for PDF in [hist_dist, quant_dist, kde_dist, mixmod_dist]:\n",
    "    D = []\n",
    "    for lims in all_lims:\n",
    "        D.append(qp.metrics.calculate_kld(dist, PDF, limits=lims, vb=False))\n",
    "    print(str(type(PDF))+' approximation: KLD over 1, 2, 3, sigma ranges = '+str(D))"
   ]
  },
  {
   "cell_type": "markdown",
   "metadata": {
    "collapsed": true
   },
   "source": [
    "Holy smokes, does the quantile approximation blow everything else out of the water, thanks to using spline interpolation."
   ]
  },
  {
   "cell_type": "markdown",
   "metadata": {},
   "source": [
    "The progression of KLD values should follow that of the root mean square error (RMSE), another measure of how close two functions are to one another.  The RMSE also increases as it includes areas where the true distribution and interpolated distribution diverge.  Unlike the KLD, the RMSE is symmetric, meaning the distance measured is not that of one distribution from the other but of the symmetric distance between them."
   ]
  },
  {
   "cell_type": "code",
   "execution_count": null,
   "metadata": {
    "scrolled": true
   },
   "outputs": [],
   "source": [
    "for PDF in [hist_dist, quant_dist, kde_dist, mixmod_dist]:\n",
    "    D = []\n",
    "    for lims in all_lims:\n",
    "        D.append(qp.metrics.calculate_rmse(dist, PDF, limits=lims, vb=False))\n",
    "    print(str(type(PDF))+' approximation: RMSE over 1, 2, 3, sigma ranges = '+str(D))"
   ]
  },
  {
   "cell_type": "markdown",
   "metadata": {},
   "source": [
    "Both the KLD and RMSE metrics suggest that the quantile approximation is better in the high density region, but samples work better when the tails are included. We might expect the answer to the question of which approximation to use to depend on the application, and whether the tails need to be captured or not."
   ]
  },
  {
   "cell_type": "markdown",
   "metadata": {},
   "source": [
    "Finally, we can compare the meoments of each approximation and compare those to the moments ofthe true distribution."
   ]
  },
  {
   "cell_type": "code",
   "execution_count": null,
   "metadata": {},
   "outputs": [],
   "source": [
    "pdfs = [dist, hist_dist, quant_dist, kde_dist, mixmod_dist]\n",
    "which_moments = range(3)\n",
    "all_moments = []\n",
    "for pdf in pdfs:\n",
    "    moments = []\n",
    "    for n in which_moments:\n",
    "        moments.append(qp.metrics.calculate_moment(pdf, n, limits=limits))\n",
    "    all_moments.append(moments)\n",
    "    \n",
    "print('moments: '+str(which_moments))\n",
    "for pdf, moments in zip(pdfs, all_moments):\n",
    "    print(str(type(pdf))+': '+str(moments))"
   ]
  },
  {
   "cell_type": "markdown",
   "metadata": {},
   "source": [
    "The first three moments have an interesting interpretation.  The zeroth moment should always be 1 when calculated over the entire range of redshifts, but the quantile approximation is off by about $7\\%$.  We know the first moment in this case is 0, and indeed the evaluation of the first moment for the true distribution deviates from 0 by less than Python's floating point precision.  The samples parametrization has a biased estimate for the first moment to the tune of $2\\%$.  The second moment for the true distribution is 1, and the quantile parametrization (and, to a lesser extent, the histogram parametrization) fails to provide a good estimate of it."
   ]
  },
  {
   "cell_type": "markdown",
   "metadata": {
    "collapsed": true
   },
   "source": [
    "## Advanced Usage"
   ]
  },
  {
   "cell_type": "markdown",
   "metadata": {},
   "source": [
    "### Composite PDFs\n",
    "\n",
    "In addition to individual `scipy.stats.rv_continuous` objects, `qp` can be initialized with true distributions that are linear combinations of `scipy.stats.rv_continuous` objects.  To do this, one must create the component distributions and specify their relative weights.  This can be done by running `qp.PDF.mix_mod_fit()` on an existing `qp.PDF` object once samples have been calculated, or it can be done by hand."
   ]
  },
  {
   "cell_type": "code",
   "execution_count": null,
   "metadata": {},
   "outputs": [],
   "source": [
    "dists = [sps.norm(loc=-2., scale=1.), sps.norm(loc=2., scale=1.)]\n",
    "coefs = [0.8, 0.2]\n",
    "\n",
    "\n",
    "comp_dist = qp.sum_dist(coefs=coefs, dists=dists)\n",
    "qp.qp_plot_native(None, comp_dist, label=\"mixmod\", limits=limits)"
   ]
  },
  {
   "cell_type": "markdown",
   "metadata": {},
   "source": [
    "We can calculate the quantiles for such a distribution."
   ]
  },
  {
   "cell_type": "code",
   "execution_count": null,
   "metadata": {},
   "outputs": [],
   "source": [
    "Cq = qp.qp_convert(comp_dist, qp.quantile_dist, quantiles=quantiles)\n",
    "qp.qp_plot_native(None, Cq, limits=limits)"
   ]
  },
  {
   "cell_type": "markdown",
   "metadata": {},
   "source": [
    "Similarly, the histogram parametrization is also supported for composite PDFs."
   ]
  },
  {
   "cell_type": "code",
   "execution_count": null,
   "metadata": {},
   "outputs": [],
   "source": [
    "hist = qp.utils.histogramize_dist(comp_dist, bins=bins)\n",
    "print(hist)\n",
    "Ch = sps.rv_histogram((hist[1],hist[0]))"
   ]
  },
  {
   "cell_type": "code",
   "execution_count": null,
   "metadata": {},
   "outputs": [],
   "source": [
    "Ch = qp.qp_convert(comp_dist, sps.rv_histogram, bins=bins)\n",
    "qp.qp_plot_native(None, Ch, limits=limits)"
   ]
  },
  {
   "cell_type": "markdown",
   "metadata": {},
   "source": [
    "Finally, samples from this distribution may also be taken, and a PDF may be reconstructed from them.  Note: this uses [`scipy.stats.gaussian_kde`](https://docs.scipy.org/doc/scipy/reference/generated/scipy.stats.gaussian_kde.html), which determines its bandwidth/kernel size using Scott's Rule, Silverman's Rule, a fixed bandwidth, or a callable function that returns a bandwidth."
   ]
  },
  {
   "cell_type": "code",
   "execution_count": null,
   "metadata": {},
   "outputs": [],
   "source": [
    "samples = comp_dist.rvs(size=1000)\n",
    "Cs = qp.kde_dist(samples)"
   ]
  },
  {
   "cell_type": "code",
   "execution_count": null,
   "metadata": {},
   "outputs": [],
   "source": [
    "qD = qp.metrics.calculate_kld(comp_dist, Cq, limits=limits, dx=0.001, vb=True)\n",
    "hD = qp.metrics.calculate_kld(comp_dist, Ch, limits=limits, dx=0.001, vb=True)\n",
    "sD = qp.metrics.calculate_kld(comp_dist, Cs, limits=limits, dx=0.001, vb=True)\n",
    "print(qD, hD, sD)"
   ]
  },
  {
   "cell_type": "markdown",
   "metadata": {
    "collapsed": true
   },
   "source": [
    "### PDF Ensembles\n",
    "\n",
    "`qp` also includes infrastructure for handling ensembles of `PDF` objects with shared metaparameters, such as histogram bin ends, but unique per-object parameters, such as histogram bin heights.  A `qp.Ensemble` object takes as input the number of items in the ensemble and, optionally, a list, with contents corresponding to one of the built-in formats.\n",
    "\n",
    "Let's demonstrate on PDFs with a functional form, which means the list of information for each member of the ensemble is `scipy.stats.rv_continuous` or `qp.composite` objects."
   ]
  },
  {
   "cell_type": "code",
   "execution_count": null,
   "metadata": {},
   "outputs": [],
   "source": [
    "N = 25\n",
    "means = sps.uniform.rvs(size=N)\n",
    "stdevs = 1.0 + 0.5*sps.uniform.rvs(size=N)\n",
    "dists = [sps.norm(loc=mean, scale=stdev) for mean, stdev in zip(means, stdevs)]\n",
    "E = qp.Ensemble(dists)"
   ]
  },
  {
   "cell_type": "markdown",
   "metadata": {},
   "source": [
    "As with individual `qp.PDF` objects, we can evaluate the PDFs at given points, convert to other formats, and integrate."
   ]
  },
  {
   "cell_type": "code",
   "execution_count": null,
   "metadata": {},
   "outputs": [],
   "source": [
    "eval_range = np.linspace(-5., 5., 100)\n",
    "E.evaluate(eval_range)"
   ]
  },
  {
   "cell_type": "code",
   "execution_count": null,
   "metadata": {},
   "outputs": [],
   "source": [
    "E.quantize(quantiles)"
   ]
  },
  {
   "cell_type": "code",
   "execution_count": null,
   "metadata": {},
   "outputs": [],
   "source": [
    "E.integrate(limits=(0., 1.))"
   ]
  },
  {
   "cell_type": "markdown",
   "metadata": {},
   "source": [
    "Previous versions of `qp` included a built-in function for \"stacking\" the member PDFs of a `qp.Ensemble` object.  This functionality has been removed to discourage use of this procedure in science applications.  However, we provide a simple function one may use should this functionality be desired."
   ]
  },
  {
   "cell_type": "code",
   "execution_count": null,
   "metadata": {},
   "outputs": [],
   "source": [
    "E.dist_class"
   ]
  },
  {
   "cell_type": "code",
   "execution_count": null,
   "metadata": {},
   "outputs": [],
   "source": [
    "E_hist = qp.qp_convert(E, sps.rv_histogram, bins=bins)"
   ]
  },
  {
   "cell_type": "code",
   "execution_count": null,
   "metadata": {},
   "outputs": [],
   "source": [
    "def stack(ensemble, loc):\n",
    "    \"\"\"\n",
    "    Produces an average of the PDFs in the ensemble\n",
    "\n",
    "    Parameters\n",
    "    ----------\n",
    "    ensemble: qp.Ensemble\n",
    "        the ensemble of PDFs to stack\n",
    "    loc: ndarray, float or float\n",
    "        location(s) at which to evaluate the PDFs\n",
    "    using: string\n",
    "        which parametrization to use for the approximation\n",
    "    vb: boolean\n",
    "        report on progress\n",
    "\n",
    "    Returns\n",
    "    -------\n",
    "    stacked: tuple, ndarray, float\n",
    "        pair of arrays for locations where approximations were evaluated\n",
    "        and the values of the stacked PDFs at those points\n",
    "    \"\"\"\n",
    "    evaluated = ensemble.evaluate(loc)\n",
    "    stack = np.mean(evaluated[-1], axis=0)\n",
    "    stacked = (loc, stack)\n",
    "    return stacked"
   ]
  },
  {
   "cell_type": "code",
   "execution_count": null,
   "metadata": {},
   "outputs": [],
   "source": [
    "stacked = stack(E, eval_range)\n",
    "plt.plot(stacked[0], stacked[1])"
   ]
  },
  {
   "cell_type": "code",
   "execution_count": null,
   "metadata": {},
   "outputs": [],
   "source": []
  },
  {
   "cell_type": "code",
   "execution_count": null,
   "metadata": {},
   "outputs": [],
   "source": []
  },
  {
   "cell_type": "code",
   "execution_count": null,
   "metadata": {},
   "outputs": [],
   "source": []
  }
 ],
 "metadata": {
  "kernelspec": {
   "display_name": "Python 3",
   "language": "python",
   "name": "python3"
  },
  "language_info": {
   "codemirror_mode": {
    "name": "ipython",
    "version": 3
   },
   "file_extension": ".py",
   "mimetype": "text/x-python",
   "name": "python",
   "nbconvert_exporter": "python",
   "pygments_lexer": "ipython3",
   "version": "3.7.6"
  }
 },
 "nbformat": 4,
 "nbformat_minor": 1
}
