{
 "cells": [
  {
   "cell_type": "code",
   "execution_count": null,
   "id": "persistent-adelaide",
   "metadata": {},
   "outputs": [],
   "source": [
    "import numpy as np\n",
    "import os\n",
    "\n",
    "import matplotlib\n",
    "matplotlib.use('Agg')\n",
    "import matplotlib.pyplot as plt\n",
    "%matplotlib inline\n",
    "\n",
    "import astropy\n",
    "\n",
    "import qp\n",
    "%config Completer.use_jedi = False"
   ]
  },
  {
   "cell_type": "code",
   "execution_count": null,
   "id": "urban-catering",
   "metadata": {},
   "outputs": [],
   "source": [
    "ens = qp.read('qp_test_ensemble.hdf5')\n",
    "ens_red = ens[np.arange(10)]\n",
    "z = ens.metadata()['xvals'][0]\n",
    "P = ens_red.objdata()['yvals']\n",
    "Ntot = len(P)"
   ]
  },
  {
   "cell_type": "markdown",
   "id": "incorrect-compromise",
   "metadata": {},
   "source": [
    "First possible usage : A trivial conversion from gaussian mixmod to same voigt bases (so gamma set to 0)"
   ]
  },
  {
   "cell_type": "code",
   "execution_count": null,
   "id": "round-ceiling",
   "metadata": {},
   "outputs": [],
   "source": [
    "# Convert to a gaussian mixture using 301 sample points and ncomps components\n",
    "ncomps = 3\n",
    "xvals = np.linspace(0, 3.0, 301)\n",
    "ens_m = qp.convert(ens_red, 'mixmod', xvals=xvals, ncomps=ncomps)\n",
    "ens_voigt = qp.convert(ens_m, 'voigt')"
   ]
  },
  {
   "cell_type": "code",
   "execution_count": null,
   "id": "august-charm",
   "metadata": {},
   "outputs": [],
   "source": [
    "key = 1\n",
    "axes_m = ens_red.plot(key, xlim=(0, 0.3), label=\"original\", marker='.')\n",
    "_ = ens_m.plot(key, axes=axes_m, label=\"gaus\")\n",
    "_ = ens_voigt.plot(key, axes=axes_m, label=\"voigt\")\n",
    "leg_m = axes_m.figure.legend()"
   ]
  },
  {
   "cell_type": "markdown",
   "id": "transparent-major",
   "metadata": {},
   "source": [
    "2 remarks :\n",
    "- the mixmod fit seems a bit unstable : https://github.com/LSSTDESC/qp/issues/28\n",
    "- the truncation at z=0 is quite interesting; this could be typical of a faint star, for which the star/galaxy separation fails but the colours still allow for a non zero redshift solution to the photoz estimation. The fact that the representaiton has a second mode distinctly distinct from 0 compared to the original pdf is a potentially serious concern"
   ]
  },
  {
   "cell_type": "markdown",
   "id": "authorized-yield",
   "metadata": {},
   "source": [
    "The next stage would be to convert the original xy representation into a sparse one, based on the orthogonal matching pursuit scheme and the Voigt basis implemented in sparse_rep "
   ]
  },
  {
   "cell_type": "code",
   "execution_count": null,
   "id": "excessive-china",
   "metadata": {},
   "outputs": [],
   "source": [
    "ens_sparse = qp.convert(ens_red, class_name='sparse')"
   ]
  },
  {
   "cell_type": "code",
   "execution_count": null,
   "id": "velvet-spanking",
   "metadata": {},
   "outputs": [],
   "source": [
    "ens_sparse[9]"
   ]
  },
  {
   "cell_type": "code",
   "execution_count": null,
   "id": "common-truck",
   "metadata": {},
   "outputs": [],
   "source": [
    "x = np.linspace(0.005,0.3,300)\n",
    "y = ens_sparse.pdf(x)[9]\n",
    "axes_m = ens_red.plot(9, xlim=(0, 0.3), label=\"original\", color='r')\n",
    "axes_m.plot(x,y)"
   ]
  },
  {
   "cell_type": "code",
   "execution_count": null,
   "id": "different-johnston",
   "metadata": {},
   "outputs": [],
   "source": [
    "ens_sparse.plot_native(ens_sparse[key],axes=axes_m, label=\"sparse\",marker='.',color='b',linewidth=0)"
   ]
  },
  {
   "cell_type": "code",
   "execution_count": null,
   "id": "material-interface",
   "metadata": {
    "scrolled": true
   },
   "outputs": [],
   "source": [
    "key = 9\n",
    "axes_m = ens_red.plot(key, xlim=(0, 0.5), label=\"original\", color='r')\n",
    "_ = ens_sparse.plot(key,axes=axes_m, label=\"sparse\",marker='.',color='b',linewidth=0)\n",
    "leg_m = axes_m.figure.legend()"
   ]
  },
  {
   "cell_type": "markdown",
   "id": "historical-boating",
   "metadata": {},
   "source": [
    "So this fails a bit cryptically to me.... \n",
    "Another natural way to proceed would be to inherit for the interp class from qp, as in essence the sparse representation encodes an 'xy' representation into a sparse representation."
   ]
  },
  {
   "cell_type": "code",
   "execution_count": null,
   "id": "olympic-confusion",
   "metadata": {},
   "outputs": [],
   "source": [
    "ens_voigt0 = qp.convert(ens_red, class_name='sparse2')"
   ]
  },
  {
   "cell_type": "markdown",
   "id": "average-billion",
   "metadata": {},
   "source": [
    "Again a cryptic trace and failure mode..... at least to me"
   ]
  }
 ],
 "metadata": {
  "kernelspec": {
   "display_name": "Python 3",
   "language": "python",
   "name": "python3"
  },
  "language_info": {
   "codemirror_mode": {
    "name": "ipython",
    "version": 3
   },
   "file_extension": ".py",
   "mimetype": "text/x-python",
   "name": "python",
   "nbconvert_exporter": "python",
   "pygments_lexer": "ipython3",
   "version": "3.8.8"
  }
 },
 "nbformat": 4,
 "nbformat_minor": 5
}
