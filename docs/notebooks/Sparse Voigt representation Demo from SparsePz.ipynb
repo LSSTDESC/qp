{
 "cells": [
  {
   "cell_type": "code",
   "execution_count": null,
   "id": "whole-purple",
   "metadata": {},
   "outputs": [],
   "source": [
    "import sys, os\n",
    "import qp\n",
    "import numpy as np\n",
    "from scipy import linalg as sla\n",
    "from scipy import special\n",
    "from scipy import integrate as sciint\n",
    "from scipy import interpolate as sciinterp\n",
    "from matplotlib import pylab as plt\n",
    "from astropy.io import fits as pf\n",
    "%matplotlib inline\n",
    "%config Completer.use_jedi = False"
   ]
  },
  {
   "cell_type": "markdown",
   "id": "powerful-campaign",
   "metadata": {},
   "source": [
    "We load the data : pdf examples from either qp or the original SparsePz package"
   ]
  },
  {
   "cell_type": "code",
   "execution_count": null,
   "id": "historical-switch",
   "metadata": {},
   "outputs": [],
   "source": [
    "Ntot = 10 #limit the number of pdfs for testing. Set to -1 to load all pdfs\n",
    "if True:\n",
    "    filein = '/home/cohen/lsst/codes/pipelines/photoz/SparsePz/CFHTLens_sample.P.npy'\n",
    "    #FORMAT FILE, EACH ROW IS THE PDF FOR EACH GALAXY, LAST ROW IS THE REDSHIFT POSITION\n",
    "    P = np.load(filein)\n",
    "    z = P[-1]\n",
    "    P = P[:Ntot]\n",
    "else:\n",
    "    ens = qp.read('qp_test_ensemble.hdf5')\n",
    "    z = ens.metadata()['xvals'][0]\n",
    "    if Ntot != -1:\n",
    "        ens_red = ens[np.arange(Ntot)]\n",
    "    else:\n",
    "        ens_red = ens\n",
    "    P = ens_red.objdata()['yvals']"
   ]
  },
  {
   "cell_type": "markdown",
   "id": "rising-character",
   "metadata": {},
   "source": [
    "We want to enforce normalisation, just in case the input pdfs are not properly normalized, and we want to optimize the grid used for sparse representation over the whole considered sample (the same grid needs to be used for every pdf in the sample). We use trapezoidal rule as a fast integrator and likely a sufficient precision for our purpose."
   ]
  },
  {
   "cell_type": "code",
   "execution_count": null,
   "id": "conditional-positive",
   "metadata": {},
   "outputs": [],
   "source": [
    "P = P/sciint.trapz(P,z).reshape(-1,1)"
   ]
  },
  {
   "cell_type": "code",
   "execution_count": null,
   "id": "personalized-bidder",
   "metadata": {},
   "outputs": [],
   "source": [
    "minz = np.min(z)\n",
    "nz = 300\n",
    "i,j=np.where(P>0)\n",
    "maxz=np.max(z[j])\n",
    "newz=np.linspace(minz, maxz, nz)\n",
    "interp = sciinterp.interp1d(z,P, assume_sorted=True)\n",
    "newpdf = interp(newz)\n",
    "newpdf = newpdf / sciint.trapz(newpdf,newz).reshape(-1,1)"
   ]
  },
  {
   "cell_type": "code",
   "execution_count": null,
   "id": "binding-edition",
   "metadata": {},
   "outputs": [],
   "source": [
    "##check the pdf if the Ntot is not too large\n",
    "plt.plot(z,P.T); plt.plot(newz,newpdf.T,'.'); plt.xlim(minz,maxz);"
   ]
  },
  {
   "cell_type": "code",
   "execution_count": null,
   "id": "innovative-albany",
   "metadata": {},
   "outputs": [],
   "source": [
    "#Note : the range for gamma is fixed to [0, 0.5] in qp.utils.create_voigt_basis\n",
    "def build_sparse_representation(z, P, mu=None, Nmu=None, sig=None, Nsig=None, Nv=3, Nsparse=20, tol=1.e-10):\n",
    "    Ntot = len(P)\n",
    "    print(\"Total Galaxies = \", Ntot)\n",
    "    dz = z[1] - z[0]\n",
    "    print('dz = ', dz)\n",
    "    if mu is None:\n",
    "        mu = [min(z), max(z)]\n",
    "    if Nmu is None:\n",
    "        Nmu = len(z)\n",
    "    if sig is None:\n",
    "        max_sig = (max(z) - min(z)) / 12.\n",
    "        min_sig = dz / 6.\n",
    "        sig = [min_sig, max_sig]\n",
    "    if Nsig is None:\n",
    "        Nsig = int(np.ceil(2. * (max_sig - min_sig) / dz))\n",
    "\n",
    "    print('Nmu, Nsig, Nv = ', '[', Nmu, ',', Nsig, ',', Nv, ']')\n",
    "    print('Total bases in dictionary', Nmu * Nsig * Nv)\n",
    "\n",
    "    #Create dictionary\n",
    "    print('Creating Dictionary...')\n",
    "    A = qp.utils.create_voigt_basis(z, mu, Nmu, sig, Nsig, Nv)\n",
    "    bigD = {}\n",
    "\n",
    "    Nsparse = 20\n",
    "    Ncoef = 32001\n",
    "    AA = np.linspace(0, 1, Ncoef)\n",
    "    Da = AA[1] - AA[0]\n",
    "\n",
    "    print('Nsparse (number of bases) = ', Nsparse)\n",
    "\n",
    "    bigD['z'] = z\n",
    "    bigD['mu'] = mu\n",
    "    bigD['sig'] = sig\n",
    "    bigD['dims'] = [Nmu, Nsig, Nv, Ncoef]\n",
    "    bigD['N_SPARSE'] = Nsparse\n",
    "    bigD['Ntot'] = Ntot\n",
    "\n",
    "    print('Creating Sparse representation...')\n",
    "\n",
    "    for k in range(Ntot):\n",
    "        bigD[k] = {}\n",
    "        try:\n",
    "            pdf0 = P[k]\n",
    "        except:\n",
    "            continue\n",
    "        \n",
    "        Dind, Dval = qp.utils.sparse_basis(A, pdf0, Nsparse, tolerance=tol)\n",
    "\n",
    "        if len(Dind) <= 1: continue\n",
    "        bigD[k]['sparse'] = [Dind, Dval]\n",
    "        if max(Dval) > 0:\n",
    "            dval0=Dval[0]\n",
    "            Dvalm = Dval / np.max(Dval)\n",
    "            index = np.array(list(map(round, (Dvalm / Da))), dtype='int')\n",
    "            index0=int(round(dval0/Da))\n",
    "            index[0]=index0\n",
    "        else:\n",
    "            index = np.zeros(len(Dind), dtype='int')\n",
    "\n",
    "        bigD[k]['sparse_ind'] = np.array(list(map(qp.utils.combine_int, index, Dind)))\n",
    "    \n",
    "        #swap back columns\n",
    "        A[:, [Dind]] = A[:, [np.arange(len(Dind))]]\n",
    "\n",
    "    #For now, extend the representation into a full 2D array\n",
    "    #This may be removed eventually\n",
    "    ALL = np.zeros((Ntot, Nsparse), dtype='int')\n",
    "    for i in range(Ntot):\n",
    "        if i in bigD:\n",
    "            idd = bigD[i]['sparse_ind']\n",
    "            ALL[i, 0:len(idd)] = idd\n",
    "    print('done')\n",
    "    return ALL, bigD"
   ]
  },
  {
   "cell_type": "code",
   "execution_count": null,
   "id": "powerful-message",
   "metadata": {},
   "outputs": [],
   "source": [
    "ALL, bigD = build_sparse_representation(newz, newpdf)"
   ]
  },
  {
   "cell_type": "markdown",
   "id": "stupid-paris",
   "metadata": {},
   "source": [
    "Now, we use this representation to reconstruct a pdf, and compare to the original one. It is important to note that the sparse representation is *not* a functional representation : one need to start with the grid representation embedded in the sparse representation and interpolate, if one wants to use an arbitrary array of x values for subsequent use."
   ]
  },
  {
   "cell_type": "code",
   "execution_count": null,
   "id": "aquatic-operation",
   "metadata": {},
   "outputs": [],
   "source": [
    "# First create the metadata, so that we have an interface similar \n",
    "#to what will be available when reading back a file.\n",
    "meta = {}\n",
    "#head['N_TOT'] = Ntot\n",
    "meta['z'] = z\n",
    "meta['Nmu'] = bigD['dims'][0]\n",
    "meta['Nsig'] = bigD['dims'][1]\n",
    "meta['Nv'] = bigD['dims'][2]\n",
    "meta['Ncoef'] = bigD['dims'][3]\n",
    "meta['N_SPARSE'] = bigD['N_SPARSE']\n",
    "meta['mu'] = bigD['mu']\n",
    "meta['sig'] = bigD['sig']"
   ]
  },
  {
   "cell_type": "code",
   "execution_count": null,
   "id": "retained-narrow",
   "metadata": {},
   "outputs": [],
   "source": [
    "#Next decode the sparse indices into the voigt shape parameters\n",
    "va, ma, sa, ga = qp.utils.indices2shapes(ALL, meta)\n",
    "#va, ma, sa, ga = indices2shapes(ALL, meta)"
   ]
  },
  {
   "cell_type": "code",
   "execution_count": null,
   "id": "bright-participant",
   "metadata": {},
   "outputs": [],
   "source": [
    "k=3\n",
    "cut=1.e-5\n",
    "pdf = np.zeros_like(newz)\n",
    "for v, m, s, g in zip(va[k],ma[k],sa[k],ga[k]):\n",
    "    pdft = special.voigt_profile(newz - m, s, g)\n",
    "    pdft = np.where(pdft >= cut, pdft, 0.)\n",
    "    pdft = v * pdft / sla.norm(pdft)\n",
    "    pdf += pdft\n",
    "pdf = pdf / sciint.trapz(pdf,newz)\n",
    "#plt.plot(newz,pdf-newpdf[k],'r', linewidth=2)\n",
    "plt.plot(newz,pdf,'r', linewidth=2)\n",
    "plt.plot(newz,newpdf[k], '.')\n",
    "plt.xlim(0,1)\n",
    "title = 'Galaxy example No: %d' % k\n",
    "plt.xlabel('redshift')\n",
    "plt.ylabel('P(z)')\n",
    "plt.title(title);\n"
   ]
  },
  {
   "cell_type": "code",
   "execution_count": null,
   "id": "fantastic-accent",
   "metadata": {},
   "outputs": [],
   "source": [
    "#writing to a fits file, as originally proposed in SparsePz\n",
    "if False:\n",
    "    print('Writing fits file (example_out.fits)')\n",
    "\n",
    "    head = pf.Header()\n",
    "    head['N_TOT'] = Ntot\n",
    "    head['N_MU'] = bigD['dims'][0]\n",
    "    head['N_SIGMA'] = bigD['dims'][1]\n",
    "    head['N_VOIGT'] = bigD['dims'][2]\n",
    "    head['N_COEF'] = bigD['dims'][3]\n",
    "    head['N_SPARSE'] = bigD['N_SPARSE']\n",
    "    head['MU1'] = bigD['mu'][0]\n",
    "    head['MU2'] = bigD['mu'][1]\n",
    "    head['SIGMA1'] = bigD['sig'][0]\n",
    "    head['SIGMA2'] = bigD['sig'][1]\n",
    "\n",
    "    col1 = pf.Column(name='redshift', format='E', array=bigD['z'])\n",
    "    fmt = '%dJ' % bigD['N_SPARSE']\n",
    "    col2 = pf.Column(name='Sparse_indices', format=fmt, array=ALL)\n",
    "    table1 = pf.BinTableHDU.from_columns(pf.ColDefs([col1]))\n",
    "    table2 = pf.BinTableHDU.from_columns(pf.ColDefs([col2]))\n",
    "    prihdu = pf.PrimaryHDU(header=head)\n",
    "    hdulist = pf.HDUList([prihdu, table1, table2])\n",
    "    hdulist.writeto('example_out.fits', overwrite=True)\n"
   ]
  }
 ],
 "metadata": {
  "kernelspec": {
   "display_name": "Python 3",
   "language": "python",
   "name": "python3"
  },
  "language_info": {
   "codemirror_mode": {
    "name": "ipython",
    "version": 3
   },
   "file_extension": ".py",
   "mimetype": "text/x-python",
   "name": "python",
   "nbconvert_exporter": "python",
   "pygments_lexer": "ipython3",
   "version": "3.8.8"
  }
 },
 "nbformat": 4,
 "nbformat_minor": 5
}
