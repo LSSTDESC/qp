{
 "cells": [
  {
   "cell_type": "code",
   "execution_count": 1,
   "id": "constant-findings",
   "metadata": {},
   "outputs": [],
   "source": [
    "import sys, os\n",
    "import qp\n",
    "import numpy as np\n",
    "from scipy import linalg as sla\n",
    "from scipy import special\n",
    "from scipy import integrate as sciint\n",
    "from scipy import interpolate as sciinterp\n",
    "from matplotlib import pylab as plt\n",
    "from astropy.io import fits as pf\n",
    "%matplotlib inline\n",
    "%config Completer.use_jedi = False"
   ]
  },
  {
   "cell_type": "markdown",
   "id": "governmental-empire",
   "metadata": {},
   "source": [
    "We load the data : pdf examples from either qp or the original SparsePz package"
   ]
  },
  {
   "cell_type": "code",
   "execution_count": 2,
   "id": "mysterious-shopping",
   "metadata": {},
   "outputs": [],
   "source": [
    "Ntot = 10 #limit the number of pdfs for testing. Set to -1 to load all pdfs\n",
    "if True:\n",
    "    filein = '/home/cohen/lsst/codes/pipelines/photoz/SparsePz/CFHTLens_sample.P.npy'\n",
    "    #FORMAT FILE, EACH ROW IS THE PDF FOR EACH GALAXY, LAST ROW IS THE REDSHIFT POSITION\n",
    "    P = np.load(filein)\n",
    "    z = P[-1]\n",
    "    P = P[:Ntot]\n",
    "else:\n",
    "    ens = qp.read('qp_test_ensemble.hdf5')\n",
    "    z = ens.metadata()['xvals'][0]\n",
    "    if Ntot != -1:\n",
    "        ens_red = ens[np.arange(Ntot)]\n",
    "    else:\n",
    "        ens_red = ens\n",
    "    P = ens_red.objdata()['yvals']"
   ]
  },
  {
   "cell_type": "markdown",
   "id": "purple-stanford",
   "metadata": {},
   "source": [
    "We want to enforce normalisation, just in case the input pdfs are not properly normalized, and we want to optimize the grid used for sparse representation over the whole considered sample (the same grid needs to be used for every pdf in the sample). We use trapezoidal rule as a fast integrator and likely a sufficient precision for our purpose."
   ]
  },
  {
   "cell_type": "code",
   "execution_count": 3,
   "id": "loved-bunny",
   "metadata": {},
   "outputs": [],
   "source": [
    "P = P/sciint.trapz(P,z).reshape(-1,1)"
   ]
  },
  {
   "cell_type": "code",
   "execution_count": 4,
   "id": "municipal-advocacy",
   "metadata": {},
   "outputs": [],
   "source": [
    "minz = np.min(z)\n",
    "nz = 300\n",
    "i,j=np.where(P>0)\n",
    "maxz=np.max(z[j])\n",
    "newz=np.linspace(minz, maxz, nz)\n",
    "interp = sciinterp.interp1d(z,P, assume_sorted=True)\n",
    "newpdf = interp(newz)\n",
    "newpdf = newpdf / sciint.trapz(newpdf,newz).reshape(-1,1)"
   ]
  },
  {
   "cell_type": "code",
   "execution_count": 5,
   "id": "further-wheel",
   "metadata": {},
   "outputs": [],
   "source": [
    "##check the pdfs if the Ntot is not too large\n",
    "#plt.plot(z,P.T); plt.plot(newz,newpdf.T,'.'); plt.xlim(minz,maxz);"
   ]
  },
  {
   "cell_type": "markdown",
   "id": "short-senator",
   "metadata": {},
   "source": [
    "The following call builds the sparse representation:"
   ]
  },
  {
   "cell_type": "code",
   "execution_count": 6,
   "id": "medium-measurement",
   "metadata": {},
   "outputs": [
    {
     "name": "stdout",
     "output_type": "stream",
     "text": [
      "Total Galaxies =  10\n",
      "dz =  0.005810066889632109\n",
      "Nmu, Nsig, Nv =  [ 300 , 50 , 3 ]\n",
      "Total bases in dictionary 45000\n",
      "Creating Dictionary...\n",
      "Nsparse (number of bases) =  20\n",
      "Creating Sparse representation...\n",
      "done\n"
     ]
    }
   ],
   "source": [
    "ALL, bigD = qp.utils.build_sparse_representation(newz, newpdf)"
   ]
  },
  {
   "cell_type": "markdown",
   "id": "bigger-realtor",
   "metadata": {},
   "source": [
    "Now, we use this representation to reconstruct a pdf, and compare to the original one. It is important to note that the sparse representation is *not* a functional representation : one need to start with the grid representation embedded in the sparse representation and interpolate, if one wants to use an arbitrary array of x values for subsequent use."
   ]
  },
  {
   "cell_type": "code",
   "execution_count": 7,
   "id": "younger-founder",
   "metadata": {},
   "outputs": [],
   "source": [
    "#Next decode the sparse indices into the voigt shape parameters\n",
    "va, ma, sa, ga = qp.utils.indices2shapes(ALL, bigD)\n",
    "#va, ma, sa, ga = indices2shapes(ALL, meta)"
   ]
  },
  {
   "cell_type": "code",
   "execution_count": 18,
   "id": "defensive-sapphire",
   "metadata": {},
   "outputs": [
    {
     "data": {
      "image/png": "[encoded data removed]",
      "text/plain": [
       "<Figure size 432x288 with 1 Axes>"
      ]
     },
     "metadata": {
      "needs_background": "light"
     },
     "output_type": "display_data"
    }
   ],
   "source": [
    "k=0\n",
    "cut=1.e-5\n",
    "#this is the original grid, needed here to plot the original pdf\n",
    "z = bigD['z']\n",
    "#Choose a new grid to evaluate the PDF\n",
    "newz = np.linspace(0,0.5,5000)\n",
    "pdf = np.zeros_like(newz)\n",
    "for v, m, s, g in zip(va[k],ma[k],sa[k],ga[k]):\n",
    "    pdft = special.voigt_profile(newz - m, s, g)\n",
    "    pdft = np.where(pdft >= cut, pdft, 0.)\n",
    "    pdft = v * pdft / sla.norm(pdft)\n",
    "    pdf += pdft\n",
    "pdf = pdf / sciint.trapz(pdf,newz)\n",
    "#plt.plot(newz,pdf-newpdf[k],'r', linewidth=2)\n",
    "plt.plot(newz,pdf,'.', linewidth=2)\n",
    "plt.plot(z,newpdf[k], '-')\n",
    "plt.xlim(0,1)\n",
    "title = 'Galaxy example No: %d' % k\n",
    "plt.xlabel('redshift')\n",
    "plt.ylabel('P(z)')\n",
    "plt.title(title);\n"
   ]
  },
  {
   "cell_type": "code",
   "execution_count": null,
   "id": "organic-period",
   "metadata": {},
   "outputs": [],
   "source": [
    "#writing to a fits file, as originally proposed in SparsePz\n",
    "if False:\n",
    "    print('Writing fits file (example_out.fits)')\n",
    "\n",
    "    head = pf.Header()\n",
    "    head['N_TOT'] = Ntot\n",
    "    head['N_MU'] = bigD['dims'][0]\n",
    "    head['N_SIGMA'] = bigD['dims'][1]\n",
    "    head['N_VOIGT'] = bigD['dims'][2]\n",
    "    head['N_COEF'] = bigD['dims'][3]\n",
    "    head['N_SPARSE'] = bigD['N_SPARSE']\n",
    "    head['MU1'] = bigD['mu'][0]\n",
    "    head['MU2'] = bigD['mu'][1]\n",
    "    head['SIGMA1'] = bigD['sig'][0]\n",
    "    head['SIGMA2'] = bigD['sig'][1]\n",
    "\n",
    "    col1 = pf.Column(name='redshift', format='E', array=bigD['z'])\n",
    "    fmt = '%dJ' % bigD['N_SPARSE']\n",
    "    col2 = pf.Column(name='Sparse_indices', format=fmt, array=ALL)\n",
    "    table1 = pf.BinTableHDU.from_columns(pf.ColDefs([col1]))\n",
    "    table2 = pf.BinTableHDU.from_columns(pf.ColDefs([col2]))\n",
    "    prihdu = pf.PrimaryHDU(header=head)\n",
    "    hdulist = pf.HDUList([prihdu, table1, table2])\n",
    "    hdulist.writeto('example_out.fits', overwrite=True)\n"
   ]
  }
 ],
 "metadata": {
  "kernelspec": {
   "display_name": "Python 3",
   "language": "python",
   "name": "python3"
  },
  "language_info": {
   "codemirror_mode": {
    "name": "ipython",
    "version": 3
   },
   "file_extension": ".py",
   "mimetype": "text/x-python",
   "name": "python",
   "nbconvert_exporter": "python",
   "pygments_lexer": "ipython3",
   "version": "3.8.8"
  }
 },
 "nbformat": 4,
 "nbformat_minor": 5
}
