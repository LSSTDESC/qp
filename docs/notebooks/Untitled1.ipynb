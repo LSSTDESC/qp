{
 "cells": [
  {
   "cell_type": "code",
   "execution_count": 51,
   "id": "handled-vancouver",
   "metadata": {},
   "outputs": [],
   "source": [
    "import sys\n",
    "sys.path.append('/home/cohen/lsst/codes/pipelines/photoz/SparsePz')\n",
    "import numpy as np\n",
    "from scipy import linalg as sla\n",
    "from matplotlib import pylab as plt\n",
    "%matplotlib inline"
   ]
  },
  {
   "cell_type": "code",
   "execution_count": 25,
   "id": "valuable-brooklyn",
   "metadata": {},
   "outputs": [],
   "source": [
    "import pdf_storage as ps\n",
    "import sys, os\n",
    "\n",
    "try:\n",
    "    from mpi4py import MPI\n",
    "\n",
    "    PLL = 'MPI'\n",
    "except ImportError:\n",
    "    PLL = 'SERIAL'\n",
    "from astropy.io import fits as pf\n"
   ]
  },
  {
   "cell_type": "code",
   "execution_count": 26,
   "id": "wooden-albany",
   "metadata": {},
   "outputs": [],
   "source": [
    "def get_limits(ntot, Nproc, rank):\n",
    "    \"\"\"\n",
    "    Get limits for farming an array to multiple processors\n",
    "\n",
    "    :param int ntot: Number of objects in array\n",
    "    :param int Nproc: number of processor\n",
    "    :param int rank: current processor id\n",
    "    :return: L1,L2 the limits of the array for given processor\n",
    "    :rtype: int, int\n",
    "    \"\"\"\n",
    "    jpproc = zeros(Nproc) + int(ntot / Nproc)\n",
    "    for i in range(Nproc):\n",
    "        if (i < ntot % Nproc): jpproc[i] += 1\n",
    "    jpproc = list(map(int, jpproc))\n",
    "    st = rank\n",
    "    st = sum(jpproc[:rank]) - 1\n",
    "    s0 = int(st + 1)\n",
    "    s1 = int(st + jpproc[rank]) + 1\n",
    "    return s0, s1"
   ]
  },
  {
   "cell_type": "code",
   "execution_count": 28,
   "id": "centered-guyana",
   "metadata": {},
   "outputs": [
    {
     "name": "stdout",
     "output_type": "stream",
     "text": [
      "Total Galaxies =  100\n",
      "dz =  0.010995000000000005\n",
      "Nmu, Nsig, Nv =  [ 250 , 80 , 3 ]\n",
      "Total bases in dictionary 60000\n",
      "Creating Dictionary...\n",
      "Nsparse (number of bases) =  20\n",
      "0   100  -------------> to core  0\n",
      "Creating Sparse representation...\n",
      "Done with processor:  0\n"
     ]
    }
   ],
   "source": [
    "if PLL == 'MPI':\n",
    "    comm = MPI.COMM_WORLD\n",
    "    size = comm.Get_size()\n",
    "    rank = comm.Get_rank()\n",
    "else:\n",
    "    size = 1\n",
    "    rank = 0\n",
    "\n",
    "filein = '/home/cohen/lsst/codes/pipelines/photoz/SparsePz/CFHTLens_sample.P.npy'\n",
    "#FORMAT FILE, EACH ROW IS THE PDF FOR EACH GALAXY, LAST ROW IS THE REDSHIFT POSITION\n",
    "\n",
    "P = load(filein)\n",
    "Ntot = len(P) - 1 #last row is redshift\n",
    "\n",
    "if rank == 0:\n",
    "    print(\"Total Galaxies = \", Ntot)\n",
    "z = P[-1]\n",
    "dz = z[1] - z[0]\n",
    "if rank == 0:\n",
    "    print('dz = ', dz)\n",
    "\n",
    "mu = [min(z), max(z)]\n",
    "Nmu = 250 #len(z)\n",
    "max_sig = (max(z) - min(z)) / 12.\n",
    "min_sig = dz / 6.\n",
    "Nsig = int(ceil(2. * (max_sig - min_sig) / dz))\n",
    "sig = [min_sig, max_sig]\n",
    "Nv = 3\n",
    "Nsig = 80\n",
    "NA = Nmu * Nsig * Nv\n",
    "\n",
    "if rank == 0:\n",
    "    print('Nmu, Nsig, Nv = ', '[', Nmu, ',', Nsig, ',', Nv, ']')\n",
    "    print('Total bases in dictionary', NA)\n",
    "\n",
    "#Create dictionary\n",
    "if rank == 0:\n",
    "    print('Creating Dictionary...')\n",
    "A = ps.create_voigt_dict(z, mu, Nmu, sig, Nsig, Nv)\n",
    "bigD = {}\n",
    "\n",
    "toler = 1.e-10\n",
    "Nsparse = 20\n",
    "Ncoef = 32001\n",
    "AA = linspace(0, 1, Ncoef)\n",
    "Da = AA[1] - AA[0]\n",
    "\n",
    "if rank == 0:\n",
    "    print('Nsparse (number of bases) = ', Nsparse)\n",
    "\n",
    "bigD['z'] = z\n",
    "bigD['mu'] = mu\n",
    "bigD['sig'] = sig\n",
    "bigD['dims'] = [Nmu, Nsig, Nv, Ncoef]\n",
    "bigD['N_SPARSE'] = Nsparse\n",
    "bigD['Ntot'] = Ntot\n",
    "\n",
    "if rank == 0:\n",
    "    for i in range(size):\n",
    "        Xs_0, Xs_1 = get_limits(Ntot, size, i)\n",
    "        print(Xs_0, ' ', Xs_1, ' -------------> to core ', i)\n",
    "\n",
    "s0, s1 = get_limits(Ntot, size, rank)\n",
    "P = P[s0:s1]\n",
    "\n",
    "if rank == 0:\n",
    "    print('Creating Sparse representation...')\n",
    "\n",
    "for ik in range(Ntot):\n",
    "    k = s0 + ik\n",
    "    bigD[k] = {}\n",
    "    try:\n",
    "        pdf0 = P[ik]\n",
    "    except:\n",
    "        continue\n",
    "    if np.sum(pdf0) > 0:\n",
    "        pdf0 /= np.sum(pdf0)\n",
    "    else:\n",
    "        continue\n",
    "        \n",
    "    Dind, Dval = ps.sparse_basis(A, pdf0, Nsparse)\n",
    "    if len(Dind) <= 1: continue\n",
    "    bigD[k]['sparse'] = [Dind, Dval]\n",
    "    if max(Dval) > 0:\n",
    "        dval0=Dval[0]\n",
    "        Dvalm = Dval / np.max(Dval)\n",
    "        index = np.array(list(map(round, (Dvalm / Da))), dtype='int')\n",
    "        index0=int(round(dval0/Da))\n",
    "        index[0]=index0\n",
    "    else:\n",
    "        index = np.zeros(len(Dind), dtype='int')\n",
    "    bigD[k]['sparse_ind'] = np.array(list(map(ps.combine_int, index, Dind)))\n",
    "\n",
    "    #swap back columns\n",
    "    A[:, [Dind]] = A[:, [np.arange(len(Dind))]]\n",
    "\n",
    "print('Done with processor: ', rank)\n",
    "if PLL == 'MPI': comm.Barrier()\n",
    "\n",
    "if PLL == 'MPI':\n",
    "    if rank == 0:\n",
    "        for srank in np.arange(1, size):\n",
    "            temp = comm.recv(source=srank, tag=srank * 2)\n",
    "            bigD.update(temp)\n",
    "            del temp\n",
    "    else:\n",
    "        comm.send(bigD, dest=0, tag=rank * 2)\n",
    "    comm.Barrier()\n",
    "\n",
    "\n",
    "if PLL == 'MPI':\n",
    "    comm.Barrier()\n",
    "    MPI.Finalize()\n"
   ]
  },
  {
   "cell_type": "code",
   "execution_count": 30,
   "id": "north-director",
   "metadata": {},
   "outputs": [],
   "source": [
    "ALL = np.zeros((Ntot, Nsparse), dtype='int')\n",
    "for i in range(Ntot):\n",
    "    if i in bigD:\n",
    "        idd = bigD[i]['sparse_ind']\n",
    "        ALL[i, 0:len(idd)] = idd"
   ]
  },
  {
   "cell_type": "code",
   "execution_count": 43,
   "id": "executive-administrator",
   "metadata": {},
   "outputs": [],
   "source": [
    "meta = {}\n",
    "#head['N_TOT'] = Ntot\n",
    "meta['z'] = z\n",
    "meta['Nmu'] = bigD['dims'][0]\n",
    "meta['Nsig'] = bigD['dims'][1]\n",
    "meta['Nv'] = bigD['dims'][2]\n",
    "meta['Ncoef'] = bigD['dims'][3]\n",
    "meta['N_SPARSE'] = bigD['N_SPARSE']\n",
    "meta['mu'] = bigD['mu']\n",
    "meta['sig'] = bigD['sig']"
   ]
  },
  {
   "cell_type": "code",
   "execution_count": 49,
   "id": "included-bridge",
   "metadata": {},
   "outputs": [
    {
     "name": "stdout",
     "output_type": "stream",
     "text": [
      "200\n"
     ]
    },
    {
     "ename": "TypeError",
     "evalue": "ufunc 'right_shift' not supported for the input types, and the inputs could not be safely coerced to any supported types according to the casting rule ''safe''",
     "output_type": "error",
     "traceback": [
      "\u001b[0;31m---------------------------------------------------------------------------\u001b[0m",
      "\u001b[0;31mTypeError\u001b[0m                                 Traceback (most recent call last)",
      "\u001b[0;32m<ipython-input-49-4ca3ad6a145f>\u001b[0m in \u001b[0;36m<module>\u001b[0;34m\u001b[0m\n\u001b[1;32m      2\u001b[0m \u001b[0mk\u001b[0m\u001b[0;34m=\u001b[0m\u001b[0;36m0\u001b[0m\u001b[0;34m\u001b[0m\u001b[0;34m\u001b[0m\u001b[0m\n\u001b[1;32m      3\u001b[0m \u001b[0mprint\u001b[0m\u001b[0;34m(\u001b[0m\u001b[0mlen\u001b[0m\u001b[0;34m(\u001b[0m\u001b[0mP\u001b[0m\u001b[0;34m[\u001b[0m\u001b[0mk\u001b[0m\u001b[0;34m]\u001b[0m\u001b[0;34m)\u001b[0m\u001b[0;34m)\u001b[0m\u001b[0;34m\u001b[0m\u001b[0;34m\u001b[0m\u001b[0m\n\u001b[0;32m----> 4\u001b[0;31m \u001b[0mrep_pdf\u001b[0m \u001b[0;34m=\u001b[0m \u001b[0mps\u001b[0m\u001b[0;34m.\u001b[0m\u001b[0mreconstruct_pdf_int\u001b[0m\u001b[0;34m(\u001b[0m\u001b[0mP\u001b[0m\u001b[0;34m[\u001b[0m\u001b[0mk\u001b[0m\u001b[0;34m]\u001b[0m\u001b[0;34m,\u001b[0m \u001b[0mmeta\u001b[0m\u001b[0;34m)\u001b[0m\u001b[0;34m\u001b[0m\u001b[0;34m\u001b[0m\u001b[0m\n\u001b[0m",
      "\u001b[0;32m~/lsst/codes/pipelines/photoz/SparsePz/pdf_storage.py\u001b[0m in \u001b[0;36mreconstruct_pdf_int\u001b[0;34m(long_index, header, cut)\u001b[0m\n\u001b[1;32m    256\u001b[0m     \u001b[0mVALS\u001b[0m \u001b[0;34m=\u001b[0m \u001b[0mlinspace\u001b[0m\u001b[0;34m(\u001b[0m\u001b[0;36m0\u001b[0m\u001b[0;34m,\u001b[0m \u001b[0;36m1\u001b[0m\u001b[0;34m,\u001b[0m \u001b[0mNcoef\u001b[0m\u001b[0;34m)\u001b[0m\u001b[0;34m\u001b[0m\u001b[0;34m\u001b[0m\u001b[0m\n\u001b[1;32m    257\u001b[0m     \u001b[0mdVals\u001b[0m \u001b[0;34m=\u001b[0m \u001b[0mVALS\u001b[0m\u001b[0;34m[\u001b[0m\u001b[0;36m1\u001b[0m\u001b[0;34m]\u001b[0m \u001b[0;34m-\u001b[0m \u001b[0mVALS\u001b[0m\u001b[0;34m[\u001b[0m\u001b[0;36m0\u001b[0m\u001b[0;34m]\u001b[0m\u001b[0;34m\u001b[0m\u001b[0;34m\u001b[0m\u001b[0m\n\u001b[0;32m--> 258\u001b[0;31m     \u001b[0msp_ind\u001b[0m \u001b[0;34m=\u001b[0m \u001b[0marray\u001b[0m\u001b[0;34m(\u001b[0m\u001b[0mlist\u001b[0m\u001b[0;34m(\u001b[0m\u001b[0mmap\u001b[0m\u001b[0;34m(\u001b[0m\u001b[0mget_N\u001b[0m\u001b[0;34m,\u001b[0m \u001b[0mlong_index\u001b[0m\u001b[0;34m)\u001b[0m\u001b[0;34m)\u001b[0m\u001b[0;34m)\u001b[0m\u001b[0;34m\u001b[0m\u001b[0;34m\u001b[0m\u001b[0m\n\u001b[0m\u001b[1;32m    259\u001b[0m     \u001b[0mspi\u001b[0m \u001b[0;34m=\u001b[0m \u001b[0msp_ind\u001b[0m\u001b[0;34m[\u001b[0m\u001b[0;34m:\u001b[0m\u001b[0;34m,\u001b[0m \u001b[0;36m0\u001b[0m\u001b[0;34m]\u001b[0m\u001b[0;34m\u001b[0m\u001b[0;34m\u001b[0m\u001b[0m\n\u001b[1;32m    260\u001b[0m     \u001b[0mDind2\u001b[0m \u001b[0;34m=\u001b[0m \u001b[0msp_ind\u001b[0m\u001b[0;34m[\u001b[0m\u001b[0;34m:\u001b[0m\u001b[0;34m,\u001b[0m \u001b[0;36m1\u001b[0m\u001b[0;34m]\u001b[0m\u001b[0;34m\u001b[0m\u001b[0;34m\u001b[0m\u001b[0m\n",
      "\u001b[0;32m~/lsst/codes/pipelines/photoz/SparsePz/pdf_storage.py\u001b[0m in \u001b[0;36mget_N\u001b[0;34m(longN)\u001b[0m\n\u001b[1;32m    422\u001b[0m     \u001b[0;34m:\u001b[0m\u001b[0;32mreturn\u001b[0m\u001b[0;34m:\u001b[0m \u001b[0mNcoef\u001b[0m\u001b[0;34m,\u001b[0m \u001b[0mNbase\u001b[0m \u001b[0mboth\u001b[0m \u001b[0;36m16\u001b[0m \u001b[0mbits\u001b[0m \u001b[0minteger\u001b[0m\u001b[0;34m\u001b[0m\u001b[0;34m\u001b[0m\u001b[0m\n\u001b[1;32m    423\u001b[0m     \"\"\"\n\u001b[0;32m--> 424\u001b[0;31m     \u001b[0;32mreturn\u001b[0m \u001b[0;34m(\u001b[0m\u001b[0mlongN\u001b[0m \u001b[0;34m>>\u001b[0m \u001b[0;36m16\u001b[0m\u001b[0;34m)\u001b[0m\u001b[0;34m,\u001b[0m \u001b[0;34m(\u001b[0m\u001b[0mlongN\u001b[0m \u001b[0;34m&\u001b[0m \u001b[0;34m(\u001b[0m\u001b[0;36m2\u001b[0m \u001b[0;34m**\u001b[0m \u001b[0;36m16\u001b[0m \u001b[0;34m-\u001b[0m \u001b[0;36m1\u001b[0m\u001b[0;34m)\u001b[0m\u001b[0;34m)\u001b[0m\u001b[0;34m\u001b[0m\u001b[0;34m\u001b[0m\u001b[0m\n\u001b[0m\u001b[1;32m    425\u001b[0m \u001b[0;34m\u001b[0m\u001b[0m\n\u001b[1;32m    426\u001b[0m \u001b[0;34m\u001b[0m\u001b[0m\n",
      "\u001b[0;31mTypeError\u001b[0m: ufunc 'right_shift' not supported for the input types, and the inputs could not be safely coerced to any supported types according to the casting rule ''safe''"
     ]
    }
   ],
   "source": [
    "#Now build a voigt representation based on the sparse index and plot it\n",
    "k=0\n",
    "print(len(P[k]))\n",
    "rep_pdf = ps.reconstruct_pdf_int(P[k], meta)"
   ]
  },
  {
   "cell_type": "code",
   "execution_count": 53,
   "id": "ahead-navigation",
   "metadata": {},
   "outputs": [
    {
     "data": {
      "image/png": "[encoded data removed]",
      "text/plain": [
       "<Figure size 432x288 with 1 Axes>"
      ]
     },
     "metadata": {
      "needs_background": "light"
     },
     "output_type": "display_data"
    }
   ],
   "source": [
    "plt.plot(z, P[k] / sum(P[k]), label='original')\n",
    "#plt.plot(z, rep_pdf, label='Sparse rep')\n",
    "plt.xlabel('redshift')\n",
    "plt.ylabel('P(z)')\n",
    "plt.legend(loc=0)\n",
    "title = 'Galaxy example No: %d' % k\n",
    "plt.title(title);\n"
   ]
  },
  {
   "cell_type": "code",
   "execution_count": null,
   "id": "cultural-sarah",
   "metadata": {},
   "outputs": [],
   "source": [
    "if False:\n",
    "    print('Writing fits file (example_out.fits)')\n",
    "\n",
    "    head = pf.Header()\n",
    "    head['N_TOT'] = Ntot\n",
    "    head['N_MU'] = bigD['dims'][0]\n",
    "    head['N_SIGMA'] = bigD['dims'][1]\n",
    "    head['N_VOIGT'] = bigD['dims'][2]\n",
    "    head['N_COEF'] = bigD['dims'][3]\n",
    "    head['N_SPARSE'] = bigD['N_SPARSE']\n",
    "    head['MU1'] = bigD['mu'][0]\n",
    "    head['MU2'] = bigD['mu'][1]\n",
    "    head['SIGMA1'] = bigD['sig'][0]\n",
    "    head['SIGMA2'] = bigD['sig'][1]\n",
    "\n",
    "    col1 = pf.Column(name='redshift', format='E', array=bigD['z'])\n",
    "    fmt = '%dJ' % bigD['N_SPARSE']\n",
    "    col2 = pf.Column(name='Sparse_indices', format=fmt, array=ALL)\n",
    "    table1 = pf.BinTableHDU.from_columns(pf.ColDefs([col1]))\n",
    "    table2 = pf.BinTableHDU.from_columns(pf.ColDefs([col2]))\n",
    "    prihdu = pf.PrimaryHDU(header=head)\n",
    "    hdulist = pf.HDUList([prihdu, table1, table2])\n",
    "    hdulist.writeto('example_out.fits', clobber=True)\n"
   ]
  }
 ],
 "metadata": {
  "kernelspec": {
   "display_name": "Python 3",
   "language": "python",
   "name": "python3"
  },
  "language_info": {
   "codemirror_mode": {
    "name": "ipython",
    "version": 3
   },
   "file_extension": ".py",
   "mimetype": "text/x-python",
   "name": "python",
   "nbconvert_exporter": "python",
   "pygments_lexer": "ipython3",
   "version": "3.8.8"
  }
 },
 "nbformat": 4,
 "nbformat_minor": 5
}
