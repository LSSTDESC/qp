{
 "cells": [
  {
   "cell_type": "markdown",
   "metadata": {},
   "source": [
    "# `qp` Demo\n",
    "\n",
    "In this notebook we use the `qp` module to approximate some standard 1-D PDFs using sets of quantiles, and assess the accuracy of the quantile parametrization(TM).\n",
    "\n",
    "### Requirements\n",
    "\n",
    "To run `qp`, you will need to first install the module. "
   ]
  },
  {
   "cell_type": "code",
   "execution_count": null,
   "metadata": {
    "collapsed": false
   },
   "outputs": [],
   "source": [
    "import numpy as np\n",
    "import scipy.stats as sps\n",
    "import scipy.interpolate as spi\n",
    "\n",
    "import matplotlib\n",
    "matplotlib.use('Agg')\n",
    "import matplotlib.pyplot as plt\n",
    "%matplotlib inline\n",
    "\n",
    "import pdf"
   ]
  },
  {
   "cell_type": "markdown",
   "metadata": {},
   "source": [
    "## The `qp.PDF` Class\n",
    "\n",
    "This is the basic element of `qp` - an object representing a probability density function. This class is stored in the module `pdf.py`, which you can read here if you want."
   ]
  },
  {
   "cell_type": "code",
   "execution_count": null,
   "metadata": {
    "collapsed": false
   },
   "outputs": [],
   "source": [
    "# This now exists in a separate module.  Classes will not appear in the notebook!\n",
    "\n",
    "# import numpy as np\n",
    "# import matplotlib.pyplot as plt\n",
    "\n",
    "# class PDF(object):\n",
    "\n",
    "#     def __init__(self, truth=None):\n",
    "#         self.truth = truth\n",
    "\n",
    "#     def evaluate(self, loc):#PDF\n",
    "\n",
    "#         return\n",
    "\n",
    "#     def integrate(self, limits):#CDF\n",
    "\n",
    "#         return\n",
    "\n",
    "#     def quantize(self, num_points):#inverse CDF (PPF)\n",
    "\n",
    "#         quanta = 1./num_points\n",
    "#         points = np.linspace(0.+quanta, 1.-quanta, num_points)\n",
    "#         print(points)\n",
    "#         self.quantiles = self.truth.ppf(points)\n",
    "#         print(self.quantiles)\n",
    "\n",
    "#         return self.quantiles\n",
    "\n",
    "#     def interpolate(self):\n",
    "\n",
    "#         return\n",
    "\n",
    "#     def plot(self, limits, num_points):\n",
    "\n",
    "#         x = np.linspace(limits[0], limits[1], 100)\n",
    "\n",
    "#         y = [0., 1.]\n",
    "#         plt.plot(x, self.truth.pdf(x), color='k', linestyle='-', lw=1., alpha=1., label='true pdf')\n",
    "#         plt.vlines(self.quantize(num_points), y[0], y[1], color='k', linestyle='--', lw=1., alpha=1., label='quantiles')\n",
    "#         plt.legend()\n",
    "#         plt.xlabel('x')\n",
    "#         plt.ylabel('probability density')\n",
    "#         plt.savefig('plot.png')\n",
    "\n",
    "#         return# !cat pdf.py"
   ]
  },
  {
   "cell_type": "markdown",
   "metadata": {},
   "source": [
    "## Approximating a Gaussian\n",
    "\n",
    "Let's summon a PDF object, and initialize it with a standard functiom - a Gaussian."
   ]
  },
  {
   "cell_type": "code",
   "execution_count": null,
   "metadata": {
    "collapsed": false
   },
   "outputs": [],
   "source": [
    "dist = sps.norm(loc=0, scale=1)\n",
    "P = pdf.PDF(truth=dist)"
   ]
  },
  {
   "cell_type": "markdown",
   "metadata": {},
   "source": [
    "Now, let's compute a set of evenly spaced quantiles. These will be carried by the `PDF` object as `p.quantiles`."
   ]
  },
  {
   "cell_type": "code",
   "execution_count": null,
   "metadata": {
    "collapsed": false
   },
   "outputs": [],
   "source": [
    "quantiles = P.quantize(percent=10)"
   ]
  },
  {
   "cell_type": "markdown",
   "metadata": {},
   "source": [
    "Let's visualize the PDF object in order to compare the truth and the approximation."
   ]
  },
  {
   "cell_type": "code",
   "execution_count": null,
   "metadata": {
    "collapsed": false
   },
   "outputs": [],
   "source": [
    "bounds = (-5.0, 5.0)\n",
    "npoints = 9\n",
    "P.plot(limits=bounds)"
   ]
  },
  {
   "cell_type": "markdown",
   "metadata": {},
   "source": [
    "The dashed lines show the 10 percentiles that we asked for. 10% of the total probability mass is enclosed between each pair. Note that the quantiles refer to the probability distribution *between the bounds*, because we are not able to integrate numerically over an infinite range.  "
   ]
  },
  {
   "cell_type": "code",
   "execution_count": null,
   "metadata": {
    "collapsed": true
   },
   "outputs": [],
   "source": []
  }
 ],
 "metadata": {
  "kernelspec": {
   "display_name": "Python 2",
   "language": "python",
   "name": "python2"
  },
  "language_info": {
   "codemirror_mode": {
    "name": "ipython",
    "version": 2
   },
   "file_extension": ".py",
   "mimetype": "text/x-python",
   "name": "python",
   "nbconvert_exporter": "python",
   "pygments_lexer": "ipython2",
   "version": "2.7.12"
  }
 },
 "nbformat": 4,
 "nbformat_minor": 0
}
